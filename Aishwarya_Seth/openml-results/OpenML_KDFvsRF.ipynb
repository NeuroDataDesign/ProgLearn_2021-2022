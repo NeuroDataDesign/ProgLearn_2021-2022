{
 "cells": [
  {
   "cell_type": "code",
   "execution_count": null,
   "metadata": {},
   "outputs": [],
   "source": [
    "#Jupyter Notebook listing the Datasets in OpenML-CC18 & their significant properties\n",
    "#Reference link: https://www.openml.org/s/99/data"
   ]
  },
  {
   "cell_type": "markdown",
   "metadata": {},
   "source": [
    "The inclusion criteria are: \n",
    "* classification tasks on dense data set independent observations  \n",
    "* number of classes >= 2, each class with at least 20 observations and ratio of minority to majority class must exceed 5%  \n",
    "* 500 <= number of observations <= 100000  \n",
    "* number of features after one-hot-encoding < 5000  \n",
    "* no artificial data sets \n",
    "* no subsets of larger data sets nor binarizations of other data sets  \n",
    "* no data sets which are perfectly predictable by using a single feature or by using a simple decision tree * source or reference available"
   ]
  },
  {
   "cell_type": "code",
   "execution_count": null,
   "metadata": {},
   "outputs": [],
   "source": [
    "#Note: Task ID updated to match that returned by the OpenML function. If not executed, the one listed on the OpenML website was used. \n",
    "#Some datasets did not execute (17 of them) because they were too long or maxed out the RAM on Google Colab. "
   ]
  },
  {
   "cell_type": "markdown",
   "metadata": {},
   "source": [
    "| Sl. No.  |  Task / Dataset ID  |  Name of Dataset  |  Number of Input Features  |  Number of Nominal (Categorical) Features  | mean accuracy rf | std accuracy rf | mean accuracy kdf | std accuracy kdf | Executed? | task_id (from OpenML execution) | dataset name |\n",
    "| :-: |  :-: | :-: | :-: | :-: | :-: | :-: | :-: | :-: | :-: | :-: | :-: |\n",
    "| 1 | 3 |  kr-vs-kp  | 36 | 36 | 0.990927704 | 0.004729651 | 0.992182602 | 0.007162208 | 0 | 3 | kr-vs-kp | \n",
    "| 2 | 6 |  letter  | 16 | 0 | 0.96825 | 0.00303521 | 0.98275 | 0.001691892 | 0 | 6 | letter | \n",
    "| 3 | 11 |  balance-scale  | 4 | 0 | 0.814541731 | 0.025901015 | 0.897567844 | 0.014843851 | 0 | 11 | balance-scale | \n",
    "| 4 | 12 |  mfeat-factors  | 216 | 0 | 0.97 | 0.0083666 | 0.789 | 0.016703293 | 0 | 12 | mfeat-factors | \n",
    "| 5 | 14 |  mfeat-fourier  | 76 | 0 | 0.8355 | 0.023070544 | 0.8415 | 0.022254213 | 0 | 14 | mfeat-fourier | \n",
    "| 6 | 15 |  breast-w  | 9 | 0 | ValueError in Execution | ValueError in Execution | ValueError in Execution | ValueError in Execution | 0 | 15 | breast-w | \n",
    "| 7 | 16 |  mfeat-karhunen  | 64 | 0 | 0.964 | 0.008306624 | 0.981 | 0.007348469 | 0 | 16 | mfeat-karhunen | \n",
    "| 8 | 18 |  mfeat-morphological  | 6 | 0 | 0.708 | 0.029512709 | 0.4115 | 0.030581857 | 0 | 18 | mfeat-morphological | \n",
    "| 9 | 22 |  mfeat-zernike  | 47 | 0 | 0.7765 | 0.031468238 | 0.8185 | 0.027023138 | 0 | 22 | mfeat-zernike | \n",
    "| 10 | 23 |  cmc  | 9 | 7 | 0.529578047 | 0.028504952 | 0.494208494 | 0.027733561 | 0 | 23 | cmc | \n",
    "| 11 | 28 |  optdigits  | 64 | 0 | 0.984519573 | 0.004574719 | 0.990391459 | 0.004300016 | 0 | 28 | optdigits | \n",
    "| 12 | 29 |  credit-approval  | 15 | 9 | ValueError in Execution | ValueError in Execution | ValueError in Execution | ValueError in Execution | 0 | 29 | credit-approval | \n",
    "| 13 | 31 |  credit-g  | 20 | 13 | 0.764 | 0.030066593 | 0.7 | 0 | 0 | 31 | credit-g | \n",
    "| 14 | 32 |  pendigits  | 16 | 0 | 0.99226735 | 0.001737013 | 0.994814211 | 0.001630728 | 0 | 32 | pendigits | \n",
    "| 15 | 37 |  diabetes  | 8 | 0 | 0.763072454 | 0.042388268 | 0.751281613 | 0.02646773 | 0 | 37 | diabetes | \n",
    "| 16 | 43 |  spambase  | 57 | 0 | 0.954789682 | 0.010288338 | 0.678328303 | 0.040584043 | 0 | 43 | spambase | \n",
    "| 17 | 45 |  splice  | 60 | 60 | 0.956426332 | 0.010439389 | 0.92476489 | 0.011127423 | 0 | 45 | splice | \n",
    "| 18 | 49 |  tic-tac-toe  | 9 | 9 | 0.954057018 | 0.018800013 | 0.854901316 | 0.024512308 | 0 | 49 | tic-tac-toe | \n",
    "| 19 | 53 |  vehicle  | 18 | 0 | 0.754061625 | 0.040175089 | 0.773011204 | 0.042955209 | 0 | 53 | vehicle | \n",
    "| 20 | 219 |  electricity  | 8 | 1 | 0.91282659 | 0.005717615 | 0.712415993 | 0.007767207 | 0 | 219 | electricity | \n",
    "| 21 | 2074 |  satimage  | 36 | 0 | 0.919595645 | 0.009175739 | 0.91088647 | 0.008716116 | 0 | 2074 | satimage | \n",
    "| 22 | 2079 |  eucalyptus  | 19 | 5 | ValueError in Execution | ValueError in Execution | ValueError in Execution | ValueError in Execution | 0 | 2079 | eucalyptus | \n",
    "| 23 | 3021 |  sick  | 29 | 22 | ValueError in Execution | ValueError in Execution | ValueError in Execution | ValueError in Execution | 0 | 3021 | sick | \n",
    "| 24 | 300 |  isolet  | 617 | 0 | Maxed out RAM -- Yet to Execute | Maxed out RAM -- Yet to Execute | Maxed out RAM -- Yet to Execute | Maxed out RAM -- Yet to Execute | 1 |  | isolet | \n",
    "| 25 | 3022 |  vowel  | 12 | 2 | 0.974747475 | 0.013738859 | 0.968686869 | 0.018870244 | 0 | 3022 | vowel | \n",
    "| 26 | 3549 |  analcatdata_authorship  | 70 | 0 | 0.991680672 | 0.00929263 | 0.988109244 | 0.009221485 | 0 | 3549 | analcatdata_authorship | \n",
    "| 27 | 3560 |  analcatdata_dmft  | 4 | 4 | 0.190727848 | 0.030762375 | 0.189509494 | 0.05309727 | 0 | 3560 | analcatdata_dmft | \n",
    "| 28 | 554 |  mnist_784  | 784 | 0 | Maxed out RAM -- Yet to Execute | Maxed out RAM -- Yet to Execute | Maxed out RAM -- Yet to Execute | Maxed out RAM -- Yet to Execute | 1 |  | mnist_784 | \n",
    "| 29 | 3902 |  pc4  | 37 | 0 | 0.91014171 | 0.011722175 | 0.165318847 | 0.01746871 | 0 | 3902 | pc4 | \n",
    "| 30 | 3903 |  pc3  | 37 | 0 | 0.90144537 | 0.014541502 | 0.150216397 | 0.060651612 | 0 | 3903 | pc3 | \n",
    "| 31 | 3904 |  jm1  | 21 | 0 | ValueError in Execution | ValueError in Execution | ValueError in Execution | ValueError in Execution | 0 | 3904 | jm1 | \n",
    "| 32 | 3913 |  kc2  | 21 | 0 | 0.839259797 | 0.054472888 | 0.79691582 | 0.052498011 | 0 | 3913 | kc2 | \n",
    "| 33 | 3917 |  kc1  | 21 | 0 | 0.86060483 | 0.019167783 | 0.837354999 | 0.016517694 | 0 | 3917 | kc1 | \n",
    "| 34 | 3918 |  pc1  | 21 | 0 | 0.936871417 | 0.02245941 | 0.371605242 | 0.169435962 | 0 | 3918 | pc1 | \n",
    "| 35 | 1590 |  adult  | 14 | 8 | Maxed out RAM -- Yet to Execute | Maxed out RAM -- Yet to Execute | Maxed out RAM -- Yet to Execute | Maxed out RAM -- Yet to Execute | 1 |  | adult | \n",
    "| 36 | 4134 |  Bioresponse  | 1776 | 0 | Maxed out RAM -- Yet to Execute | Maxed out RAM -- Yet to Execute | Maxed out RAM -- Yet to Execute | Maxed out RAM -- Yet to Execute | 1 |  | Bioresponse | \n",
    "| 37 | 9946 |  wdbc  | 30 | 0 | 0.95783208 | 0.014004986 | 0.792606516 | 0.034967795 | 0 | 9946 | wdbc | \n",
    "| 38 | 9952 |  phoneme  | 5 | 0 | 0.914876429 | 0.0067909 | 0.846409256 | 0.008201839 | 0 | 9952 | phoneme | \n",
    "| 39 | 9957 |  qsar-biodeg  | 41 | 0 | 0.865354897 | 0.028655592 | 0.814168913 | 0.043461991 | 0 | 9957 | qsar-biodeg | \n",
    "| 40 | 9960 |  wall-robot-navigation  | 24 | 0 | 0.994502806 | 0.002588711 | 0.739921027 | 0.011749579 | 0 | 9960 | wall-robot-navigation | \n",
    "| 41 | 9965 |  semeion  | 256 | 0 | 0.944752358 | 0.015621479 | 0.308199686 | 0.063103704 | 1 | 9964 | semeion | \n",
    "| 42 | 9971 |  ilpd  | 10 | 1 | 0.710198714 | 0.028125836 | 0.502308591 | 0.059757116 | 0 | 9971 | ilpd | \n",
    "| 43 | 9976 |  madelon  | 500 | 0 | 0.731923077 | 0.041390406 | 0.5 | 0 | 0 | 9976 | madelon | \n",
    "| 44 | 1486 |  nomao  | 118 | 29 | Very long exection time -- Yet to execute | Very long exection time -- Yet to execute | Very long exection time -- Yet to execute | Very long exection time -- Yet to execute | 1 |  | nomao | \n",
    "| 45 | 9978 |  ozone-level-8hr  | 72 | 0 | 0.943965329 | 0.005766393 | 0.937252186 | 0.001235925 | 0 | 9978 | ozone-level-8hr | \n",
    "| 46 | 9981 |  cnae-9  | 856 | 0 | 0.92962963 | 0.018610881 | 0.111111111 | 1.39E-17 | 0 | 9981 | cnae-9 | \n",
    "| 47 | 9985 |  first-order-theorem-proving  | 51 | 0 | 0.633212188 | 0.009611547 | 0.41827605 | 0.027251754 | 0 | 9985 | first-order-theorem-proving | \n",
    "| 48 | 10093 |  banknote-authentication  | 4 | 0 | 0.993430657 | 0.006886118 | 0.994171163 | 0.006360964 | 0 | 10093 | banknote-authentication | \n",
    "| 49 | 10101 |  blood-transfusion-service-center  | 4 | 0 | 0.743333333 | 0.049051469 | 0.656630631 | 0.140370469 | 0 | 10101 | blood-transfusion-service-center | \n",
    "| 50 | 4534 |  PhishingWebsites  | 30 | 30 | 0.974310425 | 0.004701988 | 0.961556217 | 0.007201982 | 1 | 14952 | PhishingWebsites | \n",
    "| 51 | 6332 |  cylinder-bands  | 39 | 21 | Maxed out RAM -- Yet to Execute | Maxed out RAM -- Yet to Execute | Maxed out RAM -- Yet to Execute | Maxed out RAM -- Yet to Execute | 1 |  | cylinder-bands | \n",
    "| 52 | 1461 |  bank-marketing  | 16 | 9 | Very long exection time -- Yet to execute | Very long exection time -- Yet to execute | Very long exection time -- Yet to execute | Very long exection time -- Yet to execute | 1 |  |  bank-marketing  | \n",
    "| 53 | 14969 |  GesturePhaseSegmentationProcessed  | 32 | 0 | 0.68236692 | 0.00887105 | 0.52486371 | 0.01380741 | 0 | 14969 | GesturePhaseSegmentationProcessed | \n",
    "| 54 | 1478 |  har  | 561 | 0 | Maxed out RAM -- Yet to Execute | Maxed out RAM -- Yet to Execute | Maxed out RAM -- Yet to Execute | Maxed out RAM -- Yet to Execute | 1 |  | har | \n",
    "| 55 | 125920 |  dresses-sales  | 12 | 11 | ValueError in Execution | ValueError in Execution | ValueError in Execution | ValueError in Execution | 0 | 125920 | dresses-sales | \n",
    "| 56 | 125922 |  texture  | 40 | 0 | 0.979818182 | 0.007944019 | 0.999636364 | 0.000727273 | 0 | 125922 | texture | \n",
    "| 57 | 40668 |  connect-4  | 42 | 42 | Maxed out RAM -- Yet to Execute | Maxed out RAM -- Yet to Execute | Maxed out RAM -- Yet to Execute | Maxed out RAM -- Yet to Execute | 1 |  | connect-4 | \n",
    "| 58 | 146800 |   MiceProtein  | 81 | 4 | ValueError in Execution | ValueError in Execution | ValueError in Execution | ValueError in Execution | 0 | 146800 | MiceProtein | \n",
    "| 59 | 146817 |  steel-plates-fault  | 27 | 0 | 0.788784034 | 0.022299995 | 0.181842453 | 0.071836877 | 0 | 146817 | steel-plates-fault | \n",
    "| 60 | 146819 |  climate-model-simulation-crashes  | 18 | 0 | 0.924074074 | 0.012962963 | 0.916666667 | 0.009259259 | 0 | 146819 | climate-model-simulation-crashes | \n",
    "| 61 | 146820 |  wilt  | 5 | 0 | 0.982847818 | 0.004338366 | 0.971482042 | 0.00486997 | 0 | 146820 | wilt | \n",
    "| 62 | 146821 |  car  | 6 | 6 | 0.986698481 | 0.008587234 | 0.944451539 | 0.015955464 | 0 | 146821 | car | \n",
    "| 63 | 146822 |  segment  | 19 | 0 | 0.937229437 | 0.018695085 | 0.831601732 | 0.026221762 | 0 | 146822 | segment | \n",
    "| 64 | 146824 |  mfeat-pixel  | 240 | 0 | 0.9785 | 0.013238202 | 0.895 | 0.04577117 | 0 | 146824 | mfeat-pixel | \n",
    "| 65 | 40996 |   Fashion-MNIST  | 784 | 0 | Maxed out RAM -- Yet to Execute | Maxed out RAM -- Yet to Execute | Maxed out RAM -- Yet to Execute | Maxed out RAM -- Yet to Execute | 1 |  |   Fashion-MNIST  | \n",
    "| 66 | 41027 |  jungle_chess_2pcs_raw_endgame_complete  | 6 | 0 | Very long exection time -- Yet to execute | Very long exection time -- Yet to execute | Very long exection time -- Yet to execute | Very long exection time -- Yet to execute | 1 |  |  jungle_chess_2pcs_raw_endgame_complete  | \n",
    "| 67 | 23517 |   numerai28.6  | 21 | 0 | Very long exection time -- Yet to execute | Very long exection time -- Yet to execute | Very long exection time -- Yet to execute | Very long exection time -- Yet to execute | 1 |  |   numerai28.6 | \n",
    "| 68 | 40923 |   Devnagri Script  | 1024 | 0 | Maxed out RAM -- Yet to Execute | Maxed out RAM -- Yet to Execute | Maxed out RAM -- Yet to Execute | Maxed out RAM -- Yet to Execute | 1 |  |   Devnagri Script | \n",
    "| 69 | 40927 |  CIFAR_10  | 3072 | 0 | Very long exection time -- Yet to execute | Very long exection time -- Yet to execute | Very long exection time -- Yet to execute | Very long exection time -- Yet to execute | 1 |  |  CIFAR_10 |  \n",
    "| 70 | 40978 |  Internet-Advertisements  | 1558 | 1555 | Maxed out RAM -- Yet to Execute | Maxed out RAM -- Yet to Execute | Maxed out RAM -- Yet to Execute | Maxed out RAM -- Yet to Execute | 1 |  |  Internet-Advertisements |  \n",
    "\n",
    " \n",
    "\n"
   ]
  },
  {
   "cell_type": "code",
   "execution_count": null,
   "metadata": {},
   "outputs": [],
   "source": []
  }
 ],
 "metadata": {
  "kernelspec": {
   "display_name": "Python 3",
   "language": "python",
   "name": "python3"
  },
  "language_info": {
   "codemirror_mode": {
    "name": "ipython",
    "version": 3
   },
   "file_extension": ".py",
   "mimetype": "text/x-python",
   "name": "python",
   "nbconvert_exporter": "python",
   "pygments_lexer": "ipython3",
   "version": "3.7.4"
  }
 },
 "nbformat": 4,
 "nbformat_minor": 4
}
