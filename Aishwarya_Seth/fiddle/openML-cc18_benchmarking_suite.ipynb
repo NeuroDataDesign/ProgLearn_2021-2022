{
 "cells": [
  {
   "cell_type": "markdown",
   "metadata": {},
   "source": [
    "# An Introduction to the Datasets of the OpenML-CC18 Classification Benchmark \n",
    "#### Reference Link:  https://www.openml.org/s/99/data\n",
    "#### Citation: Bernd Bischl, Giuseppe Casalicchio, Matthias Feurer, Frank Hutter, Michel Lang, Rafael G. Mantovani, Jan N. van Rijn and Joaquin Vanschoren. “OpenML Benchmarking Suites” arXiv:1708.03731v2 [stats.ML] (2019)."
   ]
  },
  {
   "cell_type": "code",
   "execution_count": 7,
   "metadata": {},
   "outputs": [],
   "source": [
    "# Created by: Aishwarya Seth\n",
    "# Date: 7th December, 2021\n",
    "# Contact At: aishwarya.seth6@gmail.com"
   ]
  },
  {
   "cell_type": "markdown",
   "metadata": {},
   "source": [
    "## What is OpenML? \n",
    "OpenML is an online open-source collection of machine learning datasets. Their benchmarking suites are characterized by their ease of use across programming languages, the detailed machine-readable meta data provided for the suite, as well as the extensive online platform, which enables programmers to collaborate, compare, and enhance their machine learning based solutions."
   ]
  },
  {
   "cell_type": "markdown",
   "metadata": {},
   "source": [
    "## What is OpenML-CC18?\n",
    "OpenML-CC18 is a machine learning benchmark suite of 72 classification tasks which were curated from the collection of datasets at OpenML. "
   ]
  },
  {
   "cell_type": "markdown",
   "metadata": {},
   "source": [
    "As stated on their website, the inclusion criteria are: \n",
    "* classification tasks on dense data set independent observations  \n",
    "* number of classes >= 2, each class with at least 20 observations and ratio of minority to majority class must exceed 5%  \n",
    "* 500 <= number of observations <= 100000  \n",
    "* number of features after one-hot-encoding < 5000  \n",
    "* no artificial data sets \n",
    "* no subsets of larger data sets nor binarizations of other data sets  \n",
    "* no data sets which are perfectly predictable by using a single feature or by using a simple decision tree \n",
    "* source or reference available"
   ]
  },
  {
   "cell_type": "markdown",
   "metadata": {},
   "source": [
    "## Characterization of the 72 datasets: \n",
    "Here, a brief characterization of these 72 datasets is presented for easy access and usage of the datasets. While it does not include all the metadata, it captures a set of essential characteristics of these datasets. \n",
    "* Task/Dataset ID : This is the unique identifier to retrieve the dataset from OpenML APIs and libraries \n",
    "* Name of Dataset : Name of the dataset as per OpenML records\n",
    "* Input Type : Brief description of the input\n",
    "* Output Type : Since OpenML-CC18 is a classification suite, here, the type may be a binary (two-class) or categorical (multi-class) output \n",
    "* Number of Output Classes : Mentions the number of output classes available\n",
    "* Number of Features : Number of input attributes (target output class is included as an attribute). Here, Number of Features = Number of Output Features + Number of Numeric Features + Number of Nominal Features\n",
    "* Number of Output Features : Output class is included in OpenML-CC18 as a nominal feature, to enable this distinction between the output class and the other nominal classes, this column was included\n",
    "* Number of Numeric Features : Number of features having continuous values \n",
    "* Number of Nominal (Categorical) Features : Number of features having discrete values\n",
    "* Number of Instances : Number of samples available. Within the OpenML suite, there are provisions to split the data into the train and test set, but at the dataset level, these are listed in combination as a single dataset \n",
    "* Number of Instances with Missing Data : Identifies how many instances have atleast one missing data point \n",
    "* Percentage of Instances with Missing Data : Identifies the number of instances with missing data as a percentage of the total number of instances. This gices a realistic estimate of how many samples are missing\n",
    "* IMPORTANT NOTES : This column includes any important points to be noted, as presented in the dataset description\n",
    "\n",
    "Here, the 72 datasets are listed in the order of most to least numeric features"
   ]
  },
  {
   "cell_type": "markdown",
   "metadata": {},
   "source": [
    "| Sl. No. | Task / Dataset ID | Name of Dataset | Input Type |  Output Type | Number of Output Classes | Number of Features | Number of Output Features | Number of Numeric Features | Number of Nominal (Categorical) Features | Number of Instances | Number of Instances with Missing Data | Percentage of Instances with Missing Data | IMPORTANT NOTES |\n",
    "| :-: |  :-: | :-: | :-: | :-: | :-: | :-: | :-: | :-: | :-: | :-: | :-: | :-: | :-: |\n",
    "| 1. |  40927 | CIFAR_10 | 32 x 32 color Image | Categorical | 10 | 3073 | 1 | 2072 | 0 | 60000 | 0 | 0% | - |\n",
    "| 2. | 4134 | Bioresponse | Molecular descriptors | Binary | 2 | 1777 | 1 | 1776 | 0 | 3751 | 0 | 0% | - |\n",
    "| 3. | 40923 |  Devnagri Script | 32 x 32 binary image | Categorical | 46 | 1025 | 1 | 1024 | 0 | 92000 | 0 | 0% | - | \n",
    "| 4. | 1468 | cnae-9 | Free text business descriptions | Categorical | 9 | 857 | 1 | 856 | 0 | 1080 | 0 | 0% | HIGHLY SPARSE DATA |  \n",
    "| 5. | 40996 |  Fashion-MNIST | 28 x 28 binary image | Categorical | 10 | 785 | 1 | 784 | 0 | 70000 | 0 | 0% | - |\n",
    "| 6. | 554 | mnist_784 | Preprocessed 28 x 28 image | Categorical | 10 | 785 | 1 | 784 | 0 | 70000 | 0 | 0% | - |\n",
    "| 7. | 300 | isolet | Speech signals of the alphabet | Categorical | 26 | 618 | 1 | 617 | 0 | 7797 | 0 | 0% | - |\n",
    "| 8. | 1478 | har | Sensor signals | Categorical | 6 | 562 | 1 | 561 | 0 | 10299 | 0 | 0% | - |\n",
    "| 9. | 1485 | madelon | Artificial features | Categorical | 2 | 501 | 1 | 500 | 0 | 2600 | 0 | 0% | - |\n",
    "| 10. | 1501 | semeion | Handwritten digits in 16 x 16 binary image | Categorical | 10 | 257 | 1 | 256 | 0 | 1593 | 0 | 0% | - |\n",
    "| 11. | 40979 | mfeat-pixel | Handwritten Numbers, 15 x 16 pixel average in 2 x 3 windows | Categorical | 10 | 241 | 1 | 240 | 0 | 2000 | 0 | 0% | - | \n",
    "| 12. | 12 | mfeat-factors | Profile correlations | Categorical | 10 | 217 | 1 | 216 | 0 | 2000 | 0 | 0% | - |\n",
    "| 13. | 1486 | nomao | Data about places | Binary | 2 | 119 | 1 | 89 | 29 | 34465 | 0 | 0% | DESCRIPTION INDICATES MISSING VARIABLES BUT NO VARIABLES ARE MISSING |\n",
    "| 14. | 40966 |  MiceProtein | Expression Levels of Proteins | Categorical | 8 | 82 | 1 | 77 | 4 | 1080 | 528 | 48.89% | 3 NOMINAL VARIABLES LISTED AS \"IGNORE\" + 1 AS ROW IDENTIFIER |\n",
    "| 15. | 14 | mfeat-fourier | Fourier coefficients of character shapes | Categorical | 10 | 77 | 1 | 76 | 0 | 2000 | 0 | 0% | - |\n",
    "| 16. | 1487 | ozone-level-8hr | Factors affecting ozone layer | Binary | 2 | 73 | 1 | 72 | 0 | 2534 | 0 | 0% | - |\n",
    "| 17. | 458 | analcatdata_authorship | Samples for analyzing categorical data | Categorical | 4 | 71 | 1 | 70 | 0 | 841 | 0 | 0% | - | \n",
    "| 18. | 16 | mfeat-karhunen | Attributes of Karhunen Loeve Transform for image projection on handwritten numerals | Categorical | 10 | 65 | 1 | 64 | 0 | 2000 | 0 | 0% | - |\n",
    "| 19. | 28 | optdigits | Preprocessed handwritten digits, 8 x 8 input | Categorical | 10 | 65 | 1 | 64 | 0 | 5620 | 0 | 0% | ALL INPUTS ARE INTEGERS IN RANGE 0 - 16 ONLY | \n",
    "| 20. | 44 | spambase | Email content | Binary | 2 | 58 | 1 | 57 | 0 | 4601 | 0 | 0% | - | \n",
    "| 21. | 1475 | first-order-theorem-proving | Features from theorems to be proved | Categorical | 6 | 52 | 1 | 51 | 0 | 6118 | 0 | 0% | - |\n",
    "| 22. | 22 | mfeat-zernike | Rotation invariant Zernike moments of handwritten numerals | Categorical | 10 | 48 | 1 | 47 | 0 | 2000 | 0 | 0% | - |\n",
    "| 23. | 1494 | qsar-biodeg | Molecular descriptors to study biodegradability | Binary | 2 | 42 | 1 | 41 | 0 | 1055 | 0 | 0% | - |\n",
    "| 24. | 40499 | texture | Textures from Fourth Order Moment | Categorical | 11 | 41 | 1 | 40 | 0 | 5500 | 0 | 0% | - |\n",
    "| 25. | 1050 | pc3 | Data from NASA flight software for earth orbiting satellite | Binary | 2 | 38 | 1 | 37 | 0 | 1563 | 0 | 0% | - |\n",
    "| 26. | 1049 | pc4 | Data from NASA flight software for earth orbiting satellite | Binary | 2 | 38 | 1 | 37 | 0 | 1458 | 0 | 0% | - |\n",
    "| 27. | 182 | satimage | 3 x 3 square neighbourhood of a satellite image across 4 spectral bands | Categorical | 6 | 37 | 1 | 36 | 0 | 6430 | 0 | 0% | - |\n",
    "| 28. | 4538 | GesturePhaseSegmentationProcessed | Videos of People Gesticulating | Categorical | 5 | 33 | 1 | 32 | 0 | 9873 | 0 | 0% | - |\n",
    "| 29. | 1510 | wdbc | Features from a fine needle aspirate (FNA) of a breast mass | Binary | 2 | 31 | 1 | 30 | 0 | 569 | 0 | 0% | - | \n",
    "| 30. | 40982 | steel-plates-fault | Description of Fault | Categorical | 7 | 28 | 1 | 27 | 0 | 1941 | 0 | 0% | - |\n",
    "| 31. | 1497 | wall-robot-navigation | Data from robot navigating through room following the wall in a clockwise direction | Categorical | 4 | 25 | 1 | 24 | 0 | 5456 | 0 | 0% | - |\n",
    "| 32. | 1068 | pc1 | Data from NASA flight software for earth orbiting satellite | Binary | 2 | 22 | 1 | 21 | 0 | 1109 | 0 | 0% | - |\n",
    "| 33. | 1067 | kc1 | Data from NASA software for receiving and processing ground data | Binary | 2 | 22 | 1 | 21 | 0 | 2109 | 0 | 0% | - |\n",
    "| 34. | 23517 |  numerai28.6 | Global Equity Data | Binary | 2 | 22 | 1 | 21 | 0 | 96320 | 0 | 0% | - |\n",
    "| 35. | 1063 | kc2 | Data from NASA software for receiving and processing science data | Binary | 2 | 22 | 1 | 21 | 0 | 522 | 0 | 0% | - | \n",
    "| 36. | 1053 | jm1 | Features for software defect prediction | Binary | 2 | 22 | 1 | 21 | 0 | 10885 | 5 | 0.05% | - | \n",
    "| 37. | 40994 | climate-model-simulation-crashes | Climate Model Input Parameters | Binary | 2 | 19 | 1 | 18 | 0 | 540 | 0 | 0% | IGNORE FIRST 2 COLUMNS |\n",
    "| 38. | 40984 | segment | Hand-Segmented 3 x 3 Images from a set of 7 Outdoor Images | Categorical | 7 | 20 | 1 | 19 | 0 | 2310 | 0 | 0% | SKIP REGION.CENTROID.COL |  \n",
    "| 39. | 6332 | cylinder-bands | Attributes for Cylinder Banding | Binary | 2 | 40 | 1 | 18 | 21 | 540 | 263 | 48.7% | IGNORE FIRST 2 COLUMNS | - |\n",
    "| 40. | 54 | vehicle | Images of Vehicle Silhouette  | Categorical | 4 | 19 | 1 | 18 | 0 | 846 | 0 | 0% | - |\n",
    "| 41. | 40701 | churn | Telephony Accounts | Binary | 2 | 21 | 16 | 1 | 4 | 5000 | 0 | 0% | - |\n",
    "| 42. | 32 | pendigits | Pen-based handwritten digit information from a pressure sensitive tablet | Categorical | 10 | 17 | 1 | 16 | 0 | 10992 | 0 | 0% | - |\n",
    "| 43. | 6 | letter | Randomly distorted capital English letters in different fonts | Categorical | 26 | 17 | 1 | 16 | 0 | 20000 | 0 | 0% | - |\n",
    "| 44. | 188 | eucalyptus | Soil characteristics | Categorical | 5 | 20 | 1 | 14 | 5 | 736 | 95 | 12.91% | - | \n",
    "| 45. | 307 | vowel | Speech data for vowels in British English | Categorical | 11 | 13 | 1 | 10 | 2 | 990 | 0 | 0% | - | \n",
    "| 46. | 1480 | ilpd | Liver patient records | Binary | 2 | 11 | 1 | 9 | 1 | 583 | 0 | 0% | - |\n",
    "| 47. | 15 | breast-w | Features from a fine needle aspirate (FNA) of a breast mass | Binary | 2 | 10 | 1 | 9 | 0 | 699 | 16 | 2.29% | - |\n",
    "| 48. | 37 | diabetes | Diagnostic, binary-valued variables to determine diabeters in Pima Indians | Binary | 2 | 9 | 1 | 8 | 0 | 768 | 0 | 0% | - |\n",
    "| 49. | 1461 | bank-marketing | Phone call based marketing campaigns | Binary | 2 | 17 | 1 | 7 | 9 | 45211 | 0 | 0% | - |\n",
    "| 50. | 31 | credit-g | Credit status attributes | Binary | 2 | 21 | 1 | 7 | 13 | 1000 | 0 | 0% | - |\n",
    "| 51. | 151 | electricity | Supply/demand information for 30-minute-intervals | Binary | 2 | 9 | 1 | 7 | 1 | 45312 | 0 | 0% | - | \n",
    "| 52. | 38 | sick | Thyroid disease records | Binary | 2 | 30 | 1 | 7 | 22 | 3772 | 3772 | 100% | TBG Column IS EMPTY FOR ALL DATA |\n",
    "| 53. | 41027 | jungle_chess_2pcs_raw_endgame_complete | Game Setup | Categorical | 3 | 7 | 1 | 6 | 0 | 44819 | 0 | 0% | - | \n",
    "| 54. | 1590 | adult | Features for income prediction | Binary | 2 | 15 | 1 | 6 | 8 | 48842 | 3620 | 7.41% | - |\n",
    "| 55. | 29 | credit-approval | Credit card applications | Binary | 2 | 16 | 1 | 6 | 9 | 690 | 37 | 5.36% | - | \n",
    "| 56. | 18 | mfeat-morphological | Morphological features of handwritten numerals from utility maps | Categorical | 10 | 7 | 1 | 6 | 0 | 2000 | 0 | 0% | - |\n",
    "| 57. | 40983 | wilt | Image Segments | Binary | 2 | 6 | 1 | 5 | 0 | 4839 | 0 | 0% | - |\n",
    "| 58. | 1489 | phoneme | Characteristics of vowel pronunciation | Binary | 2 | 6 | 1 | 5 | 0 | 5404 | 0 | 0% | - |\n",
    "| 59. | 1462 | banknote-authentication | 400 x 400 grayscale images of banknotes | Binary | 2 | 5 | 1 | 4 | 0 | 1372 | 0 | 0% | - |\n",
    "| 60. | 1464 | blood-transfusion-service-center | Subset of blood transfusion donor database | Binary | 2 | 5 | 1 | 4 | 0 | 748 | 0 | 0% | - | \n",
    "| 61. | 11 | balance-scale | Physiological features | Categorical | 3 | 5 | 1 | 4 | 0 | 625 | 0 | 0% | - |\n",
    "| 62. | 40978 | Internet-Advertisements | Image and its URL | Binary | 2 | 1559 | 1 | 3 | 1555 | 3279 | 0 | 0% | - |\n",
    "| 63. | 23 | cmc | Subset of contraceptive prevalence survey results database | Categorical | 3 | 10 | 1 | 2 | 7 | 1473 | 0 | 0% | - |\n",
    "| 64. | 23381 | dresses-sales | Attributes of Dresses and Recommendations | Binary | 2 | 13 | 1 | 1 | 11 | 500 | 401 | 80.2% | - |\n",
    "| 65. | 40975 | car | Acceptability Parameters of Car | Categorical | 4 | 7 | 1 | 0 | 6 | 1728 | 0 | 0% | - |\n",
    "| 66. | 4534 | PhishingWebsites | Features that have been proved to be sound and effective in detecting phishing websites | Binary | 2 | 31 | 1 | 0 | 30 | 11055 | 0 | 0% | - |\n",
    "| 67. | 40670 | dna | Splice Junctions | Categorical | 3 | 181 | 1 | 0 | 180 | 3186 | 0 | 0% | - |\n",
    "| 68. | 40668 | connect-4 | 6 x 6 board positions | Categorical | 3 | 43 | 1 | 0 | 42 | 67557 | 0 | 0% | - |\n",
    "| 69. | 3 | kr-vs-kp | Chess end game, 36 attributes describing the game board | Binary | 2 | 37 | 1 | 0 | 36 | 3196 | 0 | 0% | - |\n",
    "| 70. | 50 | tic-tac-toe | All possible board configurations in Tic-Tac-Toe | Binary | 2 | 10 | 1 | 0 | 9 | 958 | 0 | 0% | - |\n",
    "| 71. | 46 | splice | Sequences of DNA | Categorical | 3 | 61 | 1 | 0 | 60 | 3190 | 0 | 0% | - |\n",
    "| 72. | 469 | analcatdata_dmft | Data on Decayed, Missing and Filled Teeth (DMFT Index) before and after different prevention strategies | Categorical | 6 | 5 | 1 | 0 | 4 | 797 | 0 | 0% | - |\n",
    "\n",
    " \n"
   ]
  },
  {
   "cell_type": "code",
   "execution_count": null,
   "metadata": {},
   "outputs": [],
   "source": []
  },
  {
   "cell_type": "code",
   "execution_count": null,
   "metadata": {},
   "outputs": [],
   "source": []
  },
  {
   "cell_type": "code",
   "execution_count": null,
   "metadata": {},
   "outputs": [],
   "source": []
  }
 ],
 "metadata": {
  "kernelspec": {
   "display_name": "Python 3",
   "language": "python",
   "name": "python3"
  },
  "language_info": {
   "codemirror_mode": {
    "name": "ipython",
    "version": 3
   },
   "file_extension": ".py",
   "mimetype": "text/x-python",
   "name": "python",
   "nbconvert_exporter": "python",
   "pygments_lexer": "ipython3",
   "version": "3.7.4"
  }
 },
 "nbformat": 4,
 "nbformat_minor": 4
}
