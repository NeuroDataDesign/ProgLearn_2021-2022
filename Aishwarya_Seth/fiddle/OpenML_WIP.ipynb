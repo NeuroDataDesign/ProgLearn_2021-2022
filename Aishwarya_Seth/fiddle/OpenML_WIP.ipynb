{
 "cells": [
  {
   "cell_type": "code",
   "execution_count": null,
   "metadata": {},
   "outputs": [],
   "source": [
    "#Jupyter Notebook listing the Datasets in OpenML-CC18 & their significant properties\n",
    "#Reference link: https://www.openml.org/s/99/data"
   ]
  },
  {
   "cell_type": "markdown",
   "metadata": {},
   "source": [
    "The inclusion criteria are: \n",
    "* classification tasks on dense data set independent observations  \n",
    "* number of classes >= 2, each class with at least 20 observations and ratio of minority to majority class must exceed 5%  \n",
    "* 500 <= number of observations <= 100000  \n",
    "* number of features after one-hot-encoding < 5000  \n",
    "* no artificial data sets \n",
    "* no subsets of larger data sets nor binarizations of other data sets  \n",
    "* no data sets which are perfectly predictable by using a single feature or by using a simple decision tree * source or reference available"
   ]
  },
  {
   "cell_type": "code",
   "execution_count": null,
   "metadata": {},
   "outputs": [],
   "source": []
  },
  {
   "cell_type": "markdown",
   "metadata": {},
   "source": [
    "| Sl. No. | Name of Dataset | Input Type |  Output Type | Number of Output Classes | Number of Features | Number of Output Features | Number of Numeric Features | Number of Nominal (Categorical) Features | Number of Instances | Number of Instances with Missing Data | Percentage of Instances with Missing Data | IMPORTANT NOTES |\n",
    "| :-: | :-: | :-: | :-: | :-: | :-: | :-: | :-: | :-: | :-: | :-: | :-: | :-: |\n",
    "| 1. |Jungle Chess, 2 pc | Game Setup | Categorical | 3 | 7 | 1 | 6 | 0 | 44819 | 0 | 0% | - |\n",
    "| 2. | Fashion-MNIST | 28 x 28 binary image | 10 | 785 | 1 | 784 | 0 | 10 | 70000 | 0 | 0% | - |\n",
    "| 3. | Climate Model Simulation Crashes | Climate Model Input Parameters | Binary | 2 | 19 | 1 | 18 | 0 | 540 | 0 | 0% | IGNORE FIRST 2 COLUMNS |\n",
    "| 4. | Segment | Hand-Segmented 3 x 3 Images from a set of 7 Outdoor Images | Categorical | 7 | 20 | 1 | 19 | 0 | 2310 | 0 | 0% | SKIP REGION.CENTROID.COL | \n",
    "| 5. | Wilt | Image Segments | Binary | 2 | 6 | 1 | 5 | 0 | 4839 | 0 | 0% | - |\n",
    "| 6. | Steel Plates Fault | Description of Fault | Categorical | 7 | 28 | 1 | 27 | 0 | 1941 | 0 | 0% | - |\n",
    "| 7. | Mfeat Pixel | Handwritten Numbers, 15 x 16 pixel average in 2 x 3 windows | Categorical | 10 | 241 | 1 | 240 | 0 | 2000 | 0 | 0% | - | \n",
    "| 8. | Internet Advertisements | Image and its URL | Binary | 2 | 1559 | 1 | 3 | 1555 | 3279 | 0 | 0% | - |\n",
    "| 9. | Car | Acceptability Parameters of Car | Categorical | 4 | 7 | 1 | 0 | 6 | 1728 | 0 | 0% | - |\n",
    "|10. | Mice Proteins | Expression Levels of Proteins | Categorical | 8 | 82 | 1 | 77 | 4 | 1080 | 528 | 48.89% | 3 NOMINAL VARIABLES LISTED AS \"IGNORE\" + 1 AS ROW IDENTIFIER | \n",
    "| 11. | CIFAR_10 | 32 x 32 color Image | Categorical | 10 | 3073 | 1 | 2072 | 0 | 60000 | 0 | 0% | - |\n",
    "| 12. | Devnagri Script | 32 x 32 binary image | Categorical | 46 | 1025 | 1 | 1024 | 0 | 92000 | 0 | 0% | - | \n",
    "| 13. | Churn | Telephony Accounts | Binary | 2 | 21 | 16 | 1 | 4 | 5000 | 0 | 0% | - |\n",
    "| 14. | DNA | Splice Junctions | Categorical | 3 | 181 | 1 | 0 | 180 | 3186 | 0 | 0% | - |\n",
    "| 15. | Connect-4 | 6 x 6 board positions | Categorical | 3 | 43 | 1 | 0 | 42 | 67557 | 0 | 0% | - |\n",
    "| 16. | Texture | Textures from Fourth Order Moment | Categorical | 11 | 41 | 1 | 40 | 0 | 5500 | 0 | 0% | - |\n",
    "| 17. | NumerAI28.6 | Global Equity Data | Binary | 2 | 22 | 1 | 21 | 0 | 96320 | 0 | 0% | - |\n",
    "| 18. | Dresses Sales | Attributes of Dresses and Recommendations | Binary | 2 | 13 | 1 | 1 | 11 | 500 | 401 | 80.2% | - | \n",
    "| 19. | Cylinder Bands | Attributes for Cylinder Banding | Binary | 2 | 40 | 1 | 18 | 21 | 540 | 263 | 48.7% | IGNORE FIRST 2 COLUMNS | - |\n",
    "| 20. | Gesture Phase Segmentation Processed | Videos of People Gesticulating | Categorical | 5 | 33 | 1 | 32 | 0 | 9873 | 0 | 0% | - |\n"
   ]
  },
  {
   "cell_type": "code",
   "execution_count": null,
   "metadata": {},
   "outputs": [],
   "source": []
  }
 ],
 "metadata": {
  "kernelspec": {
   "display_name": "Python 3",
   "language": "python",
   "name": "python3"
  },
  "language_info": {
   "codemirror_mode": {
    "name": "ipython",
    "version": 3
   },
   "file_extension": ".py",
   "mimetype": "text/x-python",
   "name": "python",
   "nbconvert_exporter": "python",
   "pygments_lexer": "ipython3",
   "version": "3.7.4"
  }
 },
 "nbformat": 4,
 "nbformat_minor": 4
}
