{
 "cells": [
  {
   "cell_type": "code",
   "execution_count": 1,
   "id": "a76c3187-3074-4eab-b82a-7212693acd1d",
   "metadata": {},
   "outputs": [],
   "source": [
    "# import \n",
    "import numpy as np\n",
    "import random\n",
    "from proglearn.sims import generate_gaussian_parity\n",
    "import matplotlib.pyplot as plt\n",
    "import seaborn as sns\n",
    "import scipy as sc\n",
    "import sklearn.ensemble\n",
    "from sklearn import metrics \n",
    "import math\n",
    "from scipy.stats import ttest_ind\n",
    "from scipy.spatial import distance\n",
    "import random\n",
    "import pandas as pd"
   ]
  },
  {
   "cell_type": "code",
   "execution_count": 2,
   "id": "3a519509-e9ab-47b0-ad2e-dc1d63e05495",
   "metadata": {},
   "outputs": [],
   "source": [
    "# number of samples\n",
    "n_samples = 100\n",
    "\n",
    "# generate xor \n",
    "X_xor, y_xor = generate_gaussian_parity(n_samples, angle_params=0)\n",
    "\n",
    "# generate rxor, 45 degrees\n",
    "X_rxor, y_rxor = generate_gaussian_parity(n_samples, angle_params=np.pi/4)"
   ]
  },
  {
   "cell_type": "code",
   "execution_count": 3,
   "id": "28ca884f-a9d9-4234-b70f-e6cfff1f8e6a",
   "metadata": {},
   "outputs": [],
   "source": [
    "# we want to pick 70 samples from xor/rxor to train trees so we need to first subset each into arrays with only xor_0/1 and rxor_0/1\n",
    "X_xor_0 = X_xor[np.where(y_xor == 0)]\n",
    "X_xor_1 = X_xor[np.where(y_xor == 1)]\n",
    "\n",
    "X_rxor_0 = X_rxor[np.where(y_rxor == 0)]\n",
    "X_rxor_1 = X_rxor[np.where(y_rxor == 1)]\n",
    "\n",
    "# we can concat the first 35 samples from each pair to use to tatal 70 samples for training and 30 for predict proba\n",
    "X_xor_train = np.concatenate((X_xor_0[0:35], X_xor_1[0:35]))\n",
    "y_xor_train = np.concatenate((np.zeros(35), np.ones(35)))\n",
    "\n",
    "# repeat for rxor\n",
    "X_rxor_train = np.concatenate((X_rxor_0[0:35], X_rxor_1[0:35]))\n",
    "y_rxor_train = np.concatenate((np.zeros(35), np.ones(35)))"
   ]
  },
  {
   "cell_type": "code",
   "execution_count": 4,
   "id": "1eb1c1bd-076a-43de-a308-6a0687009d54",
   "metadata": {},
   "outputs": [
    {
     "data": {
      "text/plain": [
       "(70, 70)"
      ]
     },
     "execution_count": 4,
     "metadata": {},
     "output_type": "execute_result"
    }
   ],
   "source": [
    "len(X_xor_train), len(X_xor_train)"
   ]
  },
  {
   "cell_type": "code",
   "execution_count": 5,
   "id": "6b62dc97-3b66-4443-88ae-b1ac1b19fc8b",
   "metadata": {},
   "outputs": [],
   "source": [
    "# init the rf's\n",
    "# xor rf\n",
    "clf_xor = sklearn.ensemble.RandomForestClassifier(n_estimators=10, min_samples_leaf=int(n_samples/7))\n",
    "\n",
    "# rxor rf\n",
    "clf_rxor = sklearn.ensemble.RandomForestClassifier(n_estimators=10, min_samples_leaf=int(n_samples/7))"
   ]
  },
  {
   "cell_type": "code",
   "execution_count": 6,
   "id": "8c132023-a7bd-4db8-842d-b71c261cb5e0",
   "metadata": {},
   "outputs": [
    {
     "data": {
      "text/plain": [
       "RandomForestClassifier(min_samples_leaf=14, n_estimators=10)"
      ]
     },
     "execution_count": 6,
     "metadata": {},
     "output_type": "execute_result"
    }
   ],
   "source": [
    "# train rfs\n",
    "# fit the model using the train data \n",
    "clf_xor.fit(X_xor_train, y_xor_train)\n",
    "\n",
    "# fit rxor model\n",
    "clf_rxor.fit(X_rxor_train, y_rxor_train)"
   ]
  },
  {
   "cell_type": "code",
   "execution_count": 13,
   "id": "411d6156-ddba-4eba-8480-e907d7e1dda5",
   "metadata": {},
   "outputs": [
    {
     "data": {
      "text/plain": [
       "(60, 60)"
      ]
     },
     "execution_count": 13,
     "metadata": {},
     "output_type": "execute_result"
    }
   ],
   "source": [
    "# concat the test samples from xor and rxor (30 from each), 60 total test samples\n",
    "X_xor_rxor_test = np.concatenate((X_xor_0[35:], X_rxor_0[35:], X_xor_1[35:], X_rxor_1[35:]))\n",
    "y_xor_rxor_test = np.concatenate((np.zeros(30), np.ones(30)))\n",
    "\n",
    "# confirm that there's 60 in each\n",
    "len(X_xor_rxor_test), len(y_xor_rxor_test)"
   ]
  },
  {
   "cell_type": "code",
   "execution_count": 21,
   "id": "52bf61bf-9310-473e-8114-34e98e8ab216",
   "metadata": {},
   "outputs": [],
   "source": [
    "# predict proba on the new test data with both rfs\n",
    "# xor rf\n",
    "xor_rxor_test_xorRF_probas = clf_xor.predict_proba(X_xor_rxor_test)\n",
    "\n",
    "# rxor rf\n",
    "xor_rxor_test_rxorRF_probas = clf_rxor.predict_proba(X_xor_rxor_test)"
   ]
  },
  {
   "cell_type": "code",
   "execution_count": 25,
   "id": "ab291959-08f9-4aef-87f7-64c2e3892030",
   "metadata": {},
   "outputs": [],
   "source": [
    "def calcL2(xorRF_probas, rxorRF_probas):\n",
    "    '''\n",
    "    Returns L2 distance between 2 outputs from clf.predict_proba().\n",
    "    '''\n",
    "    # lists to store % label 0 since we only need one of the probas to calc L2\n",
    "    xors = []\n",
    "    rxors = []\n",
    "    \n",
    "    # iterate through the passed probas to store them in our lists\n",
    "    for xor_proba, rxor_proba in zip(xorRF_probas, rxorRF_probas):\n",
    "        xors.append(xor_proba[0])\n",
    "        rxors.append(rxor_proba[0])\n",
    "        \n",
    "    return distance.euclidean(xors, rxors)"
   ]
  },
  {
   "cell_type": "code",
   "execution_count": 28,
   "id": "4ff3b99d-ceef-4cb2-810a-28d8d203062a",
   "metadata": {},
   "outputs": [
    {
     "data": {
      "text/plain": [
       "2.1260755784863266"
      ]
     },
     "execution_count": 28,
     "metadata": {},
     "output_type": "execute_result"
    }
   ],
   "source": [
    "# calc the l2 distance between the probas from xor and rxor rfs\n",
    "d1 = calcL2(xor_rxor_test_xorRF_probas, xor_rxor_test_rxorRF_probas)\n",
    "d1"
   ]
  },
  {
   "cell_type": "code",
   "execution_count": 30,
   "id": "3c2f53bf-9390-4874-a3a1-49e5296e1314",
   "metadata": {},
   "outputs": [],
   "source": [
    "# concat all xor and rxor samples (100+100=200)\n",
    "X_xor_rxor_all = np.concatenate((X_xor, X_rxor))\n",
    "y_xor_rxor_all = np.concatenate((y_xor, y_rxor))"
   ]
  },
  {
   "cell_type": "code",
   "execution_count": 35,
   "id": "e09400cc-b64a-4a44-9522-abb639730d09",
   "metadata": {},
   "outputs": [],
   "source": [
    "random_idxs = random.sample(range(200), 200)"
   ]
  },
  {
   "cell_type": "code",
   "execution_count": 39,
   "id": "d2ed6de8-186b-46c6-a120-5515f9e3c4ad",
   "metadata": {},
   "outputs": [
    {
     "data": {
      "text/plain": [
       "(100, 100)"
      ]
     },
     "execution_count": 39,
     "metadata": {},
     "output_type": "execute_result"
    }
   ],
   "source": [
    "len(random_idxs[0:100]), len(random_idxs[100:])"
   ]
  },
  {
   "cell_type": "code",
   "execution_count": 40,
   "id": "6ecbc211-c46b-4792-8b5b-e5fd7e81556c",
   "metadata": {},
   "outputs": [],
   "source": [
    "# subsample 100 samples twice randomly, call one xor and the other rxor\n",
    "X_xor_new = X_xor_rxor_all[random_idxs[0:100]]\n",
    "y_xor_new = y_xor_rxor_all[random_idxs[0:100]]\n",
    "\n",
    "X_rxor_new = X_xor_rxor_all[random_idxs[100:]]\n",
    "y_rxor_new = y_xor_rxor_all[random_idxs[100:]]"
   ]
  },
  {
   "cell_type": "code",
   "execution_count": 43,
   "id": "4dfe135b-3f33-4121-b719-2537a41d68fa",
   "metadata": {},
   "outputs": [
    {
     "data": {
      "text/plain": [
       "(100, 100, 100, 100)"
      ]
     },
     "execution_count": 43,
     "metadata": {},
     "output_type": "execute_result"
    }
   ],
   "source": [
    "len(X_xor_new), len(y_xor_new), len(X_rxor_new), len(y_rxor_new)"
   ]
  },
  {
   "cell_type": "code",
   "execution_count": 48,
   "id": "d0a82530-0d68-4795-a282-d43946f3fd71",
   "metadata": {},
   "outputs": [],
   "source": [
    "# subsample 70 from each and call one xor train and one rxor train\n",
    "# since we randomly took 100 the pool of 200 samples we should just be able to take the first 70 samples \n",
    "X_xor_new_train = X_xor_new[0:70]\n",
    "y_xor_new_train = y_xor_new[0:70]\n",
    "\n",
    "X_rxor_new_train = X_rxor_new[0:70]\n",
    "y_rxor_new_train = y_rxor_new[0:70]"
   ]
  },
  {
   "cell_type": "code",
   "execution_count": 49,
   "id": "3d36586c-5601-46fd-b57f-3e6235357bc5",
   "metadata": {},
   "outputs": [
    {
     "data": {
      "text/plain": [
       "RandomForestClassifier(min_samples_leaf=14, n_estimators=10)"
      ]
     },
     "execution_count": 49,
     "metadata": {},
     "output_type": "execute_result"
    }
   ],
   "source": [
    "# train a new forest \n",
    "# init the rf's\n",
    "# xor rf\n",
    "clf_xor_new = sklearn.ensemble.RandomForestClassifier(n_estimators=10, min_samples_leaf=int(n_samples/7))\n",
    "clf_xor_new.fit(X_xor_new_train, y_xor_new_train)\n",
    "\n",
    "# rxor rf\n",
    "clf_rxor_new = sklearn.ensemble.RandomForestClassifier(n_estimators=10, min_samples_leaf=int(n_samples/7))\n",
    "clf_rxor_new.fit(X_rxor_new_train, y_rxor_new_train)"
   ]
  },
  {
   "cell_type": "code",
   "execution_count": 50,
   "id": "f277cff3-6182-40ce-86e7-3637b07764b9",
   "metadata": {},
   "outputs": [],
   "source": [
    "# take the remaing 30 and call those test\n",
    "X_xor_new_test = X_xor_new[70:]\n",
    "y_xor_new_test = y_xor_new[70:]\n",
    "\n",
    "X_rxor_new_test = X_rxor_new[70:]\n",
    "y_rxor_new_test = y_rxor_new[70:]"
   ]
  },
  {
   "cell_type": "code",
   "execution_count": 51,
   "id": "4075f65c-3b85-4c98-a069-8887f6dce316",
   "metadata": {},
   "outputs": [
    {
     "data": {
      "text/plain": [
       "(30, 30)"
      ]
     },
     "execution_count": 51,
     "metadata": {},
     "output_type": "execute_result"
    }
   ],
   "source": [
    "len(X_xor_new_test), len(X_rxor_new_test)"
   ]
  },
  {
   "cell_type": "code",
   "execution_count": 52,
   "id": "bd74b25c-d734-49aa-9bea-f5bf85d0fea7",
   "metadata": {},
   "outputs": [],
   "source": [
    "# concat our new samples\n",
    "X_xor_rxor_new_test = np.concatenate((X_xor_new_test, X_rxor_new_test))\n",
    "y_xor_rxor_new_test = np.concatenate((y_xor_new_test, y_rxor_new_test))"
   ]
  },
  {
   "cell_type": "code",
   "execution_count": 53,
   "id": "8cf7a261-589e-4e63-80da-87e12a95e592",
   "metadata": {},
   "outputs": [],
   "source": [
    "# predict proba using the original xor and rxor rf's and calc l2\n",
    "# new xor rf\n",
    "xor_rxor_new_test_xorRF_probas = clf_xor_new.predict_proba(X_xor_rxor_new_test)\n",
    "\n",
    "# new rxor rf\n",
    "xor_rxor_new_test_rxorRF_probas = clf_rxor_new.predict_proba(X_xor_rxor_new_test)"
   ]
  },
  {
   "cell_type": "code",
   "execution_count": 54,
   "id": "fcb19f5f-07e6-4125-92df-790c40064968",
   "metadata": {},
   "outputs": [],
   "source": [
    "# calc l2 for our new data\n",
    "d2 = calcL2(xor_rxor_new_test_xorRF_probas, xor_rxor_new_test_rxorRF_probas)"
   ]
  },
  {
   "cell_type": "code",
   "execution_count": 55,
   "id": "a5f4de58-743f-4b49-8f80-f0d5f0f339a3",
   "metadata": {},
   "outputs": [
    {
     "data": {
      "text/plain": [
       "1.0233096510361408"
      ]
     },
     "execution_count": 55,
     "metadata": {},
     "output_type": "execute_result"
    }
   ],
   "source": [
    "d2"
   ]
  },
  {
   "cell_type": "markdown",
   "id": "d74544ce-894d-4f28-a60c-a9616c43bbaa",
   "metadata": {},
   "source": [
    "d2 > d1, so the distributions are different "
   ]
  },
  {
   "cell_type": "code",
   "execution_count": null,
   "id": "d4307032-a426-4ade-9c48-0e7d349e5d84",
   "metadata": {},
   "outputs": [],
   "source": []
  }
 ],
 "metadata": {
  "kernelspec": {
   "display_name": "Python 3",
   "language": "python",
   "name": "python3"
  },
  "language_info": {
   "codemirror_mode": {
    "name": "ipython",
    "version": 3
   },
   "file_extension": ".py",
   "mimetype": "text/x-python",
   "name": "python",
   "nbconvert_exporter": "python",
   "pygments_lexer": "ipython3",
   "version": "3.8.8"
  }
 },
 "nbformat": 4,
 "nbformat_minor": 5
}
