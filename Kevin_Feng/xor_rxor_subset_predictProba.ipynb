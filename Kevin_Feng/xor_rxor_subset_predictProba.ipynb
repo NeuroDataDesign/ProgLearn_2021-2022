{
 "cells": [
  {
   "cell_type": "code",
   "execution_count": 18,
   "id": "a76c3187-3074-4eab-b82a-7212693acd1d",
   "metadata": {},
   "outputs": [],
   "source": [
    "# import \n",
    "import numpy as np\n",
    "import random\n",
    "from proglearn.sims import generate_gaussian_parity\n",
    "import matplotlib.pyplot as plt\n",
    "import seaborn as sns\n",
    "import scipy as sc\n",
    "import sklearn.ensemble\n",
    "from sklearn import metrics \n",
    "import math\n",
    "from scipy.stats import ttest_ind\n",
    "from scipy.spatial import distance\n",
    "import random\n",
    "import pandas as pd"
   ]
  },
  {
   "cell_type": "code",
   "execution_count": 2,
   "id": "3a519509-e9ab-47b0-ad2e-dc1d63e05495",
   "metadata": {},
   "outputs": [],
   "source": [
    "# number of samples\n",
    "n_samples = 100\n",
    "\n",
    "# generate xor \n",
    "X_xor, y_xor = generate_gaussian_parity(n_samples, angle_params=0)\n",
    "\n",
    "# generate rxor, 45 degrees\n",
    "X_rxor, y_rxor = generate_gaussian_parity(n_samples, angle_params=np.pi/4)"
   ]
  },
  {
   "cell_type": "code",
   "execution_count": 3,
   "id": "28ca884f-a9d9-4234-b70f-e6cfff1f8e6a",
   "metadata": {},
   "outputs": [],
   "source": [
    "# we want to pick 70 samples from xor/rxor to train trees so we need to first subset each into arrays with only xor_0/1 and rxor_0/1\n",
    "X_xor_0 = X_xor[np.where(y_xor == 0)]\n",
    "X_xor_1 = X_xor[np.where(y_xor == 1)]\n",
    "\n",
    "X_rxor_0 = X_rxor[np.where(y_rxor == 0)]\n",
    "X_rxor_1 = X_rxor[np.where(y_rxor == 1)]\n",
    "\n",
    "# we can concat the first 35 samples from each pair to use to tatal 70 samples for training and 30 for predict proba\n",
    "X_xor_train = np.concatenate((X_xor_0[0:35], X_xor_1[0:35]))\n",
    "y_xor_train = np.concatenate((np.zeros(35), np.ones(35)))\n",
    "\n",
    "# repeat for rxor\n",
    "X_rxor_train = np.concatenate((X_rxor_0[0:35], X_rxor_1[0:35]))\n",
    "y_rxor_train = np.concatenate((np.zeros(35), np.ones(35)))"
   ]
  },
  {
   "cell_type": "code",
   "execution_count": 4,
   "id": "1eb1c1bd-076a-43de-a308-6a0687009d54",
   "metadata": {},
   "outputs": [
    {
     "data": {
      "text/plain": [
       "(70, 70)"
      ]
     },
     "execution_count": 4,
     "metadata": {},
     "output_type": "execute_result"
    }
   ],
   "source": [
    "len(X_xor_train), len(X_xor_train)"
   ]
  },
  {
   "cell_type": "code",
   "execution_count": 5,
   "id": "6b62dc97-3b66-4443-88ae-b1ac1b19fc8b",
   "metadata": {},
   "outputs": [],
   "source": [
    "# init the rf's\n",
    "# xor rf\n",
    "clf_xor = sklearn.ensemble.RandomForestClassifier(n_estimators=10, min_samples_leaf=int(n_samples/7))\n",
    "\n",
    "# rxor rf\n",
    "clf_rxor = sklearn.ensemble.RandomForestClassifier(n_estimators=10, min_samples_leaf=int(n_samples/7))"
   ]
  },
  {
   "cell_type": "code",
   "execution_count": 6,
   "id": "8c132023-a7bd-4db8-842d-b71c261cb5e0",
   "metadata": {},
   "outputs": [
    {
     "data": {
      "text/plain": [
       "RandomForestClassifier(min_samples_leaf=14, n_estimators=10)"
      ]
     },
     "execution_count": 6,
     "metadata": {},
     "output_type": "execute_result"
    }
   ],
   "source": [
    "# train rfs\n",
    "# fit the model using the train data \n",
    "clf_xor.fit(X_xor_train, y_xor_train)\n",
    "\n",
    "# fit rxor model\n",
    "clf_rxor.fit(X_rxor_train, y_rxor_train)"
   ]
  },
  {
   "cell_type": "code",
   "execution_count": 7,
   "id": "0fc0b695-eaa6-431e-8f6a-b956355d8c39",
   "metadata": {},
   "outputs": [],
   "source": [
    "# concat 30 test samples for both xor and rxor\n",
    "# xor test\n",
    "X_xor_test = np.concatenate((X_xor_0[35:], X_xor_1[35:]))\n",
    "\n",
    "# rxor test \n",
    "X_rxor_test = np.concatenate((X_rxor_0[35:], X_rxor_1[35:]))\n",
    "\n",
    "# predict proba with xor rf\n",
    "xor_proba_xorRF = clf_xor.predict_proba(X_xor_test)\n",
    "\n",
    "# this is wrong and needs to be changed\n",
    "# rxor_proba_xorRF = clf_xor.predict_proba(X_rxor_test)\n",
    "\n",
    "# predict proba with rxor rf\n",
    "xor_proba_rxorRF = clf_rxor.predict_proba(X_xor_test)\n",
    "\n",
    "# this is wrong and needs to be changed\n",
    "# rxor_proba_rxorRF = clf_rxor.predict_proba(X_rxor_test)"
   ]
  },
  {
   "cell_type": "code",
   "execution_count": 10,
   "id": "eb4529fa-4c69-4f03-9df9-1e42d79ed463",
   "metadata": {},
   "outputs": [
    {
     "data": {
      "text/plain": [
       "(70, 2)"
      ]
     },
     "execution_count": 10,
     "metadata": {},
     "output_type": "execute_result"
    }
   ],
   "source": [
    "X_rxor_train.shape"
   ]
  },
  {
   "cell_type": "code",
   "execution_count": 101,
   "id": "eed15323-5df1-468e-a3b5-e8c61f3230c6",
   "metadata": {},
   "outputs": [],
   "source": [
    "# push rxor samples through xor tree\n",
    "rxorSamples_xorRf_leaves = clf_xor.apply(X_rxor_train)\n",
    "\n",
    "# push xor samples through rxor tree\n",
    "xorSamples_rxorRf_leaves = clf_rxor.apply(X_xor_train)"
   ]
  },
  {
   "cell_type": "code",
   "execution_count": 102,
   "id": "06c272d7-286c-4164-aa57-ae69fe45f7e0",
   "metadata": {},
   "outputs": [],
   "source": [
    "# convert both to df\n",
    "# rxor train samples pushed through xor rf\n",
    "df_rxorSamples_xorRf_leaves = pd.DataFrame(rxorSamples_xorRf_leaves)\n",
    "\n",
    "# xor train samples pushed through rxor rf\n",
    "df_xorSamples_rxorRf_leaves = pd.DataFrame(xorSamples_rxorRf_leaves)"
   ]
  },
  {
   "cell_type": "code",
   "execution_count": 94,
   "id": "ec9fcba6-6542-4cad-a13f-7754f50339be",
   "metadata": {},
   "outputs": [],
   "source": [
    "# function get % of samples at each label for each polytope (xor or rxor)\n",
    "def percentLabels(leaves, true_labels):\n",
    "    '''\n",
    "    Take df of leaves as input for mult estimators. \n",
    "    true_labels = true labels from generate_gaussian_parity()\n",
    "    Returns dictionary (keys = estimator) of dictionaries (keys = unique leaf id in estimator, value = % chance lable 0, % change label 1 at key)\n",
    "    '''\n",
    "    # dict to hold the %'s \n",
    "    # polytope as key, value = [% samples at this polytope with label 0, % samples at this polytope with label 1]\n",
    "    perc_labels_at_poly = {}\n",
    "    \n",
    "    # each col is in estimator \n",
    "    for col in leaves:\n",
    "        # to handle adding multiple uni's\n",
    "        first_uni = True\n",
    "        for uni in np.unique(leaves[col]):\n",
    "\n",
    "            # idx of each unique polytope \n",
    "            poly_to_test = np.where(leaves[col] == uni)[0]\n",
    "            num_0 = 0\n",
    "            num_1 = 0\n",
    "\n",
    "            # sum the number of each label at each poly/leaf\n",
    "            for i in poly_to_test:\n",
    "                if true_labels[i] == 0: \n",
    "                    num_0+=1\n",
    "                else:\n",
    "                    num_1+=1\n",
    "\n",
    "            # calc % of each label at each polytope/leaf\n",
    "            total_samples_at_poly = num_0 + num_1\n",
    "            perc_0 = num_0 / total_samples_at_poly\n",
    "            perc_1 = num_1 / total_samples_at_poly\n",
    "            \n",
    "            # if its the first uni we add to dict\n",
    "            if first_uni:\n",
    "                perc_labels_at_poly[col] = {uni:[perc_0, perc_1]}\n",
    "                first_uni = False\n",
    "                \n",
    "            # if its not the first uni in the col we need to use update to not overwrite the first uni\n",
    "            else:\n",
    "                perc_labels_at_poly[col].update({uni:[perc_0, perc_1]})\n",
    "                \n",
    "    return perc_labels_at_poly"
   ]
  },
  {
   "cell_type": "code",
   "execution_count": 121,
   "id": "197a300f-8d4a-4f86-9751-8dd790cf028b",
   "metadata": {},
   "outputs": [],
   "source": [
    "# get chance of being 0 or 1 for each unique label for each estimator\n",
    "# test rxor data pushed through xor rf\n",
    "rxorSamples_xorRf_label_percs = percentLabels(df_rxorSamples_xorRf_leaves, y_rxor_train)\n",
    "\n",
    "# test xor data pushed through rxor rf\n",
    "xorSamples_rxorRf_leaves_percs = percentLabels(df_xorSamples_rxorRf_leaves, y_xor_train)"
   ]
  },
  {
   "cell_type": "code",
   "execution_count": 96,
   "id": "12ca7272-10af-4f50-9e07-76638ab1b95b",
   "metadata": {},
   "outputs": [
    {
     "data": {
      "text/plain": [
       "{0: {1: [0.85, 0.15],\n",
       "  3: [0.08823529411764706, 0.9117647058823529],\n",
       "  4: [0.9375, 0.0625]},\n",
       " 1: {1: [0.13636363636363635, 0.8636363636363636],\n",
       "  2: [0.6666666666666666, 0.3333333333333333]},\n",
       " 2: {1: [0.38461538461538464, 0.6153846153846154],\n",
       "  2: [0.8333333333333334, 0.16666666666666666]},\n",
       " 3: {2: [0.6666666666666666, 0.3333333333333333],\n",
       "  3: [0.5172413793103449, 0.4827586206896552],\n",
       "  4: [0.23529411764705882, 0.7647058823529411]},\n",
       " 4: {1: [0.13636363636363635, 0.8636363636363636],\n",
       "  2: [0.6666666666666666, 0.3333333333333333]},\n",
       " 5: {1: [0.4166666666666667, 0.5833333333333334],\n",
       "  2: [0.6818181818181818, 0.3181818181818182]},\n",
       " 6: {1: [0.20833333333333334, 0.7916666666666666],\n",
       "  2: [0.6521739130434783, 0.34782608695652173]},\n",
       " 7: {1: [0.09523809523809523, 0.9047619047619048],\n",
       "  2: [0.673469387755102, 0.32653061224489793]},\n",
       " 8: {1: [0.05263157894736842, 0.9473684210526315],\n",
       "  3: [0.6896551724137931, 0.3103448275862069],\n",
       "  4: [0.6363636363636364, 0.36363636363636365]},\n",
       " 9: {1: [0.13636363636363635, 0.8636363636363636],\n",
       "  2: [0.6666666666666666, 0.3333333333333333]}}"
      ]
     },
     "execution_count": 96,
     "metadata": {},
     "output_type": "execute_result"
    }
   ],
   "source": [
    "rxorSamples_xorRf_label_percs"
   ]
  },
  {
   "cell_type": "code",
   "execution_count": 122,
   "id": "e7e65e2c-348f-45b1-851b-884dc0c0a961",
   "metadata": {},
   "outputs": [
    {
     "data": {
      "text/plain": [
       "{0: {2: [0.4444444444444444, 0.5555555555555556],\n",
       "  3: [0.4, 0.6],\n",
       "  4: [0.6071428571428571, 0.39285714285714285]},\n",
       " 1: {1: [0.4444444444444444, 0.5555555555555556],\n",
       "  2: [0.5348837209302325, 0.46511627906976744]},\n",
       " 2: {1: [0.625, 0.375],\n",
       "  3: [0.7058823529411765, 0.29411764705882354],\n",
       "  4: [0.14285714285714285, 0.8571428571428571]},\n",
       " 3: {1: [0.4444444444444444, 0.5555555555555556],\n",
       "  3: [0.4444444444444444, 0.5555555555555556],\n",
       "  4: [0.5588235294117647, 0.4411764705882353]},\n",
       " 4: {1: [0.625, 0.375],\n",
       "  3: [0.7058823529411765, 0.29411764705882354],\n",
       "  4: [0.14285714285714285, 0.8571428571428571]},\n",
       " 5: {1: [0.625, 0.375],\n",
       "  3: [0.7058823529411765, 0.29411764705882354],\n",
       "  4: [0.14285714285714285, 0.8571428571428571]},\n",
       " 6: {1: [0.6111111111111112, 0.3888888888888889],\n",
       "  2: [0.38235294117647056, 0.6176470588235294]},\n",
       " 7: {1: [0.625, 0.375],\n",
       "  3: [0.7058823529411765, 0.29411764705882354],\n",
       "  4: [0.14285714285714285, 0.8571428571428571]},\n",
       " 8: {2: [0.6285714285714286, 0.37142857142857144],\n",
       "  3: [0.2631578947368421, 0.7368421052631579],\n",
       "  4: [0.5, 0.5]},\n",
       " 9: {1: [0.625, 0.375], 2: [0.39473684210526316, 0.6052631578947368]}}"
      ]
     },
     "execution_count": 122,
     "metadata": {},
     "output_type": "execute_result"
    }
   ],
   "source": [
    "xorSamples_rxorRf_leaves_percs"
   ]
  },
  {
   "cell_type": "code",
   "execution_count": null,
   "id": "9e7542df-8e64-4e8e-8ca5-a6206d594ba7",
   "metadata": {
    "jupyter": {
     "source_hidden": true
    },
    "tags": []
   },
   "outputs": [],
   "source": [
    "# # gets first item in each sublist \n",
    "# def Extract(lst):\n",
    "#     return list(next(zip(*lst)))"
   ]
  },
  {
   "cell_type": "code",
   "execution_count": 118,
   "id": "d58bc8bf-ac91-4991-b26e-f768af482e64",
   "metadata": {},
   "outputs": [],
   "source": [
    "# push rxor test data through xor rf to get leaf idx's\n",
    "rxor_test_xorRF_leaves = clf_xor.apply(X_rxor_test)\n",
    "\n",
    "# push xor test data through rxor rf to get leaf idx's\n",
    "xor_test_rxorRF_leaves = clf_rxor.apply(X_xor_test)"
   ]
  },
  {
   "cell_type": "code",
   "execution_count": 119,
   "id": "dd2cacae-6f79-485b-aa01-9f7339f2b62e",
   "metadata": {},
   "outputs": [],
   "source": [
    "def predict(test_leaves, proba_dict):\n",
    "    '''\n",
    "    test_leaves = leaf indices of the test data\n",
    "    proba_dict = output from predictLabels\n",
    "    Returns predicted labels for held out test data.\n",
    "    '''\n",
    "    # array to hold predicted lables\n",
    "    labels = []\n",
    "    \n",
    "    # iterate through each sample \n",
    "    for sample_nodes in test_leaves:\n",
    "        # count whether estimator classifies as 0 or 1\n",
    "        zeros = 0\n",
    "        ones = 0\n",
    "        \n",
    "        # iterate through each estimator for each sample\n",
    "        for sample_node_at_est, est in zip(sample_nodes, proba_dict.keys()):\n",
    "            # add 1 to counter for what proba is greater\n",
    "            if proba_dict[est][sample_node_at_est][0] > proba_dict[est][sample_node_at_est][1]: zeros+=1\n",
    "            else: ones+=1\n",
    "            \n",
    "        # classify the sample as 0 or 1 based on all estimators \n",
    "        # 3 handles testing cases where 0=1, used for testing \n",
    "        if zeros > ones: labels.append(0)\n",
    "        elif ones > zeros: labels.append(1)\n",
    "        else: labels.append(3)\n",
    "        \n",
    "    return labels"
   ]
  },
  {
   "cell_type": "code",
   "execution_count": 123,
   "id": "5c0d9f51-1714-46ff-8bbb-4d95b9c92965",
   "metadata": {},
   "outputs": [],
   "source": [
    "# predict lables for our test data rxor in xor rf\n",
    "y_rxor_test_samples_xorRF = predict(rxor_test_xorRF_leaves, rxorSamples_xorRf_label_percs)\n",
    "\n",
    "# predict labels for our test data xor in rxor rf\n",
    "y_xor_test_samples_rxorRF = predict(xor_test_rxorRF_leaves, xorSamples_rxorRf_leaves_percs)"
   ]
  },
  {
   "cell_type": "code",
   "execution_count": 125,
   "id": "5c3c0599-0250-4b73-8ae6-05e2887131ca",
   "metadata": {},
   "outputs": [
    {
     "data": {
      "text/plain": [
       "([0,\n",
       "  1,\n",
       "  0,\n",
       "  0,\n",
       "  0,\n",
       "  0,\n",
       "  0,\n",
       "  1,\n",
       "  0,\n",
       "  0,\n",
       "  0,\n",
       "  0,\n",
       "  0,\n",
       "  1,\n",
       "  0,\n",
       "  1,\n",
       "  1,\n",
       "  0,\n",
       "  0,\n",
       "  1,\n",
       "  1,\n",
       "  0,\n",
       "  1,\n",
       "  1,\n",
       "  1,\n",
       "  0,\n",
       "  1,\n",
       "  1,\n",
       "  0,\n",
       "  0],\n",
       " 30)"
      ]
     },
     "execution_count": 125,
     "metadata": {},
     "output_type": "execute_result"
    }
   ],
   "source": [
    "y_rxor_test_samples_xorRF, len(y_rxor_test_samples_xorRF)"
   ]
  },
  {
   "cell_type": "code",
   "execution_count": 126,
   "id": "02443aea-73d3-401e-b378-3a7f3b37949f",
   "metadata": {},
   "outputs": [
    {
     "data": {
      "text/plain": [
       "([1,\n",
       "  1,\n",
       "  0,\n",
       "  0,\n",
       "  1,\n",
       "  0,\n",
       "  3,\n",
       "  1,\n",
       "  0,\n",
       "  1,\n",
       "  0,\n",
       "  1,\n",
       "  1,\n",
       "  0,\n",
       "  0,\n",
       "  0,\n",
       "  0,\n",
       "  1,\n",
       "  1,\n",
       "  1,\n",
       "  0,\n",
       "  1,\n",
       "  0,\n",
       "  0,\n",
       "  0,\n",
       "  1,\n",
       "  0,\n",
       "  0,\n",
       "  0,\n",
       "  0],\n",
       " 30)"
      ]
     },
     "execution_count": 126,
     "metadata": {},
     "output_type": "execute_result"
    }
   ],
   "source": [
    "y_xor_test_samples_rxorRF, len(y_xor_test_samples_rxorRF)"
   ]
  },
  {
   "cell_type": "code",
   "execution_count": null,
   "id": "4ff3b99d-ceef-4cb2-810a-28d8d203062a",
   "metadata": {},
   "outputs": [],
   "source": []
  }
 ],
 "metadata": {
  "kernelspec": {
   "display_name": "Python 3",
   "language": "python",
   "name": "python3"
  },
  "language_info": {
   "codemirror_mode": {
    "name": "ipython",
    "version": 3
   },
   "file_extension": ".py",
   "mimetype": "text/x-python",
   "name": "python",
   "nbconvert_exporter": "python",
   "pygments_lexer": "ipython3",
   "version": "3.8.8"
  }
 },
 "nbformat": 4,
 "nbformat_minor": 5
}
