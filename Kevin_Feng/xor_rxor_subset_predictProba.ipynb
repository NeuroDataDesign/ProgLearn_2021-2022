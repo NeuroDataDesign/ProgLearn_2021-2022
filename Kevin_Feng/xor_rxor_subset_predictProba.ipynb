{
 "cells": [
  {
   "cell_type": "code",
   "execution_count": 1,
   "id": "a76c3187-3074-4eab-b82a-7212693acd1d",
   "metadata": {},
   "outputs": [],
   "source": [
    "# import \n",
    "import numpy as np\n",
    "import random\n",
    "from proglearn.sims import generate_gaussian_parity\n",
    "import matplotlib.pyplot as plt\n",
    "import seaborn as sns\n",
    "import scipy as sc\n",
    "import sklearn.ensemble\n",
    "from sklearn import metrics \n",
    "import math\n",
    "from scipy.stats import ttest_ind\n",
    "from scipy.spatial import distance\n",
    "import random"
   ]
  },
  {
   "cell_type": "code",
   "execution_count": 2,
   "id": "3a519509-e9ab-47b0-ad2e-dc1d63e05495",
   "metadata": {},
   "outputs": [],
   "source": [
    "# number of samples\n",
    "n_samples = 100\n",
    "\n",
    "# generate xor \n",
    "X_xor, y_xor = generate_gaussian_parity(n_samples, angle_params=0)\n",
    "\n",
    "# generate rxor, 45 degrees\n",
    "X_rxor, y_rxor = generate_gaussian_parity(n_samples, angle_params=np.pi/4)"
   ]
  },
  {
   "cell_type": "code",
   "execution_count": 3,
   "id": "28ca884f-a9d9-4234-b70f-e6cfff1f8e6a",
   "metadata": {},
   "outputs": [],
   "source": [
    "# we want to pick 70 samples from xor/rxor to train trees so we need to first subset each into arrays with only xor_0/1 and rxor_0/1\n",
    "X_xor_0 = X_xor[np.where(y_xor == 0)]\n",
    "X_xor_1 = X_xor[np.where(y_xor == 1)]\n",
    "\n",
    "X_rxor_0 = X_rxor[np.where(y_rxor == 0)]\n",
    "X_rxor_1 = X_rxor[np.where(y_rxor == 1)]\n",
    "\n",
    "# we can concat the first 35 samples from each pair to use to tatal 70 samples for training and 30 for predict proba\n",
    "X_xor_train = np.concatenate((X_xor_0[0:35], X_xor_1[0:35]))\n",
    "y_xor_train = np.concatenate((np.zeros(35), np.ones(35)))\n",
    "\n",
    "# repeat for rxor\n",
    "X_rxor_train = np.concatenate((X_rxor_0[0:35], X_rxor_1[0:35]))\n",
    "y_rxor_train = np.concatenate((np.zeros(35), np.ones(35)))"
   ]
  },
  {
   "cell_type": "code",
   "execution_count": 4,
   "id": "1eb1c1bd-076a-43de-a308-6a0687009d54",
   "metadata": {},
   "outputs": [
    {
     "data": {
      "text/plain": [
       "(70, 70)"
      ]
     },
     "execution_count": 4,
     "metadata": {},
     "output_type": "execute_result"
    }
   ],
   "source": [
    "len(X_xor_train), len(X_xor_train)"
   ]
  },
  {
   "cell_type": "code",
   "execution_count": 5,
   "id": "6b62dc97-3b66-4443-88ae-b1ac1b19fc8b",
   "metadata": {},
   "outputs": [],
   "source": [
    "# init the rf's\n",
    "# xor rf\n",
    "clf_xor = sklearn.ensemble.RandomForestClassifier(n_estimators=10, min_samples_leaf=int(n_samples/7))\n",
    "\n",
    "# rxor rf\n",
    "clf_rxor = sklearn.ensemble.RandomForestClassifier(n_estimators=10, min_samples_leaf=int(n_samples/7))"
   ]
  },
  {
   "cell_type": "code",
   "execution_count": 6,
   "id": "8c132023-a7bd-4db8-842d-b71c261cb5e0",
   "metadata": {},
   "outputs": [
    {
     "data": {
      "text/plain": [
       "RandomForestClassifier(min_samples_leaf=14, n_estimators=10)"
      ]
     },
     "execution_count": 6,
     "metadata": {},
     "output_type": "execute_result"
    }
   ],
   "source": [
    "# train rfs\n",
    "# fit the model using the train data \n",
    "clf_xor.fit(X_xor_train, y_xor_train)\n",
    "\n",
    "# fit rxor model\n",
    "clf_rxor.fit(X_rxor_train, y_rxor_train)"
   ]
  },
  {
   "cell_type": "code",
   "execution_count": 7,
   "id": "0fc0b695-eaa6-431e-8f6a-b956355d8c39",
   "metadata": {},
   "outputs": [],
   "source": [
    "# concat 30 test samples for both xor and rxor\n",
    "# xor test\n",
    "X_xor_test = np.concatenate((X_xor_0[35:], X_xor_1[35:]))\n",
    "\n",
    "# rxor test \n",
    "X_rxor_test = np.concatenate((X_rxor_0[35:], X_rxor_1[35:]))\n",
    "\n",
    "# predict proba with xor rf\n",
    "xor_proba_xorRF = clf_xor.predict_proba(X_xor_test)\n",
    "rxor_proba_xorRF = clf_xor.predict_proba(X_rxor_test)\n",
    "\n",
    "# predict proba with rxor rf\n",
    "xor_proba_rxorRF = clf_rxor.predict_proba(X_xor_test)\n",
    "rxor_proba_rxorRF = clf_rxor.predict_proba(X_rxor_test)"
   ]
  },
  {
   "cell_type": "code",
   "execution_count": 8,
   "id": "7dda2d64-2238-4eb0-8d45-87877d8c043f",
   "metadata": {},
   "outputs": [
    {
     "data": {
      "text/plain": [
       "array([[0.49827583, 0.50172417],\n",
       "       [0.57402252, 0.42597748],\n",
       "       [0.51638587, 0.48361413],\n",
       "       [0.53822989, 0.46177011],\n",
       "       [0.41880222, 0.58119778],\n",
       "       [0.51638587, 0.48361413],\n",
       "       [0.44074839, 0.55925161],\n",
       "       [0.49827583, 0.50172417],\n",
       "       [0.44074839, 0.55925161],\n",
       "       [0.51638587, 0.48361413],\n",
       "       [0.53822989, 0.46177011],\n",
       "       [0.49799203, 0.50200797],\n",
       "       [0.44074839, 0.55925161],\n",
       "       [0.44074839, 0.55925161],\n",
       "       [0.52463677, 0.47536323],\n",
       "       [0.49827583, 0.50172417],\n",
       "       [0.57964924, 0.42035076],\n",
       "       [0.44074839, 0.55925161],\n",
       "       [0.51638587, 0.48361413],\n",
       "       [0.53822989, 0.46177011],\n",
       "       [0.51638587, 0.48361413],\n",
       "       [0.52193839, 0.47806161],\n",
       "       [0.52193839, 0.47806161],\n",
       "       [0.46700012, 0.53299988],\n",
       "       [0.54388456, 0.45611544],\n",
       "       [0.54388456, 0.45611544],\n",
       "       [0.51638587, 0.48361413],\n",
       "       [0.44035539, 0.55964461],\n",
       "       [0.47643182, 0.52356818],\n",
       "       [0.36116557, 0.63883443]])"
      ]
     },
     "execution_count": 8,
     "metadata": {},
     "output_type": "execute_result"
    }
   ],
   "source": [
    "xor_proba_xorRF"
   ]
  },
  {
   "cell_type": "code",
   "execution_count": 9,
   "id": "861b97ef-20e5-417d-a07a-f72ec38f9992",
   "metadata": {},
   "outputs": [
    {
     "data": {
      "text/plain": [
       "array([[0.51638587, 0.48361413],\n",
       "       [0.51638587, 0.48361413],\n",
       "       [0.53825783, 0.46174217],\n",
       "       [0.51638587, 0.48361413],\n",
       "       [0.54936974, 0.45063026],\n",
       "       [0.51638587, 0.48361413],\n",
       "       [0.51638587, 0.48361413],\n",
       "       [0.54936974, 0.45063026],\n",
       "       [0.51638587, 0.48361413],\n",
       "       [0.51638587, 0.48361413],\n",
       "       [0.49141954, 0.50858046],\n",
       "       [0.41880222, 0.58119778],\n",
       "       [0.53825783, 0.46174217],\n",
       "       [0.49799203, 0.50200797],\n",
       "       [0.36116557, 0.63883443],\n",
       "       [0.49827583, 0.50172417],\n",
       "       [0.37361182, 0.62638818],\n",
       "       [0.53825783, 0.46174217],\n",
       "       [0.43122052, 0.56877948],\n",
       "       [0.41880222, 0.58119778],\n",
       "       [0.55067614, 0.44932386],\n",
       "       [0.41880222, 0.58119778],\n",
       "       [0.41880222, 0.58119778],\n",
       "       [0.53825783, 0.46174217],\n",
       "       [0.41880222, 0.58119778],\n",
       "       [0.36116557, 0.63883443],\n",
       "       [0.51326355, 0.48673645],\n",
       "       [0.41880222, 0.58119778],\n",
       "       [0.41880222, 0.58119778],\n",
       "       [0.51360506, 0.48639494]])"
      ]
     },
     "execution_count": 9,
     "metadata": {},
     "output_type": "execute_result"
    }
   ],
   "source": [
    "rxor_proba_xorRF"
   ]
  },
  {
   "cell_type": "code",
   "execution_count": 10,
   "id": "0b92220a-b019-4659-8dcb-890c6607b8ef",
   "metadata": {},
   "outputs": [
    {
     "data": {
      "text/plain": [
       "array([[0.3825032 , 0.6174968 ],\n",
       "       [0.29817337, 0.70182663],\n",
       "       [0.87267308, 0.12732692],\n",
       "       [0.3825032 , 0.6174968 ],\n",
       "       [0.49178393, 0.50821607],\n",
       "       [0.87267308, 0.12732692],\n",
       "       [0.5659098 , 0.4340902 ],\n",
       "       [0.3825032 , 0.6174968 ],\n",
       "       [0.5659098 , 0.4340902 ],\n",
       "       [0.63556064, 0.36443936],\n",
       "       [0.3825032 , 0.6174968 ],\n",
       "       [0.29817337, 0.70182663],\n",
       "       [0.5659098 , 0.4340902 ],\n",
       "       [0.5659098 , 0.4340902 ],\n",
       "       [0.29817337, 0.70182663],\n",
       "       [0.29559844, 0.70440156],\n",
       "       [0.7050677 , 0.2949323 ],\n",
       "       [0.5659098 , 0.4340902 ],\n",
       "       [0.87267308, 0.12732692],\n",
       "       [0.3825032 , 0.6174968 ],\n",
       "       [0.82207178, 0.17792822],\n",
       "       [0.35047142, 0.64952858],\n",
       "       [0.35047142, 0.64952858],\n",
       "       [0.63556064, 0.36443936],\n",
       "       [0.35047142, 0.64952858],\n",
       "       [0.35047142, 0.64952858],\n",
       "       [0.63556064, 0.36443936],\n",
       "       [0.63556064, 0.36443936],\n",
       "       [0.63556064, 0.36443936],\n",
       "       [0.63556064, 0.36443936]])"
      ]
     },
     "execution_count": 10,
     "metadata": {},
     "output_type": "execute_result"
    }
   ],
   "source": [
    "xor_proba_rxorRF "
   ]
  },
  {
   "cell_type": "code",
   "execution_count": 11,
   "id": "020c6db8-57dc-4149-8aa4-d7ba84f05630",
   "metadata": {},
   "outputs": [
    {
     "data": {
      "text/plain": [
       "array([[0.71156064, 0.28843936],\n",
       "       [0.87267308, 0.12732692],\n",
       "       [0.27634554, 0.72365446],\n",
       "       [0.87267308, 0.12732692],\n",
       "       [0.5659098 , 0.4340902 ],\n",
       "       [0.63556064, 0.36443936],\n",
       "       [0.63556064, 0.36443936],\n",
       "       [0.80302224, 0.19697776],\n",
       "       [0.71156064, 0.28843936],\n",
       "       [0.87267308, 0.12732692],\n",
       "       [0.48468452, 0.51531548],\n",
       "       [0.29817337, 0.70182663],\n",
       "       [0.08273499, 0.91726501],\n",
       "       [0.41440298, 0.58559702],\n",
       "       [0.63556064, 0.36443936],\n",
       "       [0.08273499, 0.91726501],\n",
       "       [0.29817337, 0.70182663],\n",
       "       [0.08273499, 0.91726501],\n",
       "       [0.29817337, 0.70182663],\n",
       "       [0.29817337, 0.70182663],\n",
       "       [0.08273499, 0.91726501],\n",
       "       [0.49178393, 0.50821607],\n",
       "       [0.29817337, 0.70182663],\n",
       "       [0.08273499, 0.91726501],\n",
       "       [0.41440298, 0.58559702],\n",
       "       [0.63556064, 0.36443936],\n",
       "       [0.08273499, 0.91726501],\n",
       "       [0.29817337, 0.70182663],\n",
       "       [0.33523631, 0.66476369],\n",
       "       [0.35047142, 0.64952858]])"
      ]
     },
     "execution_count": 11,
     "metadata": {},
     "output_type": "execute_result"
    }
   ],
   "source": [
    "rxor_proba_rxorRF"
   ]
  },
  {
   "cell_type": "code",
   "execution_count": 18,
   "id": "9e7542df-8e64-4e8e-8ca5-a6206d594ba7",
   "metadata": {},
   "outputs": [],
   "source": [
    "# gets first item in each sublist \n",
    "def Extract(lst):\n",
    "    return list(next(zip(*lst)))"
   ]
  },
  {
   "cell_type": "code",
   "execution_count": null,
   "id": "11330199-a50a-4721-a5f5-746ef5a2719e",
   "metadata": {},
   "outputs": [],
   "source": []
  }
 ],
 "metadata": {
  "kernelspec": {
   "display_name": "Python 3",
   "language": "python",
   "name": "python3"
  },
  "language_info": {
   "codemirror_mode": {
    "name": "ipython",
    "version": 3
   },
   "file_extension": ".py",
   "mimetype": "text/x-python",
   "name": "python",
   "nbconvert_exporter": "python",
   "pygments_lexer": "ipython3",
   "version": "3.8.8"
  }
 },
 "nbformat": 4,
 "nbformat_minor": 5
}
