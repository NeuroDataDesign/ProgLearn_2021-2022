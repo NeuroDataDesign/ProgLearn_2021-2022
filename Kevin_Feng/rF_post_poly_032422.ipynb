{
 "cells": [
  {
   "cell_type": "markdown",
   "id": "70ed724a-ebaf-47cf-ab85-84dd4b91463c",
   "metadata": {},
   "source": [
    "# Pseudocode\n",
    "Generate the following:\n",
    "1. Train xor\n",
    "2. Test xor\n",
    "3. rxor 45 degrees\n",
    "\n",
    "Traing RF on train xor\n",
    "\n",
    "Push train xor (troubleshooting), test xor, test rxor through the RF using .apply() -> now we have arrays with leaf nodes that each sample ends up in\n",
    "\n",
    "Predict on test xor and rxor to get class labels for each sample -> array with 0's and 1's (y_pred_[r]xor)\n",
    "\n",
    "For test xor and rxor:\n",
    "    Get and iterate through unique polytopes (leaf nodes) -> get their idx's -> use y_pred_[r]xor[idx] to count number of 0's and 1's at each unique polytope\n",
    "    \n",
    "Might need to concat all unique idx's in xor and rxor sinec some only appear in one so we'd want the following dict to contain the polyope anyway ie [23: 0, 0] (example if xor didnt have poly 23 but rxor did)\n",
    "\n",
    "### Next steps:\n",
    "Instead of printing, store these counts of 0's and 1's in a dictionary with key = polytope and values = [# of 0's, # of 1's]\n",
    "\n",
    "For xor and rxor seperately, calculate % of samples at each polytope the belong to each label ie. [5: 10, 10] -> [5: 0.5, 0.5]\n",
    "\n",
    "Calculate l2 distance for each polytope between xor and rxor with above dictionary containing key = polytope, values = [%samples this polytope label0, [%samples this polytope label1]"
   ]
  },
  {
   "cell_type": "code",
   "execution_count": 1,
   "id": "26cf6a8c-a2dd-4148-8c13-0443fddfadc1",
   "metadata": {},
   "outputs": [],
   "source": [
    "# import \n",
    "import numpy as np\n",
    "import random\n",
    "from proglearn.sims import generate_gaussian_parity\n",
    "import matplotlib.pyplot as plt\n",
    "import seaborn as sns\n",
    "import scipy as sc\n",
    "import sklearn.ensemble\n",
    "from sklearn import metrics \n",
    "import math\n",
    "from scipy.stats import ttest_ind"
   ]
  },
  {
   "cell_type": "code",
   "execution_count": 2,
   "id": "696990d8-d2df-4f8d-969d-2f187449463f",
   "metadata": {},
   "outputs": [],
   "source": [
    "# generate xor train and test data\n",
    "X_train, y_train = generate_gaussian_parity(100, angle_params=0)\n",
    "X_test, y_test = generate_gaussian_parity(100, angle_params=0)\n",
    "\n",
    "# generate rxor, 45 degrees\n",
    "X_test_rxor, y_test_rxor = generate_gaussian_parity(100, angle_params=np.pi/4)"
   ]
  },
  {
   "cell_type": "code",
   "execution_count": 3,
   "id": "7784678d-eb17-4f47-9ebb-d0f9274ff2f6",
   "metadata": {},
   "outputs": [],
   "source": [
    "clf = sklearn.ensemble.RandomForestClassifier(n_estimators=1)"
   ]
  },
  {
   "cell_type": "code",
   "execution_count": 4,
   "id": "040f033a-9d9d-4aa0-8fb8-1b3b3f2d0d2f",
   "metadata": {},
   "outputs": [
    {
     "data": {
      "text/plain": [
       "RandomForestClassifier(n_estimators=1)"
      ]
     },
     "execution_count": 4,
     "metadata": {},
     "output_type": "execute_result"
    }
   ],
   "source": [
    "# fit the model using the train data \n",
    "clf.fit(X_train, y_train)\n",
    "\n",
    "# # predict using the test data\n",
    "# y_pred = clf.predict(X_test)"
   ]
  },
  {
   "cell_type": "code",
   "execution_count": 5,
   "id": "bf31d6e8-83d5-4bb9-b13c-43d66e0b8c00",
   "metadata": {},
   "outputs": [],
   "source": [
    "# index of each array that each sample ends up in\n",
    "xor_leaves = clf.apply(X_test)\n",
    "rxor_leaves = clf.apply(X_test_rxor)\n",
    "train_leaves = clf.apply(X_train)"
   ]
  },
  {
   "cell_type": "code",
   "execution_count": 6,
   "id": "4e5f2f47-207f-439e-a957-6885010ef85f",
   "metadata": {},
   "outputs": [],
   "source": [
    "# predicted test xor labels\n",
    "y_pred_xor = clf.predict(X_test)"
   ]
  },
  {
   "cell_type": "code",
   "execution_count": 7,
   "id": "08e9f89b-195d-4d27-ab51-900169d95c35",
   "metadata": {},
   "outputs": [],
   "source": [
    "# predicted rxor labels\n",
    "y_pred_rxor = clf.predict(X_test_rxor)"
   ]
  },
  {
   "cell_type": "code",
   "execution_count": 8,
   "id": "b435583a-16b9-48fc-a797-c1eca79b5a4e",
   "metadata": {},
   "outputs": [
    {
     "name": "stdout",
     "output_type": "stream",
     "text": [
      "node 4 : 0 9\n",
      "node 5 : 2 0\n",
      "node 6 : 0 7\n",
      "node 11 : 8 0\n",
      "node 12 : 0 5\n",
      "node 13 : 13 0\n",
      "node 17 : 7 0\n",
      "node 19 : 12 0\n",
      "node 20 : 0 6\n",
      "node 24 : 1 0\n",
      "node 25 : 0 2\n",
      "node 27 : 13 0\n",
      "node 28 : 0 15\n"
     ]
    }
   ],
   "source": [
    "for uni in np.unique(xor_leaves):\n",
    "    # idx of each unique polytope \n",
    "    poly_to_test = np.where(xor_leaves == uni)[0]\n",
    "    num_0 = 0\n",
    "    num_1 = 0\n",
    "\n",
    "    for i in poly_to_test:\n",
    "        if y_pred_xor[i] == 0: \n",
    "            num_0+=1\n",
    "        else:\n",
    "            num_1+=1\n",
    "            \n",
    "    print('node', uni, ':', num_0, num_1)"
   ]
  },
  {
   "cell_type": "code",
   "execution_count": 9,
   "id": "10d1ede5-570d-4e8e-aee2-1e3cbe15b1fc",
   "metadata": {},
   "outputs": [
    {
     "name": "stdout",
     "output_type": "stream",
     "text": [
      "node 4 : 0 19\n",
      "node 5 : 7 0\n",
      "node 6 : 0 5\n",
      "node 11 : 7 0\n",
      "node 13 : 10 0\n",
      "node 17 : 3 0\n",
      "node 19 : 9 0\n",
      "node 20 : 0 4\n",
      "node 25 : 0 2\n",
      "node 27 : 24 0\n",
      "node 28 : 0 10\n"
     ]
    }
   ],
   "source": [
    "for uni in np.unique(rxor_leaves):\n",
    "    # idx of each unique polytope\n",
    "    poly_to_test = np.where(rxor_leaves == uni)[0]\n",
    "    num_0 = 0\n",
    "    num_1 = 0\n",
    "\n",
    "    for i in poly_to_test:\n",
    "        if y_pred_rxor[i] == 0: \n",
    "            num_0+=1\n",
    "        else:\n",
    "            num_1+=1\n",
    "            \n",
    "    print('node', uni, ':', num_0, num_1)"
   ]
  },
  {
   "cell_type": "code",
   "execution_count": 10,
   "id": "46cb47ab-a0de-46fa-a458-484b4bbe17c6",
   "metadata": {},
   "outputs": [
    {
     "data": {
      "text/plain": [
       "array([ 4,  5,  6, 11, 12, 13, 17, 19, 20, 24, 25, 27, 28], dtype=int64)"
      ]
     },
     "execution_count": 10,
     "metadata": {},
     "output_type": "execute_result"
    }
   ],
   "source": [
    "np.unique(xor_leaves)"
   ]
  },
  {
   "cell_type": "code",
   "execution_count": 11,
   "id": "d5672547-e1f2-4944-8a9f-ecd8fdaa8233",
   "metadata": {},
   "outputs": [
    {
     "data": {
      "text/plain": [
       "array([ 4,  5,  6, 11, 13, 17, 19, 20, 25, 27, 28], dtype=int64)"
      ]
     },
     "execution_count": 11,
     "metadata": {},
     "output_type": "execute_result"
    }
   ],
   "source": [
    "np.unique(rxor_leaves)"
   ]
  }
 ],
 "metadata": {
  "kernelspec": {
   "display_name": "Python 3",
   "language": "python",
   "name": "python3"
  },
  "language_info": {
   "codemirror_mode": {
    "name": "ipython",
    "version": 3
   },
   "file_extension": ".py",
   "mimetype": "text/x-python",
   "name": "python",
   "nbconvert_exporter": "python",
   "pygments_lexer": "ipython3",
   "version": "3.8.8"
  }
 },
 "nbformat": 4,
 "nbformat_minor": 5
}
