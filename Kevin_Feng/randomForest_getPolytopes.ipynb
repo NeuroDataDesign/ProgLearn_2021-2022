{
 "cells": [
  {
   "cell_type": "code",
   "execution_count": 1,
   "id": "3b024672-cd11-49b6-8720-ff104a0e0504",
   "metadata": {},
   "outputs": [],
   "source": [
    "# import \n",
    "import numpy as np\n",
    "import random\n",
    "from proglearn.sims import generate_gaussian_parity\n",
    "import matplotlib.pyplot as plt\n",
    "import seaborn as sns\n",
    "import scipy as sc\n",
    "import sklearn.ensemble\n",
    "from sklearn import metrics \n",
    "import math\n",
    "from scipy.stats import ttest_ind"
   ]
  },
  {
   "cell_type": "code",
   "execution_count": 2,
   "id": "b7499c6e-6408-4152-9d2a-ed09217d079c",
   "metadata": {},
   "outputs": [],
   "source": [
    "# generate xor train and test data\n",
    "X_train, y_train = generate_gaussian_parity(100, angle_params=0)\n",
    "X_test, y_test = generate_gaussian_parity(10, angle_params=0)\n",
    "\n",
    "# generate rxor, 45 degrees\n",
    "X_test_rxor, y_test_rxor = generate_gaussian_parity(10, angle_params=np.pi/4)"
   ]
  },
  {
   "cell_type": "code",
   "execution_count": 3,
   "id": "297dea8e-3dab-4b34-860d-c6375f473f8a",
   "metadata": {},
   "outputs": [],
   "source": [
    "clf = sklearn.ensemble.RandomForestClassifier(n_estimators=100)"
   ]
  },
  {
   "cell_type": "code",
   "execution_count": 4,
   "id": "233b40c1-c181-4c52-af74-6ac2dfaaa2da",
   "metadata": {},
   "outputs": [],
   "source": [
    "# fit the model using the train data \n",
    "clf.fit(X_train, y_train)\n",
    "\n",
    "# predict using the test data\n",
    "y_pred = clf.predict(X_test)"
   ]
  },
  {
   "cell_type": "code",
   "execution_count": 5,
   "id": "4362a9f0-eadf-423f-bf14-bff3d27febad",
   "metadata": {},
   "outputs": [
    {
     "name": "stdout",
     "output_type": "stream",
     "text": [
      "ACCURACY OF THE MODEL:  0.9\n"
     ]
    }
   ],
   "source": [
    "# using metrics module for accuracy calculation\n",
    "print(\"ACCURACY OF THE MODEL: \", metrics.accuracy_score(y_test, y_pred))"
   ]
  },
  {
   "cell_type": "code",
   "execution_count": 6,
   "id": "09d39226-98dc-43c4-be5a-dede300f9e87",
   "metadata": {},
   "outputs": [],
   "source": [
    "# predict on the rxor data\n",
    "y_pred_rxor = clf.predict(X_test_rxor)"
   ]
  },
  {
   "cell_type": "code",
   "execution_count": 7,
   "id": "6562c13a-31f0-4174-94b1-eb2f3e5d7265",
   "metadata": {},
   "outputs": [
    {
     "name": "stdout",
     "output_type": "stream",
     "text": [
      "ACCURACY OF THE MODEL:  0.7\n"
     ]
    }
   ],
   "source": [
    "# using metrics module for accuracy calculation\n",
    "print(\"ACCURACY OF THE MODEL: \", metrics.accuracy_score(y_test_rxor, y_pred_rxor))"
   ]
  },
  {
   "cell_type": "code",
   "execution_count": 8,
   "id": "5f2f0b8c-f837-49ce-bc65-b0bb27ebcf06",
   "metadata": {},
   "outputs": [],
   "source": [
    "# For each datapoint x in X and for each tree in the forest, return the index of the leaf x ends up in. xor\n",
    "# 100 points for each data point since we have n_estimators = 100\n",
    "leaf_indx_xor = clf.apply(X_test)"
   ]
  },
  {
   "cell_type": "code",
   "execution_count": 9,
   "id": "767229b8-23be-4ff1-917c-9848df302f0d",
   "metadata": {},
   "outputs": [],
   "source": [
    "# rxor\n",
    "leaf_idx_rxor = clf.apply(X_test_rxor)"
   ]
  },
  {
   "cell_type": "code",
   "execution_count": 10,
   "id": "10d1dbb3-6807-4d53-ac3e-8f76cd643f79",
   "metadata": {},
   "outputs": [],
   "source": [
    "# predict class probabilities for X, xor \n",
    "probas_xor = clf.predict_proba(X_test)"
   ]
  },
  {
   "cell_type": "code",
   "execution_count": 11,
   "id": "1e438f62-245b-4352-ba77-7b3a80ac173f",
   "metadata": {},
   "outputs": [
    {
     "data": {
      "text/plain": [
       "array([[0.84, 0.16],\n",
       "       [0.02, 0.98],\n",
       "       [0.06, 0.94],\n",
       "       [0.15, 0.85],\n",
       "       [0.09, 0.91],\n",
       "       [0.95, 0.05],\n",
       "       [0.11, 0.89],\n",
       "       [0.75, 0.25],\n",
       "       [0.64, 0.36],\n",
       "       [0.79, 0.21]])"
      ]
     },
     "execution_count": 11,
     "metadata": {},
     "output_type": "execute_result"
    }
   ],
   "source": [
    "probas_xor"
   ]
  },
  {
   "cell_type": "code",
   "execution_count": 12,
   "id": "001fd311-620f-41a8-a939-81e7bca7335a",
   "metadata": {},
   "outputs": [],
   "source": [
    "# rxor\n",
    "probas_rxor = clf.predict_proba(X_test_rxor)"
   ]
  },
  {
   "cell_type": "code",
   "execution_count": 13,
   "id": "6fc9a43b-4d57-41a8-86fc-7d55b18bf903",
   "metadata": {},
   "outputs": [
    {
     "data": {
      "text/plain": [
       "array([[0.13, 0.87],\n",
       "       [0.22, 0.78],\n",
       "       [0.71, 0.29],\n",
       "       [0.63, 0.37],\n",
       "       [0.62, 0.38],\n",
       "       [0.64, 0.36],\n",
       "       [0.83, 0.17],\n",
       "       [0.14, 0.86],\n",
       "       [0.73, 0.27],\n",
       "       [0.72, 0.28]])"
      ]
     },
     "execution_count": 13,
     "metadata": {},
     "output_type": "execute_result"
    }
   ],
   "source": [
    "probas_rxor"
   ]
  },
  {
   "cell_type": "code",
   "execution_count": 14,
   "id": "1bfdb49b-4d7e-431e-8de8-fc35bd5cb2b1",
   "metadata": {},
   "outputs": [
    {
     "data": {
      "text/plain": [
       "Ttest_indResult(statistic=array([-0.65874711,  0.65874711]), pvalue=array([0.51839675, 0.51839675]))"
      ]
     },
     "execution_count": 14,
     "metadata": {},
     "output_type": "execute_result"
    }
   ],
   "source": [
    "ttest_ind(probas_xor, probas_rxor)"
   ]
  },
  {
   "cell_type": "markdown",
   "id": "0144f093-1037-4a6c-9c9e-24ac8359e4b7",
   "metadata": {},
   "source": [
    "## Extract polytopes per label for X_test and X_test_rxor"
   ]
  },
  {
   "cell_type": "code",
   "execution_count": 26,
   "id": "9e5ec0dc-2ae2-4de6-843e-253f9758217a",
   "metadata": {},
   "outputs": [],
   "source": [
    "# retuns polytopes per label, # of polytopes per label, and total samples per label as dictionary\n",
    "# labels as keys\n",
    "def getPolytopes(X, y):\n",
    "    # get unique labels\n",
    "    labels = np.unique(y)\n",
    "    \n",
    "    # dict to store polytopes per label\n",
    "    polytope_label_dict = {}\n",
    "\n",
    "    # dict to store total number of polytopes per label\n",
    "    total_polytope_label_dict = {}\n",
    "\n",
    "    # dict to store total samples per label\n",
    "    total_sample_label_dict = {}\n",
    "\n",
    "    for label in labels:\n",
    "        X_ = X[np.where(y==label)[0]]\n",
    "        # does this at an estimator level so it's an array with dims 1 x n_samples\n",
    "        # when running apply without specifying estimator it runs it on all of them\n",
    "        # so the resulting array is n_samples x n_estimators\n",
    "        predicted_leaf_ids_across_trees = np.array(\n",
    "            [tree.apply(X_) for tree in clf.estimators_]).T\n",
    "        polytopes, polytope_count = np.unique(predicted_leaf_ids_across_trees, return_inverse=True, axis=0)\n",
    "\n",
    "        # add the polytopes at each label to the dictionary\n",
    "        polytope_label_dict[label] = polytopes\n",
    "\n",
    "        total_polytopes_this_label = len(polytopes)\n",
    "        total_polytope_label_dict[label] = total_polytopes_this_label\n",
    "        print('total polytopes at label', label, ':', total_polytopes_this_label)\n",
    "\n",
    "        total_samples_this_label = X_.shape[0]\n",
    "        total_sample_label_dict[label] = total_samples_this_label\n",
    "        print('total samples at label', label, ':', total_samples_this_label)\n",
    "    \n",
    "    return polytope_label_dict, total_polytope_label_dict, total_sample_label_dict"
   ]
  },
  {
   "cell_type": "code",
   "execution_count": 27,
   "id": "1c8bdd8b-6808-46ac-b78d-423776b108f2",
   "metadata": {},
   "outputs": [
    {
     "name": "stdout",
     "output_type": "stream",
     "text": [
      "total polytopes at label 0 : 4\n",
      "total samples at label 0 : 4\n",
      "total polytopes at label 1 : 6\n",
      "total samples at label 1 : 6\n"
     ]
    }
   ],
   "source": [
    "# # dict to store polytopes per label\n",
    "# polytope_label_dict = {}\n",
    "\n",
    "# # dict to store total number of polytopes per label\n",
    "# total_polytope_label_dict = {}\n",
    "\n",
    "# # dict to store total samples per label\n",
    "# total_sample_label_dict = {}\n",
    "\n",
    "polytope_label_dict, total_polytope_label_dict, total_sample_label_dict = getPolytopes(X_test, y_test)"
   ]
  },
  {
   "cell_type": "code",
   "execution_count": 28,
   "id": "c8503318-db40-4fc7-928f-93bc6b8d90b6",
   "metadata": {},
   "outputs": [
    {
     "data": {
      "text/plain": [
       "{0: array([[ 1, 12, 25,  8, 36,  3,  8,  2, 12, 18, 29,  6, 28, 41,  8,  3,\n",
       "          3, 16,  7,  9, 29,  8,  7,  3,  5,  4,  5, 28, 28, 19, 38, 25,\n",
       "         30, 18,  5, 37,  3, 18, 23,  3,  5,  1, 31,  7,  3, 17, 23,  3,\n",
       "          5,  3, 19, 33,  5,  3, 39,  3,  4,  4, 23, 22, 12,  5,  5,  1,\n",
       "         10, 19,  3,  7, 24,  3, 20, 29, 30,  4,  5,  2,  9, 15, 11,  7,\n",
       "          4,  1,  8, 11,  5, 10,  1,  3, 27, 13, 16,  2, 17, 38,  3,  4,\n",
       "          8, 10,  6, 35],\n",
       "        [32,  4, 14, 30, 27, 14, 38, 31,  7, 10, 20, 13,  9, 17, 22, 18,\n",
       "         13, 24, 29, 31, 34, 24, 25, 11, 43, 19, 27, 17, 11, 11, 14, 12,\n",
       "         26, 13, 25,  9, 25,  8, 12, 24, 17, 25,  4, 11, 12,  8, 12,  9,\n",
       "         19, 24, 13, 22, 25, 23, 14, 25, 18, 15, 13, 13, 30, 16, 31, 21,\n",
       "         23,  6,  9, 43, 21, 15,  5, 18, 26, 19, 25, 23, 23, 30, 36, 24,\n",
       "         30, 26, 27, 22, 30, 28, 32, 48, 14,  5,  6, 25, 13, 30, 11, 34,\n",
       "         30, 16, 33, 17],\n",
       "        [38, 21, 20, 30, 33, 22, 46, 31, 29, 27, 42, 45, 33, 30, 30, 39,\n",
       "         20, 24, 33, 31, 39, 26, 29, 18, 43, 19, 27, 38, 39, 22, 44, 22,\n",
       "         28, 39, 36, 33, 40, 33, 36, 24, 22, 32, 11, 23, 24, 28, 14, 29,\n",
       "         29, 28, 15, 28, 25, 30, 30, 25, 21, 38, 32, 35, 30, 20, 31, 21,\n",
       "         26, 11, 10, 49, 21, 49, 15, 18, 26, 31, 36, 38, 23, 32, 38, 44,\n",
       "         30, 31, 32, 22, 30, 35, 38, 52, 36, 26, 24, 25, 13, 33, 26, 34,\n",
       "         36, 20, 33, 28],\n",
       "        [38, 21, 20, 30, 34, 30, 46, 31, 29, 27, 42, 45, 33, 33, 30, 47,\n",
       "         24, 25, 33, 31, 39, 26, 29, 23, 43, 32, 27, 38, 39, 29, 47, 23,\n",
       "         28, 39, 36, 33, 40, 33, 37, 24, 23, 32, 20, 23, 24, 28, 15, 29,\n",
       "         29, 28, 17, 28, 25, 31, 36, 26, 21, 38, 32, 35, 30, 34, 32, 21,\n",
       "         26, 15, 10, 49, 21, 49, 29, 23, 26, 32, 37, 38, 23, 32, 38, 44,\n",
       "         31, 32, 32, 22, 30, 35, 38, 52, 36, 26, 24, 25, 13, 33, 26, 34,\n",
       "         36, 21, 34, 30]], dtype=int64),\n",
       " 1: array([[ 1,  3,  3,  3,  5,  2,  9,  2,  2,  2,  5,  6,  8, 13,  6, 13,\n",
       "          2,  4,  9,  4,  4,  2,  6,  6,  4,  4,  4, 11,  6,  6, 10,  6,\n",
       "         10, 11,  4,  4,  2,  6, 10,  2,  4,  1,  3,  2,  2,  3,  6,  2,\n",
       "          6,  2,  3,  3,  9,  2,  9,  2,  5,  3, 11,  7,  4,  4,  5,  1,\n",
       "          8,  3,  2,  8,  4,  2,  4,  6,  6,  3,  7,  2,  2,  3, 13,  8,\n",
       "          3,  1,  7,  3,  6,  9,  1,  2,  5,  4,  5,  2,  4, 11,  2,  3,\n",
       "          7,  3,  2, 11],\n",
       "        [ 1,  3,  3,  7,  5,  2,  8,  2,  6, 13,  5,  6, 14, 16,  6,  2,\n",
       "          2,  4,  7,  8,  4,  7,  6,  2,  4,  4,  4, 23,  6, 10, 19, 17,\n",
       "          8, 13,  4, 14,  2, 13, 13,  2,  4,  1,  3,  2,  2, 15,  4,  2,\n",
       "          4,  2,  3, 11,  5,  2, 18,  2,  4,  3, 13, 12,  4,  4,  5,  1,\n",
       "          8,  3,  2,  6,  8,  2, 10,  6, 10,  3,  4,  2,  8,  3, 11,  6,\n",
       "          3,  1,  7,  3,  4,  9,  1,  2, 11,  4,  5,  2,  4, 11,  2,  3,\n",
       "          7,  3,  6, 16],\n",
       "        [ 1, 11,  3,  7,  7,  2,  8,  2, 11, 17, 22,  6, 22, 23,  6,  2,\n",
       "          2,  4,  7,  8, 16,  7,  6,  2,  4,  4,  4, 27, 15, 18, 23, 17,\n",
       "          8, 17,  4, 14,  2, 13, 22,  2,  5,  1, 14,  5,  2, 15,  4,  2,\n",
       "          4,  2,  3, 11,  5,  2, 27,  2,  3,  4, 17, 21, 11,  4,  5,  1,\n",
       "          8,  3,  2,  6,  8,  2, 19,  7, 10,  3,  4,  2,  8, 10, 11,  6,\n",
       "          3,  1,  7,  6,  5,  9,  1,  2, 11, 12, 12,  2,  9, 17,  3,  3,\n",
       "          7,  7,  6, 22],\n",
       "        [ 5,  3,  3,  7,  5, 13, 10,  2,  6, 13,  5,  6, 14, 16,  6, 25,\n",
       "          5,  4,  9,  8,  4,  7,  6, 15,  4,  6,  4, 23,  6, 10, 19, 17,\n",
       "         10, 13,  4, 14,  2, 13, 13,  5,  4, 11,  3,  2,  2, 15,  6,  2,\n",
       "          8,  2,  3, 13,  9,  2, 18,  5,  8, 18, 13, 12,  4,  4,  9,  6,\n",
       "          8,  3,  2, 22,  8, 10, 10,  8, 10, 13,  7,  4,  8,  3, 16, 14,\n",
       "          6,  6,  7,  3,  8,  9,  3,  2, 11,  4,  5,  4,  4, 11, 10,  7,\n",
       "          7,  3,  8, 16],\n",
       "        [13,  3,  3, 19,  5, 13, 18, 15,  6, 13,  5, 22, 14, 16,  6, 25,\n",
       "         15,  4, 16, 14,  4,  7,  6, 15, 11, 17,  4, 23,  6, 10, 19, 17,\n",
       "         10, 13, 11, 18, 11, 13, 13, 18,  4, 11,  3,  2,  2, 15,  6,  2,\n",
       "         14,  2,  3, 13,  9, 12, 18, 13,  8, 18, 13, 12,  4,  9,  9,  6,\n",
       "          8,  3,  8, 22,  8, 19, 10, 10, 10, 13, 18, 22,  8,  3, 20, 32,\n",
       "         16,  6, 11,  3, 14, 21, 16, 18, 11,  4,  5,  6,  4, 11, 10, 13,\n",
       "         10,  3, 17, 16],\n",
       "        [32, 18, 20, 30, 27, 24, 39, 31, 26, 27, 20, 30, 22, 30, 22, 39,\n",
       "         20, 24, 29, 31, 33, 24, 29, 18, 43, 19, 27, 38, 21, 22, 44, 22,\n",
       "         26, 37, 25, 33, 25, 31, 32, 24, 17, 25, 11, 18, 22, 28, 14, 29,\n",
       "         21, 20, 15, 26, 25, 26, 30, 25, 18, 24, 30, 35, 30, 20, 31, 21,\n",
       "         23, 11, 10, 43, 21, 32, 15, 18, 26, 31, 34, 38, 23, 30, 36, 40,\n",
       "         30, 26, 32, 22, 30, 33, 35, 48, 16, 24, 10, 25, 13, 30, 23, 34,\n",
       "         30, 20, 33, 28]], dtype=int64)}"
      ]
     },
     "execution_count": 28,
     "metadata": {},
     "output_type": "execute_result"
    }
   ],
   "source": [
    "polytope_label_dict"
   ]
  },
  {
   "cell_type": "code",
   "execution_count": 29,
   "id": "c30e8315-8d6f-4f55-a5b7-e7097adfbb85",
   "metadata": {},
   "outputs": [
    {
     "data": {
      "text/plain": [
       "{0: 4, 1: 6}"
      ]
     },
     "execution_count": 29,
     "metadata": {},
     "output_type": "execute_result"
    }
   ],
   "source": [
    "total_polytope_label_dict"
   ]
  },
  {
   "cell_type": "code",
   "execution_count": 30,
   "id": "c4ad792e-d065-4920-a491-ea150599ca05",
   "metadata": {},
   "outputs": [
    {
     "data": {
      "text/plain": [
       "{0: 4, 1: 6}"
      ]
     },
     "execution_count": 30,
     "metadata": {},
     "output_type": "execute_result"
    }
   ],
   "source": [
    "total_sample_label_dict"
   ]
  },
  {
   "cell_type": "markdown",
   "id": "980a3d35-c4f8-46b7-80a0-970c3354ad34",
   "metadata": {},
   "source": [
    "## get polytope stats for rxor"
   ]
  },
  {
   "cell_type": "code",
   "execution_count": 31,
   "id": "9e2e121f-4f1e-4cab-9f8c-05daf85da916",
   "metadata": {},
   "outputs": [
    {
     "name": "stdout",
     "output_type": "stream",
     "text": [
      "total polytopes at label 0 : 8\n",
      "total samples at label 0 : 8\n",
      "total polytopes at label 1 : 2\n",
      "total samples at label 1 : 2\n"
     ]
    }
   ],
   "source": [
    "polytope_label_dict_rxor, total_polytope_label_dict_rxor, total_sample_label_dict_rxor = getPolytopes(X_test_rxor, y_test_rxor)"
   ]
  },
  {
   "cell_type": "code",
   "execution_count": 32,
   "id": "bc8abf33-11a9-4db5-a0fe-f95bda659e34",
   "metadata": {},
   "outputs": [
    {
     "data": {
      "text/plain": [
       "{0: array([[ 1, 11,  3,  7,  7,  2,  8,  2, 11, 17, 22,  4, 22, 23,  6,  2,\n",
       "          2,  4,  5,  8, 16,  7,  6,  2,  4,  2,  4, 27, 15, 18, 23, 17,\n",
       "          8, 17,  4, 14,  2, 13, 21,  2,  5,  1, 14,  5,  2, 15,  4,  2,\n",
       "          4,  2,  3, 11,  5,  2, 27,  2,  3,  4, 17, 21,  9,  4,  4,  1,\n",
       "          8,  3,  2,  4,  8,  2, 19,  7, 10,  3,  4,  2,  8, 10, 11,  4,\n",
       "          3,  1,  4,  6,  5,  9,  1,  2, 11, 12, 12,  2,  9, 17,  3,  3,\n",
       "          7,  7,  6, 22],\n",
       "        [ 1, 12,  4,  8, 14,  2,  8,  2, 11, 17, 29,  4, 24, 23,  6,  3,\n",
       "          3, 16,  6,  9, 24,  8,  7,  2,  5,  2,  5, 28, 15, 19, 23, 23,\n",
       "          9, 17,  4, 15,  3, 13, 23,  2,  5,  1, 17,  7,  2, 15,  5,  3,\n",
       "          5,  2, 17, 11,  5,  2, 35,  3,  3,  4, 23, 21,  9,  5,  4,  1,\n",
       "         10,  3,  3,  4, 11,  3, 19,  7, 11,  4,  5,  2,  9, 15, 11,  4,\n",
       "          4,  1,  5,  6,  5, 10,  1,  3, 11, 13, 14,  2, 11, 21,  3,  4,\n",
       "          7, 10,  6, 31],\n",
       "        [ 1, 12,  4,  8, 16,  2,  8,  2, 11, 18, 29,  4, 24, 23,  8,  3,\n",
       "          3, 16,  6,  9, 24,  8,  7,  2,  5,  2,  5, 28, 25, 19, 23, 23,\n",
       "          9, 17,  4, 15,  3, 18, 23,  2,  5,  1, 17,  7,  3, 17, 20,  3,\n",
       "          5,  3, 19, 27,  5,  2, 35,  3,  3,  4, 23, 21,  9,  5,  4,  1,\n",
       "         10, 17,  3,  4, 11,  3, 19,  7, 11,  4,  5,  2,  9, 15, 11,  4,\n",
       "          4,  1,  5,  6,  5, 10,  1,  3, 12, 13, 14,  2, 11, 21,  3,  4,\n",
       "          8, 10,  6, 31],\n",
       "        [ 1, 12, 23,  8, 18,  3,  8,  2, 12, 18, 29,  6, 26, 35,  8,  3,\n",
       "          3, 16,  7,  9, 24,  8,  7,  3,  5,  4,  5, 28, 26, 19, 23, 25,\n",
       "         30, 18,  5, 15,  3, 18, 23,  3,  5,  1, 25,  7,  3, 17, 21,  3,\n",
       "          5,  3, 19, 30,  5,  3, 35,  3,  3,  4, 23, 21, 11,  5,  5,  1,\n",
       "         10, 19,  3,  7, 11,  3, 20,  7, 11,  4,  5,  2,  9, 15, 11,  7,\n",
       "          4,  1,  8,  6,  5, 10,  1,  3, 27, 13, 16,  2, 15, 21,  3,  4,\n",
       "          8, 10,  6, 33],\n",
       "        [ 1, 12, 23,  8, 18,  3,  9,  2, 12, 18, 29,  6, 26, 35,  8, 42,\n",
       "          3, 16,  9,  9, 24,  8,  7, 25,  5,  4,  5, 28, 26, 19, 34, 25,\n",
       "         30, 18,  5, 15,  3, 18, 23,  3,  5,  1, 25,  7,  3, 17, 21,  3,\n",
       "          6,  3, 19, 30, 18,  3, 35,  3,  5,  4, 23, 22, 12,  5,  5,  1,\n",
       "         10, 19,  3,  8, 11,  3, 20,  8, 11,  4,  7,  2,  9, 15, 14,  8,\n",
       "          4,  1,  8, 11,  6, 10,  1,  3, 27, 13, 16,  2, 15, 21,  3,  5,\n",
       "          8, 10,  6, 33],\n",
       "        [ 5, 12, 23,  8, 18, 33, 10,  2, 12, 18, 29,  6, 26, 35,  8, 42,\n",
       "          5, 16,  9,  9, 24,  8,  7, 25,  5,  6,  5, 28, 26, 19, 34, 25,\n",
       "         30, 18,  5, 29,  3, 18, 23,  5,  5, 19, 25,  7,  3, 17, 21,  3,\n",
       "          8,  3, 19, 30, 18,  3, 35,  5, 13, 32, 23, 23, 12,  5, 24, 13,\n",
       "         10, 19,  3, 23, 11, 10, 20,  8, 11, 14,  7,  5,  9, 15, 16, 14,\n",
       "          6,  7,  7, 11,  8, 10,  3,  3, 27, 13, 16,  4, 15, 21, 16,  7,\n",
       "          8, 10,  9, 33],\n",
       "        [39, 21, 23, 33, 31, 34, 44, 35, 30, 28, 32, 44, 31, 35, 28, 47,\n",
       "         30, 25, 34, 32, 37, 26, 30, 26, 44, 30, 28, 39, 34, 30, 48, 26,\n",
       "         31, 39, 37, 33, 40, 33, 37, 28, 20, 32, 25, 24, 29, 29, 21, 33,\n",
       "         30, 26, 20, 31, 26, 28, 36, 26, 22, 38, 31, 35, 31, 34, 32, 22,\n",
       "         25, 20, 14, 50, 22, 49, 30, 26, 27, 36, 37, 42, 24, 32, 42, 44,\n",
       "         31, 29, 33, 23, 31, 36, 39, 52, 36, 27, 20, 28, 15, 34, 25, 35,\n",
       "         31, 22, 34, 33],\n",
       "        [40, 26, 20, 38, 33, 24, 47, 31, 29, 27, 42, 46, 33, 30, 30, 40,\n",
       "         20, 24, 33, 31, 39, 26, 39, 23, 43, 19, 27, 40, 41, 29, 44, 22,\n",
       "         28, 40, 36, 33, 44, 36, 38, 24, 28, 32, 13, 23, 24, 28, 15, 29,\n",
       "         29, 28, 15, 28, 25, 32, 30, 25, 21, 40, 32, 35, 32, 20, 31, 21,\n",
       "         26, 11, 10, 49, 26, 50, 15, 27, 26, 31, 37, 38, 23, 34, 38, 45,\n",
       "         31, 31, 32, 22, 30, 35, 40, 52, 36, 31, 24, 25, 13, 33, 26, 39,\n",
       "         36, 20, 33, 28]], dtype=int64),\n",
       " 1: array([[ 9,  3,  3,  3,  5,  7,  1,  7,  2,  2,  8,  9,  4,  5,  2, 11,\n",
       "         10,  6, 13,  4,  4,  2, 10,  6, 18, 10,  9,  3,  6,  3,  5,  3,\n",
       "         12,  6, 11,  4, 14,  6,  1, 10, 10,  4,  3,  2,  6,  3,  6,  8,\n",
       "         10,  8,  3,  3,  9, 16,  6, 13,  8, 14,  2,  4,  4,  1,  9,  6,\n",
       "          2,  3,  8, 16,  4,  7,  2, 16,  4,  8, 12, 11,  2,  3,  4, 19,\n",
       "         18, 13, 11,  3, 21,  3, 25, 27,  3,  4,  5, 11,  4,  5,  6, 13,\n",
       "         17,  3,  2,  1],\n",
       "        [26,  3,  7,  4,  5, 10, 23, 20,  7,  3, 14, 13,  9, 14, 14, 13,\n",
       "         11, 11, 25,  5,  4, 18, 21,  7, 31, 15, 12, 11, 10,  7, 12, 10,\n",
       "         16, 13, 19,  5, 16,  8, 11, 13, 12,  5,  3, 11,  6,  4, 12,  9,\n",
       "         10, 16,  5, 22, 10, 23, 10, 20, 15, 15, 13,  7, 28, 16, 13, 19,\n",
       "         14,  6,  8, 18,  4,  8,  4, 18,  6, 10, 14, 19, 21, 20, 24, 20,\n",
       "         24, 13, 23,  3, 28, 28, 32, 38,  5,  4,  5, 11,  4, 11,  7, 13,\n",
       "         26, 16, 25, 13]], dtype=int64)}"
      ]
     },
     "execution_count": 32,
     "metadata": {},
     "output_type": "execute_result"
    }
   ],
   "source": [
    "polytope_label_dict_rxor"
   ]
  },
  {
   "cell_type": "code",
   "execution_count": 33,
   "id": "e195c76c-4e1d-4efa-b8ef-04cecff129ea",
   "metadata": {},
   "outputs": [
    {
     "data": {
      "text/plain": [
       "{0: 8, 1: 2}"
      ]
     },
     "execution_count": 33,
     "metadata": {},
     "output_type": "execute_result"
    }
   ],
   "source": [
    "total_polytope_label_dict_rxor"
   ]
  },
  {
   "cell_type": "code",
   "execution_count": 34,
   "id": "18fe48fa-09a0-4eb4-adf8-af60137590f9",
   "metadata": {},
   "outputs": [
    {
     "data": {
      "text/plain": [
       "{0: 8, 1: 2}"
      ]
     },
     "execution_count": 34,
     "metadata": {},
     "output_type": "execute_result"
    }
   ],
   "source": [
    "total_sample_label_dict_rxor"
   ]
  },
  {
   "cell_type": "code",
   "execution_count": null,
   "id": "86817e4e-29c9-4bd7-9401-47fa725294e5",
   "metadata": {},
   "outputs": [],
   "source": []
  }
 ],
 "metadata": {
  "kernelspec": {
   "display_name": "Python 3",
   "language": "python",
   "name": "python3"
  },
  "language_info": {
   "codemirror_mode": {
    "name": "ipython",
    "version": 3
   },
   "file_extension": ".py",
   "mimetype": "text/x-python",
   "name": "python",
   "nbconvert_exporter": "python",
   "pygments_lexer": "ipython3",
   "version": "3.8.8"
  }
 },
 "nbformat": 4,
 "nbformat_minor": 5
}
