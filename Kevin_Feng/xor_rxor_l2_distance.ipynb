{
 "cells": [
  {
   "cell_type": "code",
   "execution_count": 1,
   "id": "0933bd2d-3165-4a90-badd-50059c38c71d",
   "metadata": {},
   "outputs": [],
   "source": [
    "# import \n",
    "import numpy as np\n",
    "import random\n",
    "from proglearn.sims import generate_gaussian_parity\n",
    "import matplotlib.pyplot as plt\n",
    "import seaborn as sns\n",
    "import scipy as sc\n",
    "import sklearn.ensemble\n",
    "from sklearn import metrics \n",
    "import math\n",
    "from scipy.stats import ttest_ind\n",
    "from scipy.spatial import distance"
   ]
  },
  {
   "cell_type": "code",
   "execution_count": 2,
   "id": "a33089ab-710a-498c-9717-c563aee724a1",
   "metadata": {},
   "outputs": [],
   "source": [
    "# number of samples\n",
    "n_samples = 100\n",
    "\n",
    "# generate xor \n",
    "X_xor, y_xor = generate_gaussian_parity(n_samples, angle_params=0)\n",
    "\n",
    "# generate rxor, 45 degrees\n",
    "X_rxor, y_rxor = generate_gaussian_parity(n_samples, angle_params=np.pi/4)"
   ]
  },
  {
   "cell_type": "code",
   "execution_count": 3,
   "id": "5b95aa9a-968c-4916-bc4f-7098d728e6c5",
   "metadata": {},
   "outputs": [],
   "source": [
    "# xor rf\n",
    "clf_xor = sklearn.ensemble.RandomForestClassifier(n_estimators=1, min_samples_leaf=int(n_samples/10))\n",
    "\n",
    "# rxor rf\n",
    "clf_rxor = sklearn.ensemble.RandomForestClassifier(n_estimators=1, min_samples_leaf=int(n_samples/10))"
   ]
  },
  {
   "cell_type": "code",
   "execution_count": 4,
   "id": "fc885775-4269-402d-ad30-3d65cce7a92d",
   "metadata": {},
   "outputs": [
    {
     "data": {
      "text/plain": [
       "RandomForestClassifier(min_samples_leaf=10, n_estimators=1)"
      ]
     },
     "execution_count": 4,
     "metadata": {},
     "output_type": "execute_result"
    }
   ],
   "source": [
    "# fit the model using the train data \n",
    "clf_xor.fit(X_xor, y_xor)\n",
    "\n",
    "# fit rxor model\n",
    "clf_rxor.fit(X_rxor, y_rxor)"
   ]
  },
  {
   "cell_type": "code",
   "execution_count": 5,
   "id": "a3a8b286-17c3-490e-b9a9-fb45551a4d65",
   "metadata": {},
   "outputs": [],
   "source": [
    "# index of each array that each sample ends up in\n",
    "xor_leaves_xor_rf = clf_xor.apply(X_xor)\n",
    "rxor_leaves_xor_rf = clf_xor.apply(X_rxor)\n",
    "\n",
    "# repeat for rxor rf\n",
    "xor_leaves_rxor_rf = clf_rxor.apply(X_xor)\n",
    "rxor_leaves_rxor_rf = clf_rxor.apply(X_rxor)"
   ]
  },
  {
   "cell_type": "code",
   "execution_count": 6,
   "id": "771239ca-58c1-408e-b4a9-cbc3796a40e3",
   "metadata": {},
   "outputs": [],
   "source": [
    "# function get % of samples at each label for each polytope (xor or rxor)\n",
    "def percentLabels(leaves, true_labels):\n",
    "    # dict to hold the %'s \n",
    "    # polytope as key, value = [% samples at this polytope with label 0, % samples at this polytope with label 1]\n",
    "    perc_labels_at_poly = {}\n",
    "    \n",
    "    for uni in np.unique(leaves):\n",
    "        # idx of each unique polytope \n",
    "        poly_to_test = np.where(leaves == uni)[0]\n",
    "        num_0 = 0\n",
    "        num_1 = 0\n",
    "\n",
    "        # sum the number of each label at each poly/leaf\n",
    "        for i in poly_to_test:\n",
    "            if true_labels[i] == 0: \n",
    "                num_0+=1\n",
    "            else:\n",
    "                num_1+=1\n",
    "\n",
    "        # calc % of each label at each polytope/leaf\n",
    "        total_samples_at_poly = num_0 + num_1\n",
    "        perc_0 = num_0 / total_samples_at_poly\n",
    "        perc_1 = num_1 / total_samples_at_poly\n",
    "\n",
    "        perc_labels_at_poly[uni] = [perc_0, perc_1]\n",
    "        \n",
    "    return perc_labels_at_poly"
   ]
  },
  {
   "cell_type": "code",
   "execution_count": 7,
   "id": "f804aa46-46ec-42d8-b6c8-f288ba961e8f",
   "metadata": {},
   "outputs": [],
   "source": [
    "# get % of samples in each label for each polytope for xor rf\n",
    "perc_labels_at_poly_xor_xor_rf = percentLabels(xor_leaves_xor_rf, y_xor)\n",
    "perc_labels_at_poly_rxor_xor_rf = percentLabels(rxor_leaves_xor_rf, y_rxor)\n",
    "\n",
    "# repeat for rxor rf\n",
    "perc_labels_at_poly_xor_rxor_rf = percentLabels(xor_leaves_rxor_rf, y_xor)\n",
    "perc_labels_at_poly_rxor_rxor_rf = percentLabels(rxor_leaves_rxor_rf, y_rxor)"
   ]
  },
  {
   "cell_type": "code",
   "execution_count": 8,
   "id": "0bdd6267-891f-42b3-a82a-e12c38a41596",
   "metadata": {},
   "outputs": [],
   "source": [
    "# calc l2 distance using the first percent for each polytope xor vs rxor \n",
    "def calcL2(xor_poly_percs, rxor_poly_percs):\n",
    "    xor_label0_percs = []\n",
    "    rxor_label0_percs = []\n",
    "    \n",
    "    # get each label 0 percent into a list for l2 calculation\n",
    "    for key in xor_poly_percs.keys():\n",
    "        xor_label0_percs.append(xor_poly_percs[key][0])\n",
    "        rxor_label0_percs.append(rxor_poly_percs[key][0])\n",
    "        \n",
    "    \n",
    "    return distance.euclidean(xor_label0_percs, rxor_label0_percs)"
   ]
  },
  {
   "cell_type": "code",
   "execution_count": 11,
   "id": "7417e246-c43d-4829-ba6b-5624e0d6f446",
   "metadata": {},
   "outputs": [],
   "source": [
    "# calc l2's\n",
    "xor_rf_l2 = calcL2(perc_labels_at_poly_xor_xor_rf, perc_labels_at_poly_rxor_xor_rf)\n",
    "rxor_rf_l2 = calcL2(perc_labels_at_poly_xor_rxor_rf, perc_labels_at_poly_rxor_rxor_rf)"
   ]
  },
  {
   "cell_type": "code",
   "execution_count": 12,
   "id": "c072ee27-a98d-4e59-98fd-f86b61bc1652",
   "metadata": {},
   "outputs": [
    {
     "name": "stdout",
     "output_type": "stream",
     "text": [
      "l2 distance between xor and rxor with xor rf: 1.4053042857359253\n",
      "l2 distance between xor and rxor with rxor rf 1.1062146160273891\n"
     ]
    }
   ],
   "source": [
    "print('l2 distance between xor and rxor with xor rf:', xor_rf_l2)\n",
    "print('l2 distance between xor and rxor with rxor rf', rxor_rf_l2)"
   ]
  },
  {
   "cell_type": "code",
   "execution_count": null,
   "id": "1ec8780b-d9de-43fe-86dd-677326a21db7",
   "metadata": {},
   "outputs": [],
   "source": []
  }
 ],
 "metadata": {
  "kernelspec": {
   "display_name": "Python 3",
   "language": "python",
   "name": "python3"
  },
  "language_info": {
   "codemirror_mode": {
    "name": "ipython",
    "version": 3
   },
   "file_extension": ".py",
   "mimetype": "text/x-python",
   "name": "python",
   "nbconvert_exporter": "python",
   "pygments_lexer": "ipython3",
   "version": "3.8.8"
  }
 },
 "nbformat": 4,
 "nbformat_minor": 5
}
