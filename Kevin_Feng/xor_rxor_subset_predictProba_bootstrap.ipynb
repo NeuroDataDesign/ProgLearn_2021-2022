{
 "cells": [
  {
   "cell_type": "code",
   "execution_count": 37,
   "id": "a76c3187-3074-4eab-b82a-7212693acd1d",
   "metadata": {},
   "outputs": [],
   "source": [
    "# import \n",
    "import numpy as np\n",
    "import random\n",
    "from proglearn.sims import generate_gaussian_parity\n",
    "import matplotlib.pyplot as plt\n",
    "import sklearn.ensemble\n",
    "import math\n",
    "from scipy.spatial import distance\n",
    "import pandas as pd\n",
    "import time"
   ]
  },
  {
   "cell_type": "code",
   "execution_count": 2,
   "id": "3a519509-e9ab-47b0-ad2e-dc1d63e05495",
   "metadata": {},
   "outputs": [],
   "source": [
    "# number of samples\n",
    "n_samples = 100\n",
    "\n",
    "# generate xor \n",
    "X_xor, y_xor = generate_gaussian_parity(n_samples, angle_params=0)\n",
    "\n",
    "# generate rxor, 45 degrees\n",
    "X_rxor, y_rxor = generate_gaussian_parity(n_samples, angle_params=np.pi/4)"
   ]
  },
  {
   "cell_type": "code",
   "execution_count": 3,
   "id": "28ca884f-a9d9-4234-b70f-e6cfff1f8e6a",
   "metadata": {},
   "outputs": [],
   "source": [
    "# we want to pick 70 samples from xor/rxor to train trees so we need to first subset each into arrays with only xor_0/1 and rxor_0/1\n",
    "X_xor_0 = X_xor[np.where(y_xor == 0)]\n",
    "X_xor_1 = X_xor[np.where(y_xor == 1)]\n",
    "\n",
    "X_rxor_0 = X_rxor[np.where(y_rxor == 0)]\n",
    "X_rxor_1 = X_rxor[np.where(y_rxor == 1)]\n",
    "\n",
    "# we can concat the first 35 samples from each pair to use to tatal 70 samples for training and 30 for predict proba\n",
    "X_xor_train = np.concatenate((X_xor_0[0:35], X_xor_1[0:35]))\n",
    "y_xor_train = np.concatenate((np.zeros(35), np.ones(35)))\n",
    "\n",
    "# repeat for rxor\n",
    "X_rxor_train = np.concatenate((X_rxor_0[0:35], X_rxor_1[0:35]))\n",
    "y_rxor_train = np.concatenate((np.zeros(35), np.ones(35)))"
   ]
  },
  {
   "cell_type": "code",
   "execution_count": 4,
   "id": "1eb1c1bd-076a-43de-a308-6a0687009d54",
   "metadata": {},
   "outputs": [
    {
     "data": {
      "text/plain": [
       "(70, 70)"
      ]
     },
     "execution_count": 4,
     "metadata": {},
     "output_type": "execute_result"
    }
   ],
   "source": [
    "len(X_xor_train), len(X_xor_train)"
   ]
  },
  {
   "cell_type": "code",
   "execution_count": 5,
   "id": "6b62dc97-3b66-4443-88ae-b1ac1b19fc8b",
   "metadata": {},
   "outputs": [],
   "source": [
    "# init the rf's\n",
    "# xor rf\n",
    "clf_xor = sklearn.ensemble.RandomForestClassifier(n_estimators=10, min_samples_leaf=int(n_samples/7))\n",
    "\n",
    "# rxor rf\n",
    "clf_rxor = sklearn.ensemble.RandomForestClassifier(n_estimators=10, min_samples_leaf=int(n_samples/7))"
   ]
  },
  {
   "cell_type": "code",
   "execution_count": 6,
   "id": "8c132023-a7bd-4db8-842d-b71c261cb5e0",
   "metadata": {},
   "outputs": [
    {
     "data": {
      "text/plain": [
       "RandomForestClassifier(min_samples_leaf=14, n_estimators=10)"
      ]
     },
     "execution_count": 6,
     "metadata": {},
     "output_type": "execute_result"
    }
   ],
   "source": [
    "# train rfs\n",
    "# fit the model using the train data \n",
    "clf_xor.fit(X_xor_train, y_xor_train)\n",
    "\n",
    "# fit rxor model\n",
    "clf_rxor.fit(X_rxor_train, y_rxor_train)"
   ]
  },
  {
   "cell_type": "code",
   "execution_count": 7,
   "id": "411d6156-ddba-4eba-8480-e907d7e1dda5",
   "metadata": {},
   "outputs": [
    {
     "data": {
      "text/plain": [
       "(60, 60)"
      ]
     },
     "execution_count": 7,
     "metadata": {},
     "output_type": "execute_result"
    }
   ],
   "source": [
    "# concat the test samples from xor and rxor (30 from each), 60 total test samples\n",
    "X_xor_rxor_test = np.concatenate((X_xor_0[35:], X_rxor_0[35:], X_xor_1[35:], X_rxor_1[35:]))\n",
    "y_xor_rxor_test = np.concatenate((np.zeros(30), np.ones(30)))\n",
    "\n",
    "# confirm that there's 60 in each\n",
    "len(X_xor_rxor_test), len(y_xor_rxor_test)"
   ]
  },
  {
   "cell_type": "code",
   "execution_count": 8,
   "id": "52bf61bf-9310-473e-8114-34e98e8ab216",
   "metadata": {},
   "outputs": [],
   "source": [
    "# predict proba on the new test data with both rfs\n",
    "# xor rf\n",
    "xor_rxor_test_xorRF_probas = clf_xor.predict_proba(X_xor_rxor_test)\n",
    "\n",
    "# rxor rf\n",
    "xor_rxor_test_rxorRF_probas = clf_rxor.predict_proba(X_xor_rxor_test)"
   ]
  },
  {
   "cell_type": "code",
   "execution_count": 9,
   "id": "ab291959-08f9-4aef-87f7-64c2e3892030",
   "metadata": {},
   "outputs": [],
   "source": [
    "def calcL2(xorRF_probas, rxorRF_probas):\n",
    "    '''\n",
    "    Returns L2 distance between 2 outputs from clf.predict_proba().\n",
    "    '''\n",
    "    # lists to store % label 0 since we only need one of the probas to calc L2\n",
    "    xors = []\n",
    "    rxors = []\n",
    "    \n",
    "    # iterate through the passed probas to store them in our lists\n",
    "    for xor_proba, rxor_proba in zip(xorRF_probas, rxorRF_probas):\n",
    "        xors.append(xor_proba[0])\n",
    "        rxors.append(rxor_proba[0])\n",
    "        \n",
    "    return distance.euclidean(xors, rxors)"
   ]
  },
  {
   "cell_type": "code",
   "execution_count": 10,
   "id": "4ff3b99d-ceef-4cb2-810a-28d8d203062a",
   "metadata": {},
   "outputs": [
    {
     "data": {
      "text/plain": [
       "1.265677138696041"
      ]
     },
     "execution_count": 10,
     "metadata": {},
     "output_type": "execute_result"
    }
   ],
   "source": [
    "# calc the l2 distance between the probas from xor and rxor rfs\n",
    "d1 = calcL2(xor_rxor_test_xorRF_probas, xor_rxor_test_rxorRF_probas)\n",
    "d1"
   ]
  },
  {
   "cell_type": "code",
   "execution_count": 11,
   "id": "3c2f53bf-9390-4874-a3a1-49e5296e1314",
   "metadata": {},
   "outputs": [],
   "source": [
    "# concat all xor and rxor samples (100+100=200)\n",
    "X_xor_rxor_all = np.concatenate((X_xor, X_rxor))\n",
    "y_xor_rxor_all = np.concatenate((y_xor, y_rxor))"
   ]
  },
  {
   "cell_type": "code",
   "execution_count": 12,
   "id": "e09400cc-b64a-4a44-9522-abb639730d09",
   "metadata": {},
   "outputs": [],
   "source": [
    "random_idxs = random.sample(range(200), 200)"
   ]
  },
  {
   "cell_type": "code",
   "execution_count": 13,
   "id": "d2ed6de8-186b-46c6-a120-5515f9e3c4ad",
   "metadata": {},
   "outputs": [
    {
     "data": {
      "text/plain": [
       "(100, 100)"
      ]
     },
     "execution_count": 13,
     "metadata": {},
     "output_type": "execute_result"
    }
   ],
   "source": [
    "len(random_idxs[0:100]), len(random_idxs[100:])"
   ]
  },
  {
   "cell_type": "code",
   "execution_count": 14,
   "id": "6ecbc211-c46b-4792-8b5b-e5fd7e81556c",
   "metadata": {},
   "outputs": [],
   "source": [
    "# subsample 100 samples twice randomly, call one xor and the other rxor\n",
    "X_xor_new = X_xor_rxor_all[random_idxs[0:100]]\n",
    "y_xor_new = y_xor_rxor_all[random_idxs[0:100]]\n",
    "\n",
    "X_rxor_new = X_xor_rxor_all[random_idxs[100:]]\n",
    "y_rxor_new = y_xor_rxor_all[random_idxs[100:]]"
   ]
  },
  {
   "cell_type": "code",
   "execution_count": 15,
   "id": "4dfe135b-3f33-4121-b719-2537a41d68fa",
   "metadata": {},
   "outputs": [
    {
     "data": {
      "text/plain": [
       "(100, 100, 100, 100)"
      ]
     },
     "execution_count": 15,
     "metadata": {},
     "output_type": "execute_result"
    }
   ],
   "source": [
    "len(X_xor_new), len(y_xor_new), len(X_rxor_new), len(y_rxor_new)"
   ]
  },
  {
   "cell_type": "code",
   "execution_count": 16,
   "id": "d0a82530-0d68-4795-a282-d43946f3fd71",
   "metadata": {},
   "outputs": [],
   "source": [
    "# subsample 70 from each and call one xor train and one rxor train\n",
    "# since we randomly took 100 the pool of 200 samples we should just be able to take the first 70 samples \n",
    "X_xor_new_train = X_xor_new[0:70]\n",
    "y_xor_new_train = y_xor_new[0:70]\n",
    "\n",
    "X_rxor_new_train = X_rxor_new[0:70]\n",
    "y_rxor_new_train = y_rxor_new[0:70]"
   ]
  },
  {
   "cell_type": "code",
   "execution_count": 17,
   "id": "3d36586c-5601-46fd-b57f-3e6235357bc5",
   "metadata": {},
   "outputs": [
    {
     "data": {
      "text/plain": [
       "RandomForestClassifier(min_samples_leaf=14, n_estimators=10)"
      ]
     },
     "execution_count": 17,
     "metadata": {},
     "output_type": "execute_result"
    }
   ],
   "source": [
    "# train a new forest \n",
    "# init the rf's\n",
    "# xor rf\n",
    "clf_xor_new = sklearn.ensemble.RandomForestClassifier(n_estimators=10, min_samples_leaf=int(n_samples/7))\n",
    "clf_xor_new.fit(X_xor_new_train, y_xor_new_train)\n",
    "\n",
    "# rxor rf\n",
    "clf_rxor_new = sklearn.ensemble.RandomForestClassifier(n_estimators=10, min_samples_leaf=int(n_samples/7))\n",
    "clf_rxor_new.fit(X_rxor_new_train, y_rxor_new_train)"
   ]
  },
  {
   "cell_type": "code",
   "execution_count": 18,
   "id": "f277cff3-6182-40ce-86e7-3637b07764b9",
   "metadata": {},
   "outputs": [],
   "source": [
    "# take the remaing 30 and call those test\n",
    "X_xor_new_test = X_xor_new[70:]\n",
    "y_xor_new_test = y_xor_new[70:]\n",
    "\n",
    "X_rxor_new_test = X_rxor_new[70:]\n",
    "y_rxor_new_test = y_rxor_new[70:]"
   ]
  },
  {
   "cell_type": "code",
   "execution_count": 19,
   "id": "4075f65c-3b85-4c98-a069-8887f6dce316",
   "metadata": {},
   "outputs": [
    {
     "data": {
      "text/plain": [
       "(30, 30)"
      ]
     },
     "execution_count": 19,
     "metadata": {},
     "output_type": "execute_result"
    }
   ],
   "source": [
    "len(X_xor_new_test), len(X_rxor_new_test)"
   ]
  },
  {
   "cell_type": "code",
   "execution_count": 20,
   "id": "bd74b25c-d734-49aa-9bea-f5bf85d0fea7",
   "metadata": {},
   "outputs": [],
   "source": [
    "# concat our new samples\n",
    "X_xor_rxor_new_test = np.concatenate((X_xor_new_test, X_rxor_new_test))\n",
    "y_xor_rxor_new_test = np.concatenate((y_xor_new_test, y_rxor_new_test))"
   ]
  },
  {
   "cell_type": "code",
   "execution_count": 21,
   "id": "8cf7a261-589e-4e63-80da-87e12a95e592",
   "metadata": {},
   "outputs": [],
   "source": [
    "# predict proba using the original xor and rxor rf's and calc l2\n",
    "# new xor rf\n",
    "xor_rxor_new_test_xorRF_probas = clf_xor_new.predict_proba(X_xor_rxor_new_test)\n",
    "\n",
    "# new rxor rf\n",
    "xor_rxor_new_test_rxorRF_probas = clf_rxor_new.predict_proba(X_xor_rxor_new_test)"
   ]
  },
  {
   "cell_type": "code",
   "execution_count": 22,
   "id": "fcb19f5f-07e6-4125-92df-790c40064968",
   "metadata": {},
   "outputs": [],
   "source": [
    "# calc l2 for our new data\n",
    "d2 = calcL2(xor_rxor_new_test_xorRF_probas, xor_rxor_new_test_rxorRF_probas)"
   ]
  },
  {
   "cell_type": "code",
   "execution_count": 23,
   "id": "a5f4de58-743f-4b49-8f80-f0d5f0f339a3",
   "metadata": {},
   "outputs": [
    {
     "data": {
      "text/plain": [
       "0.9016545602995973"
      ]
     },
     "execution_count": 23,
     "metadata": {},
     "output_type": "execute_result"
    }
   ],
   "source": [
    "d2"
   ]
  },
  {
   "cell_type": "markdown",
   "id": "fbec258d-c58d-4218-ae9b-14bc01295e26",
   "metadata": {
    "tags": []
   },
   "source": [
    "### Bootstrap experiment across angle range 0-90 in increments of 5 deg"
   ]
  },
  {
   "cell_type": "code",
   "execution_count": 24,
   "id": "d4307032-a426-4ade-9c48-0e7d349e5d84",
   "metadata": {},
   "outputs": [],
   "source": [
    "def getPval(X_xor_rxor_all, y_xor_rxor_all, d1, reps = 100000, n_samples = 100):\n",
    "    d1_greater_count = 0\n",
    "    for i in range(0, reps):\n",
    "        random_idxs = random.sample(range(200), 200)\n",
    "        # subsample 100 samples twice randomly, call one xor and the other rxor\n",
    "        X_xor_new = X_xor_rxor_all[random_idxs[0:100]]\n",
    "        y_xor_new = y_xor_rxor_all[random_idxs[0:100]]\n",
    "\n",
    "        X_rxor_new = X_xor_rxor_all[random_idxs[100:]]\n",
    "        y_rxor_new = y_xor_rxor_all[random_idxs[100:]]\n",
    "        \n",
    "        # subsample 70 from each and call one xor train and one rxor train\n",
    "        # since we randomly took 100 the pool of 200 samples we should just be able to take the first 70 samples \n",
    "        X_xor_new_train = X_xor_new[0:70]\n",
    "        y_xor_new_train = y_xor_new[0:70]\n",
    "\n",
    "        X_rxor_new_train = X_rxor_new[0:70]\n",
    "        y_rxor_new_train = y_rxor_new[0:70]\n",
    "        \n",
    "        # train a new forest \n",
    "        # init the rf's\n",
    "        # xor rf\n",
    "        clf_xor_new = sklearn.ensemble.RandomForestClassifier(n_estimators=10, min_samples_leaf=int(n_samples/7))\n",
    "        clf_xor_new.fit(X_xor_new_train, y_xor_new_train)\n",
    "\n",
    "        # rxor rf\n",
    "        clf_rxor_new = sklearn.ensemble.RandomForestClassifier(n_estimators=10, min_samples_leaf=int(n_samples/7))\n",
    "        clf_rxor_new.fit(X_rxor_new_train, y_rxor_new_train)\n",
    "        \n",
    "        # take the remaing 30 and call those test\n",
    "        X_xor_new_test = X_xor_new[70:]\n",
    "        y_xor_new_test = y_xor_new[70:]\n",
    "\n",
    "        X_rxor_new_test = X_rxor_new[70:]\n",
    "        y_rxor_new_test = y_rxor_new[70:]\n",
    "        \n",
    "        # concat our new samples\n",
    "        X_xor_rxor_new_test = np.concatenate((X_xor_new_test, X_rxor_new_test))\n",
    "        y_xor_rxor_new_test = np.concatenate((y_xor_new_test, y_rxor_new_test))\n",
    "        \n",
    "        # predict proba using the original xor and rxor rf's and calc l2\n",
    "        # new xor rf\n",
    "        xor_rxor_new_test_xorRF_probas = clf_xor_new.predict_proba(X_xor_rxor_new_test)\n",
    "\n",
    "        # new rxor rf\n",
    "        xor_rxor_new_test_rxorRF_probas = clf_rxor_new.predict_proba(X_xor_rxor_new_test)\n",
    "        \n",
    "        # calc l2 for our new data\n",
    "        d2 = calcL2(xor_rxor_new_test_xorRF_probas, xor_rxor_new_test_rxorRF_probas)\n",
    "        \n",
    "        if d1 > d2: d1_greater_count+=1\n",
    "    \n",
    "    return (1 - (d1_greater_count/reps))"
   ]
  },
  {
   "cell_type": "code",
   "execution_count": 35,
   "id": "4ccbabbc-dfe1-4799-9214-ae679c90d060",
   "metadata": {},
   "outputs": [],
   "source": [
    "def bootstrap(angle_sweep = range(0, 90, 5), n_samples = 100, reps = 100000):\n",
    "    p_vals = []\n",
    "    # generate xor \n",
    "    X_xor, y_xor = generate_gaussian_parity(n_samples, angle_params=0)\n",
    "    for angle in angle_sweep:\n",
    "        # print('Processing angle:', angle)\n",
    "        # we can use the same xor as from above but we need a new rxor \n",
    "        # generate rxor with different angles\n",
    "        \n",
    "        X_rxor, y_rxor = generate_gaussian_parity(n_samples, angle_params=math.radians(angle))\n",
    "\n",
    "\n",
    "        # we want to pick 70 samples from xor/rxor to train trees so we need to first subset each into arrays with only xor_0/1 and rxor_0/1\n",
    "        X_xor_0 = X_xor[np.where(y_xor == 0)]\n",
    "        X_xor_1 = X_xor[np.where(y_xor == 1)]\n",
    "\n",
    "        X_rxor_0 = X_rxor[np.where(y_rxor == 0)]\n",
    "        X_rxor_1 = X_rxor[np.where(y_rxor == 1)]\n",
    "\n",
    "        # we can concat the first 35 samples from each pair to use to tatal 70 samples for training and 30 for predict proba\n",
    "        X_xor_train = np.concatenate((X_xor_0[0:35], X_xor_1[0:35]))\n",
    "        y_xor_train = np.concatenate((np.zeros(35), np.ones(35)))\n",
    "\n",
    "        # repeat for rxor\n",
    "        X_rxor_train = np.concatenate((X_rxor_0[0:35], X_rxor_1[0:35]))\n",
    "        y_rxor_train = np.concatenate((np.zeros(35), np.ones(35)))\n",
    "        \n",
    "        # make sure X_rxor_train is the right size everytime, run into errors sometime\n",
    "        while len(X_rxor_train) != 70:\n",
    "            X_rxor, y_rxor = generate_gaussian_parity(n_samples, angle_params=math.radians(angle))\n",
    "            # we want to pick 70 samples from xor/rxor to train trees so we need to first subset each into arrays with only xor_0/1 and rxor_0/1\n",
    "            X_xor_0 = X_xor[np.where(y_xor == 0)]\n",
    "            X_xor_1 = X_xor[np.where(y_xor == 1)]\n",
    "\n",
    "            X_rxor_0 = X_rxor[np.where(y_rxor == 0)]\n",
    "            X_rxor_1 = X_rxor[np.where(y_rxor == 1)]\n",
    "\n",
    "            # we can concat the first 35 samples from each pair to use to tatal 70 samples for training and 30 for predict proba\n",
    "            X_xor_train = np.concatenate((X_xor_0[0:35], X_xor_1[0:35]))\n",
    "            y_xor_train = np.concatenate((np.zeros(35), np.ones(35)))\n",
    "\n",
    "            # repeat for rxor\n",
    "            X_rxor_train = np.concatenate((X_rxor_0[0:35], X_rxor_1[0:35]))\n",
    "            y_rxor_train = np.concatenate((np.zeros(35), np.ones(35)))\n",
    "            \n",
    "        # init the rf's\n",
    "        # xor rf\n",
    "        clf_xor = sklearn.ensemble.RandomForestClassifier(n_estimators=10, min_samples_leaf=int(n_samples/7))\n",
    "\n",
    "        # rxor rf\n",
    "        clf_rxor = sklearn.ensemble.RandomForestClassifier(n_estimators=10, min_samples_leaf=int(n_samples/7))\n",
    "        \n",
    "        # train rfs\n",
    "        # fit the model using the train data \n",
    "        clf_xor.fit(X_xor_train, y_xor_train)\n",
    "\n",
    "        # fit rxor model\n",
    "        clf_rxor.fit(X_rxor_train, y_rxor_train)\n",
    "        \n",
    "        # concat the test samples from xor and rxor (30 from each), 60 total test samples\n",
    "        X_xor_rxor_test = np.concatenate((X_xor_0[35:], X_rxor_0[35:], X_xor_1[35:], X_rxor_1[35:]))\n",
    "        y_xor_rxor_test = np.concatenate((np.zeros(30), np.ones(30)))\n",
    "        \n",
    "        \n",
    "        # predict proba on the new test data with both rfs\n",
    "        # xor rf\n",
    "        xor_rxor_test_xorRF_probas = clf_xor.predict_proba(X_xor_rxor_test)\n",
    "\n",
    "        # rxor rf\n",
    "        xor_rxor_test_rxorRF_probas = clf_rxor.predict_proba(X_xor_rxor_test)\n",
    "        \n",
    "        # calc the l2 distance between the probas from xor and rxor rfs\n",
    "        d1 = calcL2(xor_rxor_test_xorRF_probas, xor_rxor_test_rxorRF_probas)\n",
    "        \n",
    "        # concat all xor and rxor samples (100+100=200)\n",
    "        X_xor_rxor_all = np.concatenate((X_xor, X_rxor))\n",
    "        y_xor_rxor_all = np.concatenate((y_xor, y_rxor))\n",
    "        \n",
    "        # append the pval\n",
    "        p_vals.append(getPval(X_xor_rxor_all, y_xor_rxor_all, d1, reps, n_samples = n_samples))\n",
    "        \n",
    "    return p_vals"
   ]
  },
  {
   "cell_type": "code",
   "execution_count": 38,
   "id": "0f1606f8-4a2c-4dd7-9f9c-ba873f873267",
   "metadata": {
    "collapsed": true,
    "jupyter": {
     "outputs_hidden": true
    },
    "tags": []
   },
   "outputs": [
    {
     "name": "stdout",
     "output_type": "stream",
     "text": [
      "Iteration: 0\n",
      "\n",
      "The function took 264.13 s to compute.\n",
      "Iteration: 1\n",
      "\n",
      "The function took 263.74 s to compute.\n",
      "Iteration: 2\n",
      "\n",
      "The function took 263.46 s to compute.\n",
      "Iteration: 3\n",
      "\n",
      "The function took 263.34 s to compute.\n",
      "Iteration: 4\n",
      "\n",
      "The function took 263.56 s to compute.\n",
      "Iteration: 5\n",
      "\n",
      "The function took 263.64 s to compute.\n",
      "Iteration: 6\n",
      "\n",
      "The function took 263.33 s to compute.\n",
      "Iteration: 7\n",
      "\n",
      "The function took 263.26 s to compute.\n",
      "Iteration: 8\n",
      "\n",
      "The function took 263.44 s to compute.\n",
      "Iteration: 9\n",
      "\n",
      "The function took 263.50 s to compute.\n",
      "Iteration: 10\n",
      "\n",
      "The function took 263.29 s to compute.\n",
      "Iteration: 11\n",
      "\n",
      "The function took 263.48 s to compute.\n",
      "Iteration: 12\n",
      "\n",
      "The function took 264.22 s to compute.\n",
      "Iteration: 13\n",
      "\n",
      "The function took 262.86 s to compute.\n",
      "Iteration: 14\n",
      "\n",
      "The function took 263.28 s to compute.\n",
      "Iteration: 15\n",
      "\n",
      "The function took 263.47 s to compute.\n",
      "Iteration: 16\n",
      "\n",
      "The function took 263.70 s to compute.\n",
      "Iteration: 17\n",
      "\n",
      "The function took 262.97 s to compute.\n",
      "Iteration: 18\n",
      "\n",
      "The function took 260.77 s to compute.\n",
      "Iteration: 19\n",
      "\n",
      "The function took 261.09 s to compute.\n",
      "Iteration: 20\n",
      "\n",
      "The function took 259.95 s to compute.\n",
      "Iteration: 21\n",
      "\n",
      "The function took 260.35 s to compute.\n",
      "Iteration: 22\n",
      "\n",
      "The function took 260.17 s to compute.\n",
      "Iteration: 23\n",
      "\n",
      "The function took 259.97 s to compute.\n",
      "Iteration: 24\n",
      "\n",
      "The function took 260.67 s to compute.\n",
      "Iteration: 25\n",
      "\n",
      "The function took 260.47 s to compute.\n",
      "Iteration: 26\n",
      "\n",
      "The function took 260.60 s to compute.\n",
      "Iteration: 27\n",
      "\n",
      "The function took 259.87 s to compute.\n",
      "Iteration: 28\n",
      "\n",
      "The function took 260.19 s to compute.\n",
      "Iteration: 29\n",
      "\n",
      "The function took 260.76 s to compute.\n",
      "Iteration: 30\n",
      "\n",
      "The function took 261.16 s to compute.\n",
      "Iteration: 31\n",
      "\n",
      "The function took 260.22 s to compute.\n",
      "Iteration: 32\n",
      "\n",
      "The function took 260.63 s to compute.\n",
      "Iteration: 33\n",
      "\n",
      "The function took 260.88 s to compute.\n",
      "Iteration: 34\n",
      "\n",
      "The function took 260.10 s to compute.\n",
      "Iteration: 35\n",
      "\n",
      "The function took 260.38 s to compute.\n",
      "Iteration: 36\n",
      "\n",
      "The function took 260.70 s to compute.\n",
      "Iteration: 37\n",
      "\n",
      "The function took 260.71 s to compute.\n",
      "Iteration: 38\n",
      "\n",
      "The function took 260.22 s to compute.\n",
      "Iteration: 39\n",
      "\n",
      "The function took 260.55 s to compute.\n",
      "Iteration: 40\n",
      "\n",
      "The function took 260.94 s to compute.\n",
      "Iteration: 41\n",
      "\n",
      "The function took 260.26 s to compute.\n",
      "Iteration: 42\n",
      "\n",
      "The function took 260.37 s to compute.\n",
      "Iteration: 43\n",
      "\n",
      "The function took 260.57 s to compute.\n",
      "Iteration: 44\n",
      "\n",
      "The function took 261.34 s to compute.\n",
      "Iteration: 45\n",
      "\n",
      "The function took 259.87 s to compute.\n",
      "Iteration: 46\n",
      "\n",
      "The function took 260.40 s to compute.\n",
      "Iteration: 47\n",
      "\n",
      "The function took 260.87 s to compute.\n",
      "Iteration: 48\n",
      "\n",
      "The function took 259.96 s to compute.\n",
      "Iteration: 49\n",
      "\n",
      "The function took 260.37 s to compute.\n",
      "Iteration: 50\n",
      "\n",
      "The function took 260.65 s to compute.\n",
      "Iteration: 51\n",
      "\n",
      "The function took 260.65 s to compute.\n",
      "Iteration: 52\n",
      "\n",
      "The function took 259.99 s to compute.\n",
      "Iteration: 53\n",
      "\n",
      "The function took 260.45 s to compute.\n",
      "Iteration: 54\n",
      "\n",
      "The function took 261.12 s to compute.\n",
      "Iteration: 55\n",
      "\n",
      "The function took 260.30 s to compute.\n",
      "Iteration: 56\n",
      "\n",
      "The function took 260.36 s to compute.\n",
      "Iteration: 57\n",
      "\n",
      "The function took 260.62 s to compute.\n",
      "Iteration: 58\n",
      "\n",
      "The function took 260.53 s to compute.\n",
      "Iteration: 59\n",
      "\n",
      "The function took 259.80 s to compute.\n",
      "Iteration: 60\n",
      "\n",
      "The function took 260.25 s to compute.\n",
      "Iteration: 61\n",
      "\n",
      "The function took 261.56 s to compute.\n",
      "Iteration: 62\n",
      "\n",
      "The function took 260.40 s to compute.\n",
      "Iteration: 63\n",
      "\n",
      "The function took 260.48 s to compute.\n",
      "Iteration: 64\n",
      "\n",
      "The function took 260.64 s to compute.\n",
      "Iteration: 65\n",
      "\n",
      "The function took 260.68 s to compute.\n",
      "Iteration: 66\n",
      "\n",
      "The function took 259.99 s to compute.\n",
      "Iteration: 67\n",
      "\n",
      "The function took 260.54 s to compute.\n",
      "Iteration: 68\n",
      "\n",
      "The function took 261.01 s to compute.\n",
      "Iteration: 69\n",
      "\n",
      "The function took 260.33 s to compute.\n",
      "Iteration: 70\n",
      "\n",
      "The function took 260.35 s to compute.\n",
      "Iteration: 71\n",
      "\n",
      "The function took 260.91 s to compute.\n",
      "Iteration: 72\n",
      "\n",
      "The function took 260.66 s to compute.\n",
      "Iteration: 73\n",
      "\n",
      "The function took 260.06 s to compute.\n",
      "Iteration: 74\n",
      "\n",
      "The function took 260.56 s to compute.\n",
      "Iteration: 75\n",
      "\n",
      "The function took 260.96 s to compute.\n",
      "Iteration: 76\n",
      "\n",
      "The function took 260.19 s to compute.\n",
      "Iteration: 77\n",
      "\n",
      "The function took 260.22 s to compute.\n",
      "Iteration: 78\n",
      "\n",
      "The function took 261.09 s to compute.\n",
      "Iteration: 79\n",
      "\n",
      "The function took 261.64 s to compute.\n",
      "Iteration: 80\n",
      "\n",
      "The function took 260.14 s to compute.\n",
      "Iteration: 81\n",
      "\n",
      "The function took 260.51 s to compute.\n",
      "Iteration: 82\n",
      "\n",
      "The function took 260.90 s to compute.\n",
      "Iteration: 83\n",
      "\n",
      "The function took 260.18 s to compute.\n",
      "Iteration: 84\n",
      "\n",
      "The function took 259.85 s to compute.\n",
      "Iteration: 85\n",
      "\n",
      "The function took 260.46 s to compute.\n",
      "Iteration: 86\n",
      "\n",
      "The function took 260.92 s to compute.\n",
      "Iteration: 87\n",
      "\n",
      "The function took 260.20 s to compute.\n",
      "Iteration: 88\n",
      "\n",
      "The function took 260.57 s to compute.\n",
      "Iteration: 89\n",
      "\n",
      "The function took 261.05 s to compute.\n",
      "Iteration: 90\n",
      "\n",
      "The function took 260.38 s to compute.\n",
      "Iteration: 91\n",
      "\n",
      "The function took 259.86 s to compute.\n",
      "Iteration: 92\n",
      "\n",
      "The function took 260.85 s to compute.\n",
      "Iteration: 93\n",
      "\n",
      "The function took 261.24 s to compute.\n",
      "Iteration: 94\n",
      "\n",
      "The function took 260.39 s to compute.\n",
      "Iteration: 95\n",
      "\n",
      "The function took 260.48 s to compute.\n",
      "Iteration: 96\n",
      "\n",
      "The function took 260.80 s to compute.\n",
      "Iteration: 97\n",
      "\n",
      "The function took 260.27 s to compute.\n",
      "Iteration: 98\n",
      "\n",
      "The function took 259.81 s to compute.\n",
      "Iteration: 99\n",
      "\n",
      "The function took 261.02 s to compute.\n"
     ]
    }
   ],
   "source": [
    "# data frame to store p values from each run \n",
    "p_val_df = pd.DataFrame()\n",
    "# np array to store p values \n",
    "p_val_list = []\n",
    "for i in range(100): \n",
    "    start = time.time()\n",
    "    print('Iteration:', i)\n",
    "    temp = bootstrap(angle_sweep = range(0, 90, 5), n_samples = 100, reps = 1000)\n",
    "    p_val_df[i] = temp\n",
    "    p_val_list.append(temp)\n",
    "    end = time.time()\n",
    "    print('\\nThe function took {:.2f} s to compute.'.format(end - start))"
   ]
  },
  {
   "cell_type": "code",
   "execution_count": 39,
   "id": "29c30725-cae7-42a0-80f9-ed1336ecde13",
   "metadata": {},
   "outputs": [],
   "source": [
    "# compute mean across each test for each angle\n",
    "p_val_df['mean'] = p_val_df.mean(axis=1)"
   ]
  },
  {
   "cell_type": "code",
   "execution_count": 40,
   "id": "458b96ac-d9d9-41fa-9189-4dd9d9dc8ee3",
   "metadata": {},
   "outputs": [],
   "source": [
    "p_val_list_mean = np.mean(p_val_list, axis = 0)"
   ]
  },
  {
   "cell_type": "code",
   "execution_count": null,
   "id": "6d00286f-d713-4906-b517-b5ae246837f5",
   "metadata": {},
   "outputs": [],
   "source": [
    "# bootstrap_pvals = bootstrap(angle_sweep = range(0, 90, 5), n_samples = 100, reps = 100000)"
   ]
  },
  {
   "cell_type": "code",
   "execution_count": 41,
   "id": "2600fb85-3793-4466-be9f-431237880619",
   "metadata": {},
   "outputs": [
    {
     "data": {
      "text/plain": [
       "[<matplotlib.lines.Line2D at 0x1bd61600a90>]"
      ]
     },
     "execution_count": 41,
     "metadata": {},
     "output_type": "execute_result"
    },
    {
     "data": {
      "image/png": "[encoded data removed]",
      "text/plain": [
       "<Figure size 432x288 with 1 Axes>"
      ]
     },
     "metadata": {
      "needs_background": "light"
     },
     "output_type": "display_data"
    }
   ],
   "source": [
    "angle_sweep = range(0, 90, 5)\n",
    "plt.plot(angle_sweep, p_val_df['mean'])"
   ]
  },
  {
   "cell_type": "code",
   "execution_count": 48,
   "id": "496fca00-c10b-4396-ad0e-b6ed188f04ab",
   "metadata": {},
   "outputs": [
    {
     "data": {
      "text/plain": [
       "Text(0.5, 1.0, 'Angle of Rotation vs Bootstrap xor/rxor P-Value')"
      ]
     },
     "execution_count": 48,
     "metadata": {},
     "output_type": "execute_result"
    },
    {
     "data": {
      "image/png": "[encoded data removed]",
      "text/plain": [
       "<Figure size 432x288 with 1 Axes>"
      ]
     },
     "metadata": {
      "needs_background": "light"
     },
     "output_type": "display_data"
    }
   ],
   "source": [
    "qunatiles = np.nanquantile(p_val_df.iloc[:,:-1], [0.25, 0.75], axis=1)\n",
    "plt.fill_between(\n",
    "    angle_sweep, qunatiles[0], qunatiles[1], facecolor=\"r\", alpha=0.3\n",
    ")\n",
    "plt.plot(angle_sweep, p_val_df['mean'])\n",
    "plt.xlabel(\"Angle of Rotation\")\n",
    "plt.ylabel(\"P-Value\")\n",
    "plt.title(\"Angle of Rotation vs Bootstrap xor/rxor P-Value\")"
   ]
  },
  {
   "cell_type": "code",
   "execution_count": null,
   "id": "aee5ce1d-6d46-438e-83a0-850a966b1101",
   "metadata": {},
   "outputs": [],
   "source": [
    "# from joblib import Parallel, delayed\n",
    "# import time"
   ]
  },
  {
   "cell_type": "code",
   "execution_count": null,
   "id": "96c69180-a47a-48fb-bcc7-a03b337ff2a0",
   "metadata": {},
   "outputs": [],
   "source": [
    "# # np array to store p values \n",
    "# p_val_list_2 = []\n",
    "\n",
    "# start = time.time()\n",
    "# # try parallel\n",
    "# Parallel(n_jobs=-1)(delayed(p_val_list_2.append(bootstrap(angle_sweep = range(0, 90, 5), n_samples = 100, reps = 100000)))(i) \n",
    "#                     for i in range(100))\n",
    "\n",
    "# end = time.time()\n",
    "\n",
    "# print('\\nThe function took {:.2f} s to compute.'.format(end - start))"
   ]
  },
  {
   "cell_type": "code",
   "execution_count": null,
   "id": "503b42eb-ad88-44a6-a34e-d1df8252f1f2",
   "metadata": {},
   "outputs": [],
   "source": []
  }
 ],
 "metadata": {
  "kernelspec": {
   "display_name": "Python 3",
   "language": "python",
   "name": "python3"
  },
  "language_info": {
   "codemirror_mode": {
    "name": "ipython",
    "version": 3
   },
   "file_extension": ".py",
   "mimetype": "text/x-python",
   "name": "python",
   "nbconvert_exporter": "python",
   "pygments_lexer": "ipython3",
   "version": "3.8.8"
  }
 },
 "nbformat": 4,
 "nbformat_minor": 5
}
