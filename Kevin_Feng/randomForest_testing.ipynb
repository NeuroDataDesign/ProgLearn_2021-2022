{
 "cells": [
  {
   "cell_type": "code",
   "execution_count": 3,
   "id": "3b024672-cd11-49b6-8720-ff104a0e0504",
   "metadata": {},
   "outputs": [],
   "source": [
    "# import \n",
    "import numpy as np\n",
    "import random\n",
    "from proglearn.sims import generate_gaussian_parity\n",
    "import matplotlib.pyplot as plt\n",
    "import seaborn as sns\n",
    "import scipy as sc\n",
    "import sklearn\n",
    "from sklearn import metrics \n",
    "import math"
   ]
  },
  {
   "cell_type": "code",
   "execution_count": 10,
   "id": "b7499c6e-6408-4152-9d2a-ed09217d079c",
   "metadata": {},
   "outputs": [],
   "source": [
    "# generate xor train and test data\n",
    "X_train, y_train = generate_gaussian_parity(100, angle_params=0)\n",
    "X_test, y_test = generate_gaussian_parity(10, angle_params=0)"
   ]
  },
  {
   "cell_type": "code",
   "execution_count": 11,
   "id": "297dea8e-3dab-4b34-860d-c6375f473f8a",
   "metadata": {},
   "outputs": [],
   "source": [
    "clf = sklearn.ensemble.RandomForestClassifier(n_estimators=100)"
   ]
  },
  {
   "cell_type": "code",
   "execution_count": 12,
   "id": "233b40c1-c181-4c52-af74-6ac2dfaaa2da",
   "metadata": {},
   "outputs": [],
   "source": [
    "# fit the model using the train data \n",
    "clf.fit(X_train, y_train)\n",
    "\n",
    "# predict using the test data\n",
    "y_pred = clf.predict(X_test)"
   ]
  },
  {
   "cell_type": "code",
   "execution_count": 14,
   "id": "4362a9f0-eadf-423f-bf14-bff3d27febad",
   "metadata": {},
   "outputs": [
    {
     "name": "stdout",
     "output_type": "stream",
     "text": [
      "ACCURACY OF THE MODEL:  0.9\n"
     ]
    }
   ],
   "source": [
    "# using metrics module for accuracy calculation\n",
    "print(\"ACCURACY OF THE MODEL: \", metrics.accuracy_score(y_test, y_pred))"
   ]
  },
  {
   "cell_type": "code",
   "execution_count": 15,
   "id": "c3fa5b87-bcd6-4bef-9d53-d667fb6b5c11",
   "metadata": {},
   "outputs": [],
   "source": [
    "# generate rxor, 45 degrees\n",
    "X_test_rxor, y_test_rxor = generate_gaussian_parity(10, angle_params=np.pi/4)"
   ]
  },
  {
   "cell_type": "code",
   "execution_count": 16,
   "id": "09d39226-98dc-43c4-be5a-dede300f9e87",
   "metadata": {},
   "outputs": [],
   "source": [
    "# predict on the rxor data\n",
    "y_pred_rxor = clf.predict(X_test_rxor)"
   ]
  },
  {
   "cell_type": "code",
   "execution_count": 17,
   "id": "6562c13a-31f0-4174-94b1-eb2f3e5d7265",
   "metadata": {},
   "outputs": [
    {
     "name": "stdout",
     "output_type": "stream",
     "text": [
      "ACCURACY OF THE MODEL:  0.5\n"
     ]
    }
   ],
   "source": [
    "# using metrics module for accuracy calculation\n",
    "print(\"ACCURACY OF THE MODEL: \", metrics.accuracy_score(y_test_rxor, y_pred_rxor))"
   ]
  },
  {
   "cell_type": "code",
   "execution_count": null,
   "id": "becded93-c637-46b5-b509-48c691cdbb18",
   "metadata": {},
   "outputs": [],
   "source": []
  },
  {
   "cell_type": "code",
   "execution_count": 18,
   "id": "8bc80eab-98cc-416f-83b6-b65feb655ba9",
   "metadata": {},
   "outputs": [],
   "source": [
    "# generate rxor, 90 degrees\n",
    "X_test_rxor, y_test_rxor = generate_gaussian_parity(10, angle_params=np.pi/2)"
   ]
  },
  {
   "cell_type": "code",
   "execution_count": 19,
   "id": "640c3575-d5f9-4985-9017-3c59cc794a42",
   "metadata": {},
   "outputs": [],
   "source": [
    "# predict on the rxor data\n",
    "y_pred_rxor = clf.predict(X_test_rxor)"
   ]
  },
  {
   "cell_type": "code",
   "execution_count": 20,
   "id": "4866f0f5-ed57-4936-a94f-10ae9b42a1b9",
   "metadata": {},
   "outputs": [
    {
     "name": "stdout",
     "output_type": "stream",
     "text": [
      "ACCURACY OF THE MODEL:  0.0\n"
     ]
    }
   ],
   "source": [
    "# using metrics module for accuracy calculation\n",
    "print(\"ACCURACY OF THE MODEL: \", metrics.accuracy_score(y_test_rxor, y_pred_rxor))"
   ]
  },
  {
   "cell_type": "code",
   "execution_count": 21,
   "id": "0f7c7da1-51cf-4635-b5a6-bc96b4d57888",
   "metadata": {},
   "outputs": [],
   "source": [
    "# angle range for rxor\n",
    "angle_sweep = range(0, 90, 1)"
   ]
  },
  {
   "cell_type": "code",
   "execution_count": 28,
   "id": "db6390f5-8c05-415c-ad0a-9f31071ea8c6",
   "metadata": {},
   "outputs": [
    {
     "name": "stdout",
     "output_type": "stream",
     "text": [
      "0 degrees, ACCURACY OF THE MODEL:  0.93\n",
      "1 degrees, ACCURACY OF THE MODEL:  0.91\n",
      "2 degrees, ACCURACY OF THE MODEL:  0.97\n",
      "3 degrees, ACCURACY OF THE MODEL:  0.92\n",
      "4 degrees, ACCURACY OF THE MODEL:  0.93\n",
      "5 degrees, ACCURACY OF THE MODEL:  0.94\n",
      "6 degrees, ACCURACY OF THE MODEL:  0.96\n",
      "7 degrees, ACCURACY OF THE MODEL:  0.86\n",
      "8 degrees, ACCURACY OF THE MODEL:  0.95\n",
      "9 degrees, ACCURACY OF THE MODEL:  0.95\n",
      "10 degrees, ACCURACY OF THE MODEL:  0.92\n",
      "11 degrees, ACCURACY OF THE MODEL:  0.91\n",
      "12 degrees, ACCURACY OF THE MODEL:  0.87\n",
      "13 degrees, ACCURACY OF THE MODEL:  0.98\n",
      "14 degrees, ACCURACY OF THE MODEL:  0.92\n",
      "15 degrees, ACCURACY OF THE MODEL:  0.9\n",
      "16 degrees, ACCURACY OF THE MODEL:  0.92\n",
      "17 degrees, ACCURACY OF THE MODEL:  0.92\n",
      "18 degrees, ACCURACY OF THE MODEL:  0.84\n",
      "19 degrees, ACCURACY OF THE MODEL:  0.87\n",
      "20 degrees, ACCURACY OF THE MODEL:  0.91\n",
      "21 degrees, ACCURACY OF THE MODEL:  0.9\n",
      "22 degrees, ACCURACY OF THE MODEL:  0.84\n",
      "23 degrees, ACCURACY OF THE MODEL:  0.86\n",
      "24 degrees, ACCURACY OF THE MODEL:  0.85\n",
      "25 degrees, ACCURACY OF THE MODEL:  0.87\n",
      "26 degrees, ACCURACY OF THE MODEL:  0.8\n",
      "27 degrees, ACCURACY OF THE MODEL:  0.9\n",
      "28 degrees, ACCURACY OF THE MODEL:  0.82\n",
      "29 degrees, ACCURACY OF THE MODEL:  0.75\n",
      "30 degrees, ACCURACY OF THE MODEL:  0.77\n",
      "31 degrees, ACCURACY OF THE MODEL:  0.74\n",
      "32 degrees, ACCURACY OF THE MODEL:  0.8\n",
      "33 degrees, ACCURACY OF THE MODEL:  0.74\n",
      "34 degrees, ACCURACY OF THE MODEL:  0.7\n",
      "35 degrees, ACCURACY OF THE MODEL:  0.79\n",
      "36 degrees, ACCURACY OF THE MODEL:  0.76\n",
      "37 degrees, ACCURACY OF THE MODEL:  0.67\n",
      "38 degrees, ACCURACY OF THE MODEL:  0.66\n",
      "39 degrees, ACCURACY OF THE MODEL:  0.66\n",
      "40 degrees, ACCURACY OF THE MODEL:  0.66\n",
      "41 degrees, ACCURACY OF THE MODEL:  0.57\n",
      "42 degrees, ACCURACY OF THE MODEL:  0.65\n",
      "43 degrees, ACCURACY OF THE MODEL:  0.52\n",
      "44 degrees, ACCURACY OF THE MODEL:  0.59\n",
      "45 degrees, ACCURACY OF THE MODEL:  0.51\n",
      "46 degrees, ACCURACY OF THE MODEL:  0.54\n",
      "47 degrees, ACCURACY OF THE MODEL:  0.59\n",
      "48 degrees, ACCURACY OF THE MODEL:  0.51\n",
      "49 degrees, ACCURACY OF THE MODEL:  0.5\n",
      "50 degrees, ACCURACY OF THE MODEL:  0.44\n",
      "51 degrees, ACCURACY OF THE MODEL:  0.38\n",
      "52 degrees, ACCURACY OF THE MODEL:  0.36\n",
      "53 degrees, ACCURACY OF THE MODEL:  0.33\n",
      "54 degrees, ACCURACY OF THE MODEL:  0.38\n",
      "55 degrees, ACCURACY OF THE MODEL:  0.35\n",
      "56 degrees, ACCURACY OF THE MODEL:  0.28\n",
      "57 degrees, ACCURACY OF THE MODEL:  0.4\n",
      "58 degrees, ACCURACY OF THE MODEL:  0.26\n",
      "59 degrees, ACCURACY OF THE MODEL:  0.29\n",
      "60 degrees, ACCURACY OF THE MODEL:  0.28\n",
      "61 degrees, ACCURACY OF THE MODEL:  0.2\n",
      "62 degrees, ACCURACY OF THE MODEL:  0.28\n",
      "63 degrees, ACCURACY OF THE MODEL:  0.27\n",
      "64 degrees, ACCURACY OF THE MODEL:  0.27\n",
      "65 degrees, ACCURACY OF THE MODEL:  0.18\n",
      "66 degrees, ACCURACY OF THE MODEL:  0.23\n",
      "67 degrees, ACCURACY OF THE MODEL:  0.18\n",
      "68 degrees, ACCURACY OF THE MODEL:  0.13\n",
      "69 degrees, ACCURACY OF THE MODEL:  0.18\n",
      "70 degrees, ACCURACY OF THE MODEL:  0.13\n",
      "71 degrees, ACCURACY OF THE MODEL:  0.2\n",
      "72 degrees, ACCURACY OF THE MODEL:  0.18\n",
      "73 degrees, ACCURACY OF THE MODEL:  0.14\n",
      "74 degrees, ACCURACY OF THE MODEL:  0.13\n",
      "75 degrees, ACCURACY OF THE MODEL:  0.1\n",
      "76 degrees, ACCURACY OF THE MODEL:  0.1\n",
      "77 degrees, ACCURACY OF THE MODEL:  0.12\n",
      "78 degrees, ACCURACY OF THE MODEL:  0.06\n",
      "79 degrees, ACCURACY OF THE MODEL:  0.16\n",
      "80 degrees, ACCURACY OF THE MODEL:  0.1\n",
      "81 degrees, ACCURACY OF THE MODEL:  0.11\n",
      "82 degrees, ACCURACY OF THE MODEL:  0.12\n",
      "83 degrees, ACCURACY OF THE MODEL:  0.07\n",
      "84 degrees, ACCURACY OF THE MODEL:  0.08\n",
      "85 degrees, ACCURACY OF THE MODEL:  0.08\n",
      "86 degrees, ACCURACY OF THE MODEL:  0.12\n",
      "87 degrees, ACCURACY OF THE MODEL:  0.05\n",
      "88 degrees, ACCURACY OF THE MODEL:  0.03\n",
      "89 degrees, ACCURACY OF THE MODEL:  0.09\n"
     ]
    }
   ],
   "source": [
    "# calculate accuracy of our rf for all angles of rxor in the angle sweep\n",
    "for angle in angle_sweep:\n",
    "    rad = math.radians(angle)\n",
    "    X_test_rxor, y_test_rxor = generate_gaussian_parity(100, angle_params=rad)\n",
    "    y_pred_rxor = clf.predict(X_test_rxor)\n",
    "    print(angle, \"degrees, ACCURACY OF THE MODEL: \", metrics.accuracy_score(y_test_rxor, y_pred_rxor))"
   ]
  },
  {
   "cell_type": "markdown",
   "id": "3de2e353-1e02-44c2-91c7-407278f43e93",
   "metadata": {},
   "source": [
    "# Hypothesis testing, paired T-test"
   ]
  },
  {
   "cell_type": "code",
   "execution_count": 18,
   "id": "894369fb-5f0e-43c2-a668-93339a00e628",
   "metadata": {},
   "outputs": [],
   "source": [
    "# !pip install pingouin\n",
    "from scipy.stats import ttest_ind, ttest_rel"
   ]
  },
  {
   "cell_type": "code",
   "execution_count": 19,
   "id": "8900f340-c0ff-4f1d-9271-3b85579054bb",
   "metadata": {},
   "outputs": [],
   "source": [
    "# generate xor train and test data\n",
    "X_train, y_train = generate_gaussian_parity(100, angle_params=0)\n",
    "X_test, y_test = generate_gaussian_parity(100, angle_params=0)"
   ]
  },
  {
   "cell_type": "code",
   "execution_count": 20,
   "id": "f46aa6c2-221a-4756-8ced-cad50fd54eb2",
   "metadata": {},
   "outputs": [],
   "source": [
    "# generate rxor, 45 degrees\n",
    "X_test_rxor, y_test_rxor = generate_gaussian_parity(100, angle_params=np.pi/4)"
   ]
  },
  {
   "cell_type": "code",
   "execution_count": 21,
   "id": "af63370d-0ef7-4ff2-b814-8330d4fcf872",
   "metadata": {},
   "outputs": [
    {
     "data": {
      "text/plain": [
       "Ttest_relResult(statistic=array([-0.12346401,  0.10638965]), pvalue=array([0.90198998, 0.91548849]))"
      ]
     },
     "execution_count": 21,
     "metadata": {},
     "output_type": "execute_result"
    }
   ],
   "source": [
    "ttest_rel(X_test, X_test_rxor) # xor vs rxor paired t test"
   ]
  },
  {
   "cell_type": "code",
   "execution_count": 22,
   "id": "109de88c-b667-4cac-99fb-01199b143a13",
   "metadata": {},
   "outputs": [
    {
     "data": {
      "text/plain": [
       "Ttest_indResult(statistic=array([-0.12294025,  0.09433819]), pvalue=array([0.90227912, 0.92493591]))"
      ]
     },
     "execution_count": 22,
     "metadata": {},
     "output_type": "execute_result"
    }
   ],
   "source": [
    "ttest_ind(X_test, X_test_rxor) # xor vs rxor ind t test"
   ]
  },
  {
   "cell_type": "markdown",
   "id": "90c7734b-e6d7-48c4-9ade-7817ca21f204",
   "metadata": {},
   "source": [
    "Xor vs xor for comparison"
   ]
  },
  {
   "cell_type": "code",
   "execution_count": 23,
   "id": "aef825b9-703b-420d-8677-65e77cb34340",
   "metadata": {},
   "outputs": [
    {
     "data": {
      "text/plain": [
       "Ttest_relResult(statistic=array([-0.33186751, -0.03064907]), pvalue=array([0.74069086, 0.97561111]))"
      ]
     },
     "execution_count": 23,
     "metadata": {},
     "output_type": "execute_result"
    }
   ],
   "source": [
    "ttest_rel(X_test, X_train) # xor vs xxor paired t test"
   ]
  },
  {
   "cell_type": "code",
   "execution_count": 24,
   "id": "ac1dfff8-97a9-4689-9bc7-3b0c9ffe543b",
   "metadata": {},
   "outputs": [
    {
     "data": {
      "text/plain": [
       "Ttest_indResult(statistic=array([-0.30516127, -0.03187438]), pvalue=array([0.76056388, 0.97460433]))"
      ]
     },
     "execution_count": 24,
     "metadata": {},
     "output_type": "execute_result"
    }
   ],
   "source": [
    "ttest_ind(X_test, X_train) # xor vs xxor ind t test"
   ]
  },
  {
   "cell_type": "code",
   "execution_count": null,
   "id": "5a5ac951-0d00-406e-95c0-c2b1d6db5b18",
   "metadata": {},
   "outputs": [],
   "source": []
  }
 ],
 "metadata": {
  "kernelspec": {
   "display_name": "Python 3",
   "language": "python",
   "name": "python3"
  },
  "language_info": {
   "codemirror_mode": {
    "name": "ipython",
    "version": 3
   },
   "file_extension": ".py",
   "mimetype": "text/x-python",
   "name": "python",
   "nbconvert_exporter": "python",
   "pygments_lexer": "ipython3",
   "version": "3.8.8"
  }
 },
 "nbformat": 4,
 "nbformat_minor": 5
}
