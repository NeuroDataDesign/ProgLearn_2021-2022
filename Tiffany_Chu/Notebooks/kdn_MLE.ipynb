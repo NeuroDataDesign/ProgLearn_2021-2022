{
  "cells": [
    {
      "cell_type": "markdown",
      "metadata": {
        "id": "Q7m4Obg3xflW"
      },
      "source": [
        "## Import Required Packages"
      ]
    },
    {
      "cell_type": "code",
      "source": [
        "#install libraries\n",
        "\n",
        "!rm -r kdg\n",
        "!git clone https://github.com/neurodata/kdg\n",
        "!ls\n",
        "!pip install kdg/."
      ],
      "metadata": {
        "id": "5Jry8VhebviV"
      },
      "execution_count": null,
      "outputs": []
    },
    {
      "cell_type": "code",
      "execution_count": 11,
      "metadata": {
        "id": "3z9g8zUAwdRM"
      },
      "outputs": [],
      "source": [
        "# import modules\n",
        "import numpy as np\n",
        "import pandas as pd\n",
        "from tensorflow import keras\n",
        "from tensorflow.keras import layers\n",
        "\n",
        "import seaborn as sns\n",
        "import matplotlib.pyplot as plt\n",
        "\n",
        "from kdg.kdn import *\n",
        "from kdg.utils import *"
      ]
    },
    {
      "cell_type": "markdown",
      "metadata": {
        "id": "NIlC_4YiyH0m"
      },
      "source": [
        "## Prepare dataset (Gaussian Sparse Parity)"
      ]
    },
    {
      "cell_type": "code",
      "execution_count": 12,
      "metadata": {
        "id": "IgE3DM1YyFxz"
      },
      "outputs": [],
      "source": [
        "# Define the experimental setup.\n",
        "# We will be using a Gaussian sparse parity setup\n",
        "# You can change these parameters.\n",
        "# Higher than 10,000 training samples will take a prohibitively long time to run\n",
        "\n",
        "p = 10  # total dimensions of the data vector\n",
        "p_star = 2  # number of signal dimensions of the data vector\n",
        "\n",
        "n_train = 2000\n",
        "n_test = 1000\n",
        "\n",
        "#XOR\n",
        "X1, y1 = gaussian_sparse_parity(n_train, p_star=p_star, p=p)\n",
        "X1_test, y1_test = gaussian_sparse_parity(n_test, p_star=p_star, p=p)\n",
        "\n",
        "#XNOR\n",
        "X2, y2 = gaussian_sparse_parity(n_train, p_star=p_star, p=p)\n",
        "X2_test, y2_test = gaussian_sparse_parity(n_test, p_star=p_star, p=p)\n",
        "\n",
        "y2 = -1*(y2-1)\n",
        "y2_test = -1*(y2_test-1)"
      ]
    },
    {
      "cell_type": "markdown",
      "metadata": {
        "id": "COUhbYhCGk3m"
      },
      "source": [
        "## Raw Neural Network"
      ]
    },
    {
      "cell_type": "code",
      "execution_count": 14,
      "metadata": {
        "id": "S8NLc6o8Gif-",
        "colab": {
          "base_uri": "https://localhost:8080/"
        },
        "outputId": "12216cc9-0214-474e-8989-146e5de8368e"
      },
      "outputs": [
        {
          "output_type": "stream",
          "name": "stdout",
          "text": [
            "NN1 Accuracy: 0.932\n",
            "NN2 Accuracy: 0.945\n",
            "NN1 Accuracy on X2 data: 0.065\n"
          ]
        }
      ],
      "source": [
        "# Define our neural network parameters\n",
        "\n",
        "def getNN(dense_size, input_size, **kwargs):\n",
        "    network_base = keras.Sequential()\n",
        "    network_base.add(layers.Dense(dense_size, activation='relu', input_shape=(input_size,)))\n",
        "    network_base.add(layers.Dense(dense_size, activation='relu'))\n",
        "    network_base.add(layers.Dense(units=2, activation = 'softmax'))\n",
        "    network_base.compile(**kwargs)\n",
        "    return network_base\n",
        "\n",
        "dense_layer_nodes = 5\n",
        "\n",
        "# NN params\n",
        "compile_kwargs = {\n",
        "    \"loss\": \"binary_crossentropy\",\n",
        "    \"optimizer\": keras.optimizers.Adam(3e-4),\n",
        "}\n",
        "fit_kwargs = {\"epochs\": 150, \"batch_size\": 32, \"verbose\": False}\n",
        "\n",
        "\n",
        "# Fit two neural networks using our test data and print accuracy\n",
        "nn1 = getNN(dense_layer_nodes, p, **compile_kwargs)\n",
        "nn1.fit(X1, keras.utils.to_categorical(y1), **fit_kwargs)\n",
        "y1_hat = np.argmax(nn1.predict(X1_test), axis=1)\n",
        "\n",
        "print(f\"NN1 Accuracy: {np.mean(y1_hat == y1_test)}\")\n",
        "\n",
        "nn2 = getNN(dense_layer_nodes, p, **compile_kwargs)\n",
        "nn2.fit(X2, keras.utils.to_categorical(y2), **fit_kwargs)\n",
        "y2_hat = np.argmax(nn2.predict(X2_test), axis=1)\n",
        "\n",
        "print(f\"NN2 Accuracy: {np.mean(y2_hat == y2_test)}\")\n",
        "\n",
        "y2_mismatch = np.argmax(nn1.predict(X2_test), axis=1)\n",
        "print(f\"NN1 Accuracy on X2 data: {np.mean(y2_mismatch == y2_test)}\")\n",
        "\n",
        "#Well that's garbage. Let's see if we can do better."
      ]
    },
    {
      "cell_type": "markdown",
      "metadata": {
        "id": "2pb7FjE4Gnbe"
      },
      "source": [
        "## Kernel Density Network Forward Transfer\n"
      ]
    },
    {
      "cell_type": "markdown",
      "source": [
        "### Test Functions"
      ],
      "metadata": {
        "id": "9vXW1VzHcieF"
      }
    },
    {
      "cell_type": "code",
      "source": [
        "def forward_transfer(X, y, last_means, last_covs,\n",
        "                     label_polytopes = False):\n",
        "    r\"\"\"\n",
        "    Re-assign labels, sizes to previous polytopes based on current data\n",
        "\n",
        "    Parameters:\n",
        "    -----------\n",
        "    X: ndarray\n",
        "        Input data matrix; training data for current task\n",
        "    y : ndarray\n",
        "        Output (i.e. response) data matrix for current task\n",
        "    last_means: ndarray\n",
        "        Means for previous polytopes\n",
        "    last_covs: ndarray\n",
        "        Covariances for previous polytopes\n",
        "\n",
        "    Returns:\n",
        "    ----------\n",
        "    polytope_sizes : new sample counts for polytopes\n",
        "    polytope_labels : new labels for polytopes\n",
        "    \"\"\"\n",
        "\n",
        "    X = check_array(X)\n",
        "    labels = np.unique(y)\n",
        "\n",
        "    #likelihood = X_ members by nPolytopes\n",
        "    likelihood = []\n",
        "\n",
        "    # Edited from _compute_pdf\n",
        "    # Get likelihoods for each pdf\n",
        "    for polytope_idx in range(last_means.shape[0]):\n",
        "        polytope_mean = last_means[polytope_idx]\n",
        "        polytope_cov = last_covs[polytope_idx]\n",
        "\n",
        "        var = multivariate_normal(\n",
        "            mean=polytope_mean, cov=polytope_cov, allow_singular=True\n",
        "        )\n",
        "        \n",
        "        likelihood.append(var.pdf(X))\n",
        "\n",
        "    likelihood = np.array(likelihood)\n",
        "    proba = np.argmax(likelihood, axis=0)\n",
        "    proba_by_label = [proba[y == L] for L in labels]\n",
        "\n",
        "    polytope_counts = np.zeros((labels.shape[0], last_means.shape[0]))\n",
        "    for label in labels:\n",
        "        polytope_idxs = np.unique(proba_by_label[label])\n",
        "        for count, idx in enumerate(polytope_idxs):\n",
        "            polytope_counts[label, idx] = np.sum(proba_by_label[label] == idx)\n",
        "    \n",
        "    if label_polytopes:\n",
        "        polytope_sizes = np.max(polytope_counts, axis = 0)\n",
        "        polytope_labels = np.argmax(polytope_counts, axis = 0)\n",
        "        return polytope_sizes, polytope_labels\n",
        "\n",
        "    else:\n",
        "        polytope_sizes = polytope_counts\n",
        "        return polytope_sizes\n"
      ],
      "metadata": {
        "id": "tZeMR_Z-m9ZM"
      },
      "execution_count": 16,
      "outputs": []
    },
    {
      "cell_type": "code",
      "source": [
        "#Some KDN functions externalized for easier testing/editing\n",
        "def _compute_pdf(X, polytope_id, polytope_means, polytope_covs):\n",
        "    r\"\"\"compute the likelihood for the given data\n",
        "    Parameters\n",
        "    ----------\n",
        "    X : ndarray\n",
        "        Input data matrix\n",
        "    label : int\n",
        "        class label\n",
        "    polytope_idx : int\n",
        "        polytope identifier\n",
        "    Returns\n",
        "    -------\n",
        "    ndarray\n",
        "        likelihoods\n",
        "    \"\"\"\n",
        "    polytope_mean = polytope_means[polytope_id]\n",
        "    polytope_cov = polytope_covs[polytope_id]\n",
        "\n",
        "    var = multivariate_normal(\n",
        "        mean=polytope_mean, cov=polytope_cov, allow_singular=True\n",
        "    )\n",
        "\n",
        "    likelihood = var.pdf(X)\n",
        "    return likelihood\n",
        "\n",
        "def predict_proba2(X,\n",
        "                   polytope_means,\n",
        "                   polytope_covs,\n",
        "                   polytope_sizes,\n",
        "                   priors,\n",
        "                   return_likelihoods=False):\n",
        "    r\"\"\"\n",
        "    Calculate posteriors using the kernel density forest.\n",
        "    Parameters\n",
        "    ----------\n",
        "    X : ndarray\n",
        "        Input data matrix.\n",
        "    \"\"\"\n",
        "    X = check_array(X)\n",
        "\n",
        "    labels = np.arange(0, polytope_sizes.shape[0])\n",
        "\n",
        "    likelihoods = np.zeros((np.size(X, 0), len(labels)), dtype=float)\n",
        "    priors = np.reshape(priors, (len(priors), 1))\n",
        "\n",
        "    for label in labels:\n",
        "        for polytope, size in enumerate(polytope_sizes[label, :]):\n",
        "            likelihoods[:, label] += np.nan_to_num(\n",
        "                size * _compute_pdf(X, polytope, polytope_means, polytope_covs)\n",
        "            )\n",
        "\n",
        "    proba = (\n",
        "        likelihoods.T * priors / (np.sum(likelihoods * priors.T, axis=1) + 1e-100)\n",
        "    ).T\n",
        "    if return_likelihoods:\n",
        "        return proba, likelihoods\n",
        "    else:\n",
        "        return proba"
      ],
      "metadata": {
        "id": "y1msVSKTh90Z"
      },
      "execution_count": 24,
      "outputs": []
    },
    {
      "cell_type": "code",
      "source": [
        "# Helper functions for testing\n",
        "\n",
        "# Add noise to other shapes besides Gaussian sparse parity\n",
        "def add_noise(X, p = 20, center_box = (-1.0, 1.0)):\n",
        "    shape = X.shape\n",
        "\n",
        "    X_noise = np.random.uniform(\n",
        "        low=center_box[0], high=center_box[1], size=(X.shape[0], p - X.shape[1])\n",
        "    )\n",
        "    X = np.concatenate((X, X_noise), axis=1)\n",
        "\n",
        "    return X\n",
        "\n",
        "def test_forward_transfer(X, y, kdn, X_test = None, y_test = None, verbose = True):\n",
        "    if X_test is None: X_test = X\n",
        "    if y_test is None: y_test = y\n",
        "\n",
        "    #flatten polytope information\n",
        "    means = np.concatenate([val for (key, val) in kdn.polytope_means.items()])\n",
        "    covs = np.concatenate([val for (key, val) in kdn.polytope_covs.items()])\n",
        "    #labels_by_task = np.concatenate([np.ones(len(val))*key for (key, val) in kdn.polytope_means.items()])\n",
        "\n",
        "    #test\n",
        "    #sizes, labels = forward_transfer(X, y, means, covs)\n",
        "    sizes = forward_transfer(X, y, means, covs)\n",
        "\n",
        "    priors = []\n",
        "    for label in np.unique(y_test):\n",
        "        priors.append(np.sum(y_test == label))\n",
        "    priors = priors/np.sum(priors)\n",
        "\n",
        "    raw = np.argmax(nn1.predict(X_test), axis=1)\n",
        "    raw_m = np.mean(raw == y_test)\n",
        "\n",
        "    transfer = np.argmax(predict_proba2(X_test, means, covs, sizes, priors), axis = 1)\n",
        "    transfer_m = np.mean(transfer == y_test)\n",
        "\n",
        "    if verbose:\n",
        "        print(f\"NN Accuracy on X3 data without transfer: {raw_m}\")\n",
        "        print(f\"NN Accuracy on X3 data after forward transfer: {transfer_m}\")\n",
        "\n",
        "    return raw_m, transfer_m\n",
        "\n",
        "def plot_accuracy(sample_size, pct_errs, labels):\n",
        "    fig, ax = plt.subplots(1, 1, figsize=(8, 8))\n",
        "    color_list = [(1.0, 0.0, 0.0), (0.0, 0.0, 0.0)]\n",
        "    color_list.extend(sns.color_palette(\"Set1\")[1:])\n",
        "\n",
        "    for i, err in enumerate(pct_errs):\n",
        "        ax.plot(sample_size, np.mean(err, axis=1), c=color_list[i], label=labels[i])\n",
        "        ax.fill_between(\n",
        "            sample_size,\n",
        "            np.quantile(err, 0.25, axis=1),\n",
        "            np.quantile(err, 0.75, axis=1),\n",
        "            facecolor=color_list[i],\n",
        "            alpha=0.3,\n",
        "        )\n",
        "    \n",
        "    right_side = ax.spines[\"right\"]\n",
        "    right_side.set_visible(False)\n",
        "    top_side = ax.spines[\"top\"]\n",
        "    top_side.set_visible(False)\n",
        "\n",
        "    ax.set_xscale(\"log\")\n",
        "    ax.set_xlabel(\"Sample size\")\n",
        "    ax.set_ylabel(\"Percent Error\")\n",
        "    ax.legend(frameon=False)"
      ],
      "metadata": {
        "id": "IiL01nILQ3LZ"
      },
      "execution_count": 19,
      "outputs": []
    },
    {
      "cell_type": "markdown",
      "source": [
        "### Test Algorithm"
      ],
      "metadata": {
        "id": "iDJB43edcZyz"
      }
    },
    {
      "cell_type": "code",
      "source": [
        "#Get initial KDN\n",
        "kdn1 = kdn(network=nn1)\n",
        "kdn1.fit(X1, y1)\n",
        "\n",
        "#Test on new data\n",
        "test_forward_transfer(X2, y2, kdn1)"
      ],
      "metadata": {
        "colab": {
          "base_uri": "https://localhost:8080/"
        },
        "id": "eH9uH9v00T9K",
        "outputId": "2624fe34-1f98-4a2f-8d82-54ea94942ead"
      },
      "execution_count": 25,
      "outputs": [
        {
          "output_type": "stream",
          "name": "stdout",
          "text": [
            "NN Accuracy on X3 data without transfer: 0.057\n",
            "NN Accuracy on X3 data after forward transfer: 0.947\n"
          ]
        },
        {
          "output_type": "execute_result",
          "data": {
            "text/plain": [
              "(0.057, 0.947)"
            ]
          },
          "metadata": {},
          "execution_count": 25
        }
      ]
    },
    {
      "cell_type": "code",
      "source": [
        "#Test fitting to ellipse\n",
        "\n",
        "X3, y3 = generate_ellipse(n_test)\n",
        "X3 = add_noise(X3, p)\n",
        "\n",
        "#Try again\n",
        "test_forward_transfer(X3, y3, kdn1)"
      ],
      "metadata": {
        "colab": {
          "base_uri": "https://localhost:8080/"
        },
        "id": "A0Sxjp7jKtBl",
        "outputId": "f9383033-876d-41df-bc3a-c2adab107bdc"
      },
      "execution_count": 28,
      "outputs": [
        {
          "output_type": "stream",
          "name": "stdout",
          "text": [
            "NN Accuracy on X3 data without transfer: 0.49\n",
            "NN Accuracy on X3 data after forward transfer: 0.612\n"
          ]
        },
        {
          "output_type": "execute_result",
          "data": {
            "text/plain": [
              "(0.49, 0.612)"
            ]
          },
          "metadata": {},
          "execution_count": 28
        }
      ]
    },
    {
      "cell_type": "markdown",
      "source": [
        "## Experiments"
      ],
      "metadata": {
        "id": "FIseAPCpxG8X"
      }
    },
    {
      "cell_type": "markdown",
      "source": [
        "### XNOR Test"
      ],
      "metadata": {
        "id": "NDS5QvE0gA5w"
      }
    },
    {
      "cell_type": "code",
      "source": [
        "accuracy_task1 = []\n",
        "accuracy_forward = []\n",
        "accuracy_kdn = []\n",
        "\n",
        "p = 10\n",
        "p_star = 2\n",
        "sample_size = [100, 200, 300, 500, 1000, 2000, 5000]\n",
        "reps = 10\n",
        "\n",
        "test_size = min(sample_size)\n",
        "\n",
        "# Run tests\n",
        "\n",
        "X1, y1 = gaussian_sparse_parity(500, p_star = p_star, p = p)\n",
        "raw_nn = getNN(dense_layer_nodes, p, **compile_kwargs)\n",
        "raw_nn.fit(X1, keras.utils.to_categorical(y1), **fit_kwargs)\n",
        "kdn_task1 = kdn(network = raw_nn, verbose=False)\n",
        "kdn_task1.fit(X1, y1)\n",
        "\n",
        "for s in sample_size:\n",
        "    print(f\"Testing with {s} samples\")\n",
        "    for r in range(reps):\n",
        "        #XNOR\n",
        "        X_train, y_train = gaussian_sparse_parity(s, p_star = p_star, p = p)\n",
        "        X_test, y_test = gaussian_sparse_parity(s, p_star=p_star, p=p)\n",
        "        \n",
        "        y_train = -1*(y_train-1)\n",
        "        y_test = -1*(y_test-1)\n",
        "\n",
        "        #Original KDN to serve as a baseline\n",
        "        nn_test = getNN(dense_layer_nodes, p, **compile_kwargs)\n",
        "        nn_test.fit(X_train, keras.utils.to_categorical(y_train), **fit_kwargs)\n",
        "        kdn_test = kdn(network = nn_test)\n",
        "        kdn_test.fit(X_train, y_train)\n",
        "        accuracy_kdn.append(np.mean(kdn_test.predict(X_test) == y_test))\n",
        "\n",
        "        #Task1 KDN with Forward Transfer\n",
        "        raw, forward = test_forward_transfer(X_train,\n",
        "                                             y_train,\n",
        "                                             kdn_task1,\n",
        "                                             X_test = X_test,\n",
        "                                             y_test = y_test,\n",
        "                                             verbose = False)\n",
        "        accuracy_task1.append(raw)\n",
        "        accuracy_forward.append(forward)\n",
        "\n",
        "\n",
        "    print(\"Task2 KDN Accuracy:\", accuracy_kdn[-reps:])\n",
        "    print(\"Task1 Accuracy on Task 2:\", accuracy_task1[-reps:])\n",
        "    print(\"Forward Transfer Accuracy on Task 2:\", accuracy_forward[-reps:])\n",
        "\n",
        "# Plot results\n",
        "shape = (len(sample_size), reps)\n",
        "err_kdn = 1 - np.array(accuracy_kdn).reshape(shape)\n",
        "err_task1 = 1 - np.array(accuracy_task1).reshape(shape)\n",
        "err_forward = 1 - np.array(accuracy_forward).reshape(shape)\n",
        "\n",
        "error_rates = (err_forward, err_task1, err_kdn)\n",
        "labels = (\"KDN-Forward Transfer\", \"KDN-No Transfer\", \"KDN-Fitted To Data\")\n",
        "\n",
        "plot_accuracy(sample_size, error_rates, labels)"
      ],
      "metadata": {
        "colab": {
          "base_uri": "https://localhost:8080/",
          "height": 1000
        },
        "id": "dNiJVXJig1ym",
        "outputId": "1f9f0b61-d542-4899-efe6-79bbd7373543"
      },
      "execution_count": 33,
      "outputs": [
        {
          "output_type": "stream",
          "name": "stdout",
          "text": [
            "Testing with 100 samples\n",
            "Task2 KDN Accuracy: [0.76, 0.76, 0.82, 0.67, 0.78, 0.76, 0.62, 0.73, 0.71, 0.74]\n",
            "Task1 Accuracy on Task 2: [0.07, 0.09, 0.07, 0.08, 0.03, 0.06, 0.06, 0.07, 0.04, 0.04]\n",
            "Forward Transfer Accuracy on Task 2: [0.83, 0.88, 0.88, 0.76, 0.82, 0.86, 0.8, 0.86, 0.85, 0.85]\n",
            "Testing with 200 samples\n",
            "Task2 KDN Accuracy: [0.76, 0.73, 0.78, 0.835, 0.76, 0.765, 0.835, 0.795, 0.855, 0.795]\n",
            "Task1 Accuracy on Task 2: [0.055, 0.065, 0.065, 0.065, 0.045, 0.06, 0.07, 0.05, 0.05, 0.055]\n",
            "Forward Transfer Accuracy on Task 2: [0.86, 0.865, 0.86, 0.87, 0.8, 0.825, 0.89, 0.89, 0.91, 0.885]\n",
            "Testing with 300 samples\n",
            "Task2 KDN Accuracy: [0.8433333333333334, 0.8466666666666667, 0.8766666666666667, 0.9033333333333333, 0.7966666666666666, 0.8, 0.8566666666666667, 0.8366666666666667, 0.7766666666666666, 0.8733333333333333]\n",
            "Task1 Accuracy on Task 2: [0.043333333333333335, 0.03666666666666667, 0.04666666666666667, 0.06333333333333334, 0.05, 0.06333333333333334, 0.05333333333333334, 0.043333333333333335, 0.05333333333333334, 0.06]\n",
            "Forward Transfer Accuracy on Task 2: [0.89, 0.8433333333333334, 0.87, 0.85, 0.8366666666666667, 0.86, 0.89, 0.8433333333333334, 0.8633333333333333, 0.86]\n",
            "Testing with 500 samples\n",
            "Task2 KDN Accuracy: [0.932, 0.888, 0.916, 0.9, 0.904, 0.914, 0.898, 0.906, 0.932, 0.918]\n",
            "Task1 Accuracy on Task 2: [0.042, 0.052, 0.05, 0.06, 0.058, 0.08, 0.062, 0.036, 0.054, 0.048]\n",
            "Forward Transfer Accuracy on Task 2: [0.904, 0.862, 0.892, 0.89, 0.87, 0.856, 0.902, 0.868, 0.884, 0.89]\n",
            "Testing with 1000 samples\n",
            "Task2 KDN Accuracy: [0.925, 0.94, 0.927, 0.937, 0.927, 0.925, 0.912, 0.92, 0.928, 0.946]\n",
            "Task1 Accuracy on Task 2: [0.063, 0.056, 0.061, 0.066, 0.069, 0.073, 0.063, 0.056, 0.066, 0.054]\n",
            "Forward Transfer Accuracy on Task 2: [0.868, 0.877, 0.869, 0.885, 0.885, 0.883, 0.871, 0.875, 0.887, 0.898]\n",
            "Testing with 2000 samples\n",
            "Task2 KDN Accuracy: [0.946, 0.955, 0.954, 0.948, 0.957, 0.948, 0.942, 0.9465, 0.9415, 0.957]\n",
            "Task1 Accuracy on Task 2: [0.0625, 0.057, 0.064, 0.059, 0.058, 0.056, 0.064, 0.0655, 0.058, 0.057]\n",
            "Forward Transfer Accuracy on Task 2: [0.884, 0.8795, 0.8955, 0.885, 0.9025, 0.8845, 0.8825, 0.8825, 0.886, 0.889]\n",
            "Testing with 5000 samples\n",
            "Task2 KDN Accuracy: [0.9544, 0.9498, 0.9554, 0.9496, 0.9558, 0.953, 0.9564, 0.9526, 0.9552, 0.9526]\n",
            "Task1 Accuracy on Task 2: [0.0602, 0.0602, 0.0608, 0.061, 0.0572, 0.0594, 0.0526, 0.063, 0.0598, 0.0582]\n",
            "Forward Transfer Accuracy on Task 2: [0.8852, 0.8754, 0.8832, 0.885, 0.8876, 0.8826, 0.8888, 0.8878, 0.889, 0.8804]\n"
          ]
        },
        {
          "output_type": "display_data",
          "data": {
            "image/png": "[encoded data removed]",
            "text/plain": [
              "<Figure size 576x576 with 1 Axes>"
            ]
          },
          "metadata": {
            "needs_background": "light"
          }
        }
      ]
    },
    {
      "cell_type": "markdown",
      "source": [
        "### 45-Degree XOR"
      ],
      "metadata": {
        "id": "0IJ1nrRRsPlA"
      }
    },
    {
      "cell_type": "code",
      "source": [
        "accuracy_task1 = []\n",
        "accuracy_forward = []\n",
        "accuracy_kdn = []\n",
        "\n",
        "p = 10\n",
        "p_star = 2\n",
        "sample_size = [100, 200, 300, 500, 1000, 2000, 5000]\n",
        "reps = 10\n",
        "\n",
        "test_size = min(sample_size)\n",
        "\n",
        "# Run tests\n",
        "\n",
        "X1, y1 = gaussian_sparse_parity(500, p_star = p_star, p = p)\n",
        "raw_nn = getNN(dense_layer_nodes, p, **compile_kwargs)\n",
        "raw_nn.fit(X1, keras.utils.to_categorical(y1), **fit_kwargs)\n",
        "kdn_task1 = kdn(network = raw_nn, verbose=False)\n",
        "kdn_task1.fit(X1, y1)\n",
        "\n",
        "for s in sample_size:\n",
        "    print(f\"Testing with {s} samples\")\n",
        "    for r in range(reps):\n",
        "        #XNOR\n",
        "        X_train, y_train = generate_gaussian_parity(s, angle_params = np.pi/4)\n",
        "        X_test, y_test = generate_gaussian_parity(s, angle_params = np.pi/4)\n",
        "\n",
        "        X_train = add_noise(X_train, p)\n",
        "        X_test = add_noise(X_test, p)\n",
        "\n",
        "        #Original KDN to serve as a baseline\n",
        "        nn_test = getNN(dense_layer_nodes, p, **compile_kwargs)\n",
        "        nn_test.fit(X_train, keras.utils.to_categorical(y_train), **fit_kwargs)\n",
        "        kdn_test = kdn(network = nn_test)\n",
        "        kdn_test.fit(X_train, y_train)\n",
        "        accuracy_kdn.append(np.mean(kdn_test.predict(X_test) == y_test))\n",
        "\n",
        "        #Task1 KDN with Forward Transfer\n",
        "        raw, forward = test_forward_transfer(X_train,\n",
        "                                             y_train,\n",
        "                                             kdn_task1,\n",
        "                                             X_test = X_test,\n",
        "                                             y_test = y_test,\n",
        "                                             verbose = False)\n",
        "        accuracy_task1.append(raw)\n",
        "        accuracy_forward.append(forward)\n",
        "\n",
        "\n",
        "    print(\"Task2 KDN Accuracy:\", accuracy_kdn[-reps:])\n",
        "    print(\"Task1 Accuracy on Task 2:\", accuracy_task1[-reps:])\n",
        "    print(\"Forward Transfer Accuracy on Task 2:\", accuracy_forward[-reps:])\n",
        "\n",
        "# Plot results\n",
        "shape = (len(sample_size), reps)\n",
        "err_kdn = 1 - np.array(accuracy_kdn).reshape(shape)\n",
        "err_task1 = 1 - np.array(accuracy_task1).reshape(shape)\n",
        "err_forward = 1 - np.array(accuracy_forward).reshape(shape)\n",
        "\n",
        "error_rates = (err_forward, err_task1, err_kdn)\n",
        "labels = (\"KDN-Forward Transfer\", \"KDN-No Transfer\", \"KDN-Fitted To Data\")\n",
        "\n",
        "plot_accuracy(sample_size, error_rates, labels)"
      ],
      "metadata": {
        "colab": {
          "base_uri": "https://localhost:8080/",
          "height": 1000
        },
        "id": "fLUwCZEXvzce",
        "outputId": "94f8f5b8-78e8-4926-c010-192f84c5843a"
      },
      "execution_count": 35,
      "outputs": [
        {
          "output_type": "stream",
          "name": "stdout",
          "text": [
            "Testing with 100 samples\n",
            "Task2 KDN Accuracy: [0.71, 0.68, 0.7, 0.6, 0.72, 0.76, 0.63, 0.72, 0.8, 0.76]\n",
            "Task1 Accuracy on Task 2: [0.56, 0.57, 0.48, 0.6, 0.48, 0.59, 0.59, 0.54, 0.53, 0.47]\n",
            "Forward Transfer Accuracy on Task 2: [0.83, 0.8, 0.77, 0.6, 0.64, 0.69, 0.63, 0.75, 0.55, 0.8]\n",
            "Testing with 200 samples\n",
            "Task2 KDN Accuracy: [0.875, 0.72, 0.75, 0.81, 0.735, 0.86, 0.8, 0.75, 0.81, 0.8]\n",
            "Task1 Accuracy on Task 2: [0.5, 0.505, 0.525, 0.595, 0.52, 0.55, 0.505, 0.51, 0.465, 0.545]\n",
            "Forward Transfer Accuracy on Task 2: [0.805, 0.63, 0.845, 0.89, 0.8, 0.765, 0.795, 0.8, 0.77, 0.83]\n",
            "Testing with 300 samples\n",
            "Task2 KDN Accuracy: [0.8866666666666667, 0.8366666666666667, 0.8733333333333333, 0.8633333333333333, 0.8466666666666667, 0.8833333333333333, 0.84, 0.8166666666666667, 0.85, 0.8866666666666667]\n",
            "Task1 Accuracy on Task 2: [0.47, 0.5166666666666667, 0.51, 0.53, 0.5433333333333333, 0.5133333333333333, 0.57, 0.5033333333333333, 0.5133333333333333, 0.53]\n",
            "Forward Transfer Accuracy on Task 2: [0.8066666666666666, 0.8, 0.8166666666666667, 0.84, 0.82, 0.7533333333333333, 0.8233333333333334, 0.78, 0.86, 0.74]\n",
            "Testing with 500 samples\n",
            "Task2 KDN Accuracy: [0.918, 0.904, 0.894, 0.93, 0.896, 0.92, 0.93, 0.882, 0.936, 0.886]\n",
            "Task1 Accuracy on Task 2: [0.55, 0.532, 0.538, 0.528, 0.538, 0.54, 0.542, 0.506, 0.514, 0.528]\n",
            "Forward Transfer Accuracy on Task 2: [0.796, 0.808, 0.812, 0.83, 0.828, 0.802, 0.798, 0.798, 0.828, 0.8]\n",
            "Testing with 1000 samples\n",
            "Task2 KDN Accuracy: [0.958, 0.94, 0.936, 0.952, 0.909, 0.946, 0.932, 0.93, 0.937, 0.934]\n",
            "Task1 Accuracy on Task 2: [0.544, 0.552, 0.515, 0.51, 0.53, 0.521, 0.542, 0.527, 0.546, 0.558]\n",
            "Forward Transfer Accuracy on Task 2: [0.891, 0.87, 0.862, 0.855, 0.843, 0.84, 0.848, 0.855, 0.836, 0.881]\n",
            "Testing with 2000 samples\n",
            "Task2 KDN Accuracy: [0.959, 0.9425, 0.9425, 0.946, 0.949, 0.9545, 0.9505, 0.9535, 0.9545, 0.9365]\n",
            "Task1 Accuracy on Task 2: [0.519, 0.5335, 0.5355, 0.518, 0.498, 0.5365, 0.5255, 0.532, 0.529, 0.51]\n",
            "Forward Transfer Accuracy on Task 2: [0.882, 0.85, 0.8625, 0.8605, 0.863, 0.87, 0.85, 0.8615, 0.8585, 0.844]\n",
            "Testing with 5000 samples\n",
            "Task2 KDN Accuracy: [0.9536, 0.95, 0.9524, 0.9512, 0.9512, 0.9504, 0.9502, 0.9542, 0.9392, 0.954]\n",
            "Task1 Accuracy on Task 2: [0.5134, 0.5238, 0.5238, 0.5198, 0.5282, 0.5266, 0.5284, 0.5196, 0.527, 0.5164]\n",
            "Forward Transfer Accuracy on Task 2: [0.8628, 0.8672, 0.8626, 0.867, 0.857, 0.864, 0.8638, 0.8574, 0.868, 0.8522]\n"
          ]
        },
        {
          "output_type": "display_data",
          "data": {
            "image/png": "[encoded data removed]",
            "text/plain": [
              "<Figure size 576x576 with 1 Axes>"
            ]
          },
          "metadata": {
            "needs_background": "light"
          }
        }
      ]
    },
    {
      "cell_type": "markdown",
      "source": [
        "### Ellipse Test"
      ],
      "metadata": {
        "id": "U3Sej-plgFRh"
      }
    },
    {
      "cell_type": "code",
      "source": [
        "accuracy_task1 = []\n",
        "accuracy_forward = []\n",
        "accuracy_kdn = []\n",
        "\n",
        "p = 10\n",
        "p_star = 2\n",
        "sample_size = [500, 1000, 2500, 5000, 7500, 10000]\n",
        "reps = 10\n",
        "\n",
        "test_size = min(sample_size)\n",
        "\n",
        "# Run tests\n",
        "\n",
        "X1, y1 = gaussian_sparse_parity(5000, p_star = p_star, p = p)\n",
        "raw_nn = getNN(dense_layer_nodes, p, **compile_kwargs)\n",
        "raw_nn.fit(X1, keras.utils.to_categorical(y1), **fit_kwargs)\n",
        "kdn_task1 = kdn(network = raw_nn, verbose=False)\n",
        "kdn_task1.fit(X1, y1)\n",
        "\n",
        "for s in sample_size:\n",
        "    print(f\"Testing with {s} samples\")\n",
        "    for r in range(reps):\n",
        "        #XNOR\n",
        "        X_train, y_train = generate_ellipse(s)\n",
        "        X_test, y_test = generate_ellipse(s)\n",
        "\n",
        "        X_train = add_noise(X_train, p)\n",
        "        X_test = add_noise(X_test, p)\n",
        "\n",
        "        #Original KDN to serve as a baseline\n",
        "        nn_test = getNN(dense_layer_nodes, p, **compile_kwargs)\n",
        "        nn_test.fit(X_train, keras.utils.to_categorical(y_train), **fit_kwargs)\n",
        "        kdn_test = kdn(network = nn_test)\n",
        "        kdn_test.fit(X_train, y_train)\n",
        "        accuracy_kdn.append(np.mean(kdn_test.predict(X_test) == y_test))\n",
        "\n",
        "        #Task1 KDN with Forward Transfer\n",
        "        raw, forward = test_forward_transfer(X_train,\n",
        "                                             y_train,\n",
        "                                             kdn_task1,\n",
        "                                             X_test = X_test,\n",
        "                                             y_test = y_test,\n",
        "                                             verbose = False)\n",
        "        accuracy_task1.append(raw)\n",
        "        accuracy_forward.append(forward)\n",
        "\n",
        "\n",
        "    print(\"Task2 KDN Accuracy:\", accuracy_kdn[-reps:])\n",
        "    print(\"Task1 Accuracy on Task 2:\", accuracy_task1[-reps:])\n",
        "    print(\"Forward Transfer Accuracy on Task 2:\", accuracy_forward[-reps:])\n",
        "\n",
        "# Plot results\n",
        "shape = (len(sample_size), reps)\n",
        "err_kdn = 1 - np.array(accuracy_kdn).reshape(shape)\n",
        "err_task1 = 1 - np.array(accuracy_task1).reshape(shape)\n",
        "err_forward = 1 - np.array(accuracy_forward).reshape(shape)\n",
        "\n",
        "error_rates = (err_forward, err_task1, err_kdn)\n",
        "labels = (\"KDN-Forward Transfer\", \"KDN-No Transfer\", \"KDN-Fitted To Data\")\n",
        "\n",
        "plot_accuracy(sample_size, error_rates, labels)"
      ],
      "metadata": {
        "colab": {
          "base_uri": "https://localhost:8080/",
          "height": 945
        },
        "id": "5CjbAlJycPUZ",
        "outputId": "36c557e8-de89-49a7-c776-e463dbbda59c"
      },
      "execution_count": 34,
      "outputs": [
        {
          "output_type": "stream",
          "name": "stdout",
          "text": [
            "Testing with 500 samples\n",
            "Task2 KDN Accuracy: [0.578, 0.578, 0.606, 0.622, 0.602, 0.6, 0.574, 0.54, 0.534, 0.55]\n",
            "Task1 Accuracy on Task 2: [0.488, 0.5, 0.508, 0.548, 0.508, 0.508, 0.516, 0.508, 0.508, 0.504]\n",
            "Forward Transfer Accuracy on Task 2: [0.63, 0.634, 0.63, 0.644, 0.612, 0.638, 0.642, 0.592, 0.64, 0.556]\n",
            "Testing with 1000 samples\n",
            "Task2 KDN Accuracy: [0.606, 0.593, 0.619, 0.614, 0.6, 0.587, 0.619, 0.58, 0.655, 0.622]\n",
            "Task1 Accuracy on Task 2: [0.508, 0.492, 0.527, 0.509, 0.518, 0.521, 0.491, 0.499, 0.485, 0.495]\n",
            "Forward Transfer Accuracy on Task 2: [0.666, 0.656, 0.64, 0.663, 0.606, 0.633, 0.616, 0.618, 0.652, 0.645]\n",
            "Testing with 2500 samples\n",
            "Task2 KDN Accuracy: [0.656, 0.6408, 0.762, 0.704, 0.6548, 0.6972, 0.7272, 0.74, 0.6388, 0.6948]\n",
            "Task1 Accuracy on Task 2: [0.4916, 0.49, 0.5172, 0.4836, 0.4812, 0.5188, 0.4976, 0.5048, 0.4876, 0.498]\n",
            "Forward Transfer Accuracy on Task 2: [0.6572, 0.6672, 0.6472, 0.6488, 0.65, 0.6728, 0.6596, 0.632, 0.6504, 0.6732]\n",
            "Testing with 5000 samples\n",
            "Task2 KDN Accuracy: [0.6786, 0.8224, 0.8346, 0.6876, 0.8498, 0.8326, 0.8282, 0.843, 0.7442, 0.8152]\n",
            "Task1 Accuracy on Task 2: [0.5004, 0.4968, 0.5098, 0.4942, 0.5144, 0.5104, 0.497, 0.5134, 0.5082, 0.507]\n",
            "Forward Transfer Accuracy on Task 2: [0.6684, 0.6576, 0.6454, 0.6626, 0.6598, 0.657, 0.636, 0.6574, 0.676, 0.6552]\n",
            "Testing with 7500 samples\n",
            "Task2 KDN Accuracy: [0.8797333333333334, 0.7168, 0.8624, 0.8730666666666667, 0.8676, 0.8662666666666666, 0.8613333333333333, 0.8725333333333334, 0.8712, 0.8762666666666666]\n",
            "Task1 Accuracy on Task 2: [0.5030666666666667, 0.5068, 0.5006666666666667, 0.5001333333333333, 0.5013333333333333, 0.4945333333333333, 0.4984, 0.5009333333333333, 0.5004, 0.518]\n",
            "Forward Transfer Accuracy on Task 2: [0.6682666666666667, 0.6592, 0.6584, 0.6593333333333333, 0.6524, 0.6724, 0.6652, 0.6653333333333333, 0.6697333333333333, 0.6474666666666666]\n",
            "Testing with 10000 samples\n",
            "Task2 KDN Accuracy: [0.8842, 0.8866, 0.8899, 0.8851, 0.8867, 0.8888, 0.8832, 0.8893, 0.8882, 0.8895]\n",
            "Task1 Accuracy on Task 2: [0.5007, 0.4994, 0.4983, 0.5014, 0.5048, 0.5078, 0.4981, 0.5037, 0.5103, 0.5032]\n",
            "Forward Transfer Accuracy on Task 2: [0.6547, 0.658, 0.6645, 0.6622, 0.6577, 0.6651, 0.6697, 0.655, 0.6638, 0.6777]\n"
          ]
        },
        {
          "output_type": "display_data",
          "data": {
            "image/png": "[encoded data removed]",
            "text/plain": [
              "<Figure size 576x576 with 1 Axes>"
            ]
          },
          "metadata": {
            "needs_background": "light"
          }
        }
      ]
    }
  ],
  "metadata": {
    "colab": {
      "name": "kdn_MLE.ipynb",
      "provenance": [],
      "collapsed_sections": []
    },
    "kernelspec": {
      "display_name": "Python 3 (ipykernel)",
      "language": "python",
      "name": "python3"
    },
    "language_info": {
      "codemirror_mode": {
        "name": "ipython",
        "version": 3
      },
      "file_extension": ".py",
      "mimetype": "text/x-python",
      "name": "python",
      "nbconvert_exporter": "python",
      "pygments_lexer": "ipython3",
      "version": "3.8.10"
    }
  },
  "nbformat": 4,
  "nbformat_minor": 0
}