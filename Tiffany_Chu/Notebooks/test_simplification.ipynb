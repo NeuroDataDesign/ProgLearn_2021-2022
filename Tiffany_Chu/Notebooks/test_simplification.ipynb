{
  "nbformat": 4,
  "nbformat_minor": 0,
  "metadata": {
    "colab": {
      "name": "test_simplification.ipynb",
      "provenance": []
    },
    "kernelspec": {
      "name": "python3",
      "display_name": "Python 3"
    },
    "language_info": {
      "name": "python"
    }
  },
  "cells": [
    {
      "cell_type": "code",
      "metadata": {
        "id": "eWqrsctLi96E"
      },
      "source": [
        "import numpy as np\n",
        "import math \n",
        "def _nCr(n,r):\n",
        "    return math.factorial(n) / math.factorial(r) / math.factorial(n-r)\n",
        "\n",
        "def efm_1(n, m):\n",
        "    weight = 0\n",
        "    #k = nodes drawn before mismatch occurs\n",
        "    if m == n: #perfect match\n",
        "        weight = 1\n",
        "    else: #imperfect match, add scaled layer weight and break\n",
        "        layer_weight = 0\n",
        "        for k in range(m+1):\n",
        "            prob_k = 1/(k+1)*(_nCr(m, k)*(n-m))/_nCr(n, k+1)\n",
        "            #print(k/n, 1/(k+1), _nCr(m, k), n-m, _nCr(n, k+1))\n",
        "            layer_weight += k/n*prob_k\n",
        "        weight += layer_weight\n",
        "    \n",
        "    return weight\n",
        "\n",
        "def efm_2(n, m):\n",
        "    return m/(n*(n-m+1))\n",
        "\n",
        "def efm_hyper(n, m):\n",
        "  k+1"
      ],
      "execution_count": 16,
      "outputs": []
    },
    {
      "cell_type": "code",
      "metadata": {
        "colab": {
          "base_uri": "https://localhost:8080/"
        },
        "id": "pcZVyUeMja1x",
        "outputId": "d34f2e9e-b10b-45fc-f35f-132c7afbbfd4"
      },
      "source": [
        "reps = 10\n",
        "N = np.random.randint(5, 100, reps)\n",
        "M = [np.random.randint(n) for n in N]\n",
        "\n",
        "test = np.vstack((N, M))\n",
        "\n",
        "for t in test.T:\n",
        "  print(f\"({t[0]}, {t[1]}), EFM-1: {efm_1(t[0], t[1])}, EFM-2: {efm_2(t[0], t[1])}\")"
      ],
      "execution_count": 20,
      "outputs": [
        {
          "output_type": "stream",
          "name": "stdout",
          "text": [
            "(27, 23), EFM-1: 0.17037037037037037, EFM-2: 0.17037037037037037\n",
            "(96, 71), EFM-1: 0.028445512820512824, EFM-2: 0.02844551282051282\n",
            "(70, 39), EFM-1: 0.01741071428571428, EFM-2: 0.017410714285714286\n",
            "(99, 83), EFM-1: 0.049316696375519886, EFM-2: 0.04931669637551991\n",
            "(69, 8), EFM-1: 0.0018700327255726972, EFM-2: 0.0018700327255726976\n",
            "(14, 3), EFM-1: 0.017857142857142856, EFM-2: 0.017857142857142856\n",
            "(10, 7), EFM-1: 0.17499999999999996, EFM-2: 0.175\n",
            "(35, 17), EFM-1: 0.02556390977443609, EFM-2: 0.02556390977443609\n",
            "(47, 4), EFM-1: 0.001934235976789168, EFM-2: 0.0019342359767891683\n",
            "(42, 40), EFM-1: 0.3174603174603174, EFM-2: 0.31746031746031744\n"
          ]
        }
      ]
    }
  ]
}