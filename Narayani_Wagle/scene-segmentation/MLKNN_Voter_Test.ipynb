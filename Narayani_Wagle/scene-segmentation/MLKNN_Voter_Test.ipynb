{
  "cells": [
    {
      "cell_type": "code",
      "execution_count": 1,
      "metadata": {
        "id": "NVjk6TzdE_c-"
      },
      "outputs": [],
      "source": [
        "%%capture\n",
        "!wget https://isic-challenge-data.s3.amazonaws.com/2018/ISIC2018_Task1-2_Training_Input.zip\n",
        "!unzip /content/ISIC2018_Task1-2_Training_Input.zip\n",
        "!wget https://isic-challenge-data.s3.amazonaws.com/2018/ISIC2018_Task1_Training_GroundTruth.zip\n",
        "!unzip /content/ISIC2018_Task1_Training_GroundTruth.zip\n",
        "!pip install scikit-learn==0.24.1\n",
        "!pip install scikit-multilearn"
      ]
    },
    {
      "cell_type": "code",
      "execution_count": 2,
      "metadata": {
        "id": "DQB_RBFBITlx"
      },
      "outputs": [],
      "source": [
        "from skmultilearn.adapt import MLkNN\n",
        "import numpy as np\n",
        "import os\n",
        "import cv2"
      ]
    },
    {
      "cell_type": "markdown",
      "metadata": {
        "id": "RV9-NrZonzdw"
      },
      "source": [
        "# Load Data"
      ]
    },
    {
      "cell_type": "code",
      "execution_count": 3,
      "metadata": {
        "id": "7VXUMS9kIp-H"
      },
      "outputs": [],
      "source": [
        "image_size = 128\n",
        "path = \"./\"\n",
        "train_path = \"./ISIC2018_Task1-2_Training_Input\"\n",
        "epochs = 1\n",
        "batch_size = 19\n",
        "\n",
        "## Training Ids\n",
        "train_ids = []\n",
        "for files in os.walk(train_path):\n",
        "   for name in files:\n",
        "      train_ids.append(name)\n",
        "\n",
        "train_ids = train_ids[2]\n",
        "train_ids = [i.split('.', 1)[0] for i in train_ids]\n",
        "val_data_size = 171\n",
        "\n",
        "valid_ids = train_ids[:val_data_size]\n",
        "train_ids = train_ids[val_data_size:]\n",
        "\n",
        "smalltrain = train_ids[:1000]\n",
        "smalltest = train_ids[1000:1300]\n",
        "\n",
        "trainx = []\n",
        "trainy = []\n",
        "testx = []\n",
        "testy = []\n",
        "for id in smalltrain:\n",
        "    im = cv2.imread('./ISIC2018_Task1-2_Training_Input/' + id + '.jpg', 0)\n",
        "    mask = cv2.imread('./ISIC2018_Task1_Training_GroundTruth/' + id + '_segmentation.png', 0)\n",
        "    im = cv2.resize(im, (128, 128))\n",
        "    mask = cv2.resize(mask, (128, 128))\n",
        "    mask[mask > 0] = 1\n",
        "    mask[mask <= 0] = 0\n",
        "    trainx.append(im.flatten())\n",
        "    trainy.append(mask.flatten())\n",
        "for id in smalltest:\n",
        "    im = cv2.imread('./ISIC2018_Task1-2_Training_Input/' + id + '.jpg', 0)\n",
        "    mask = cv2.imread('./ISIC2018_Task1_Training_GroundTruth/' + id + '_segmentation.png', 0)\n",
        "    im = cv2.resize(im, (128, 128))\n",
        "    mask = cv2.resize(im, (128, 128))\n",
        "    mask[mask > 0] = 1\n",
        "    mask[mask <= 0] = 0\n",
        "    testx.append(im.flatten())\n",
        "    testy.append(mask.flatten())\n",
        "\n",
        "trainx = np.array(trainx)\n",
        "trainy = np.array(trainy)\n",
        "testx = np.array(testx)\n",
        "testy = np.array(testy)"
      ]
    },
    {
      "cell_type": "markdown",
      "metadata": {
        "id": "4ljHhiLQn5qw"
      },
      "source": [
        "# Use MLkNN for Images/Segmentations - SEE ERROR"
      ]
    },
    {
      "cell_type": "code",
      "execution_count": null,
      "metadata": {
        "id": "1Nq8Pd3C60IO"
      },
      "outputs": [],
      "source": [
        "#from scipy.sparse import csr_matrix"
      ]
    },
    {
      "cell_type": "code",
      "execution_count": 4,
      "metadata": {
        "colab": {
          "base_uri": "https://localhost:8080/"
        },
        "id": "twtQZKrtLnze",
        "outputId": "23bcd1a1-8196-4558-bd17-a6177477e934"
      },
      "outputs": [
        {
          "output_type": "execute_result",
          "data": {
            "text/plain": [
              "(array([[ 19,  20,  23, ...,  14,  13,  11],\n",
              "        [  8,  10,  22, ...,  99,  85,  73],\n",
              "        [ 13,  14,  12, ...,  10,   8,   9],\n",
              "        ...,\n",
              "        [108, 124, 131, ...,  12,  13,  14],\n",
              "        [126, 130, 126, ..., 215, 196, 207],\n",
              "        [179, 173, 176, ..., 183, 180, 172]], dtype=uint8),\n",
              " array([[0, 0, 0, ..., 0, 0, 0],\n",
              "        [0, 0, 0, ..., 0, 0, 0],\n",
              "        [0, 0, 0, ..., 0, 0, 0],\n",
              "        ...,\n",
              "        [0, 0, 0, ..., 0, 0, 0],\n",
              "        [0, 0, 0, ..., 0, 0, 0],\n",
              "        [0, 0, 0, ..., 0, 0, 0]], dtype=uint8))"
            ]
          },
          "metadata": {},
          "execution_count": 4
        }
      ],
      "source": [
        "# ERROR\n",
        "\n",
        "#trainx = np.array([[255, 34, 2, 89], [233, 40, 94, 12]])\n",
        "#trainy =  np.array([[1,0,1,0], [1,1,0,1]])\n",
        "k = int(np.log2(len(trainx)))\n",
        "#trainx = csr_matrix(trainx)\n",
        "#trainy = csr_matrix(trainy)\n",
        "#trainx, trainy.shape\n",
        "trainx, trainy"
      ]
    },
    {
      "cell_type": "code",
      "execution_count": 5,
      "metadata": {
        "colab": {
          "base_uri": "https://localhost:8080/"
        },
        "id": "V0j1bbyz3GfC",
        "outputId": "02582504-5ae3-4e3b-acb5-7552d7932619"
      },
      "outputs": [
        {
          "output_type": "stream",
          "name": "stdout",
          "text": [
            "# of samples for trainx =  (1000, 16384)\n",
            "# of samples for trainy =  (1000, 16384)\n",
            "image dimension =  (16384,)\n",
            "label dimension =  (16384,)\n"
          ]
        },
        {
          "output_type": "stream",
          "name": "stderr",
          "text": [
            "/usr/local/lib/python3.7/dist-packages/sklearn/utils/validation.py:72: FutureWarning: Pass n_neighbors=9 as keyword args. From version 1.0 (renaming of 0.25) passing these as positional arguments will result in an error\n",
            "  \"will result in an error\", FutureWarning)\n"
          ]
        },
        {
          "output_type": "execute_result",
          "data": {
            "text/plain": [
              "MLkNN(k=9)"
            ]
          },
          "metadata": {},
          "execution_count": 5
        }
      ],
      "source": [
        "print('# of samples for trainx = ', trainx.shape)\n",
        "print('# of samples for trainy = ', trainy.shape)\n",
        "print('image dimension = ', trainx[0].shape)\n",
        "print('label dimension = ', trainy[0].shape)\n",
        "mlknn = MLkNN(k)\n",
        "mlknn.fit(trainx, trainy)"
      ]
    },
    {
      "cell_type": "code",
      "execution_count": 6,
      "metadata": {
        "id": "ZPnnoWK-L8zC"
      },
      "outputs": [],
      "source": [
        "num_classes = len(np.unique(trainy))\n",
        "missing_label_indices = []\n",
        "classes = np.array([0,1])\n",
        "if classes.size != 0 and num_classes < len(classes):\n",
        "    for idx, label in enumerate(classes):\n",
        "        if label not in np.unique(trainy):\n",
        "            missing_label_indices.append(idx)"
      ]
    },
    {
      "cell_type": "code",
      "execution_count": 7,
      "metadata": {
        "id": "ryrOdy08Ma1p"
      },
      "outputs": [],
      "source": [
        "def predict_proba(testx):\n",
        "    votes_per_example = mlknn.predict_proba(testx)\n",
        "    if len(missing_label_indices) > 0:\n",
        "        for i in missing_label_indices:\n",
        "            new_col = np.zeros(votes_per_example.shape[0])\n",
        "            votes_per_example = np.insert(votes_per_example, i, new_col, axis=1)\n",
        "    return votes_per_example"
      ]
    },
    {
      "cell_type": "code",
      "source": [
        "probs = predict_proba(testx)"
      ],
      "metadata": {
        "id": "SOdR5CumcPDQ"
      },
      "execution_count": 8,
      "outputs": []
    },
    {
      "cell_type": "code",
      "source": [
        "probs"
      ],
      "metadata": {
        "colab": {
          "base_uri": "https://localhost:8080/"
        },
        "id": "u_szRBLxcUgE",
        "outputId": "f686dda8-daef-4dec-99ec-53f0b3d81a66"
      },
      "execution_count": null,
      "outputs": [
        {
          "output_type": "execute_result",
          "data": {
            "text/plain": [
              "<50x16384 sparse matrix of type '<class 'numpy.float64'>'\n",
              "\twith 819200 stored elements in List of Lists format>"
            ]
          },
          "metadata": {},
          "execution_count": 9
        }
      ]
    },
    {
      "cell_type": "code",
      "source": [
        "probs = probs.toarray()"
      ],
      "metadata": {
        "id": "DSkuuO_Rcb1b"
      },
      "execution_count": 9,
      "outputs": []
    },
    {
      "cell_type": "code",
      "source": [
        "probs"
      ],
      "metadata": {
        "colab": {
          "base_uri": "https://localhost:8080/"
        },
        "id": "UfimlR0Hc03N",
        "outputId": "da120b62-5cfb-4970-8cb7-1ec51c9fb84d"
      },
      "execution_count": null,
      "outputs": [
        {
          "output_type": "execute_result",
          "data": {
            "text/plain": [
              "array([[0.00245098, 0.00245098, 0.00245098, ..., 0.00245098, 0.00245098,\n",
              "        0.00245098],\n",
              "       [0.00245098, 0.00245098, 0.00245098, ..., 0.00245098, 0.00245098,\n",
              "        0.00245098],\n",
              "       [0.00245098, 0.00245098, 0.00245098, ..., 0.00245098, 0.00245098,\n",
              "        0.00245098],\n",
              "       ...,\n",
              "       [0.00245098, 0.00245098, 0.00245098, ..., 0.00245098, 0.00245098,\n",
              "        0.00245098],\n",
              "       [0.00245098, 0.00245098, 0.00245098, ..., 0.00245098, 0.00245098,\n",
              "        0.00245098],\n",
              "       [0.00245098, 0.00245098, 0.00245098, ..., 0.00245098, 0.00245098,\n",
              "        0.00245098]])"
            ]
          },
          "metadata": {},
          "execution_count": 11
        }
      ]
    },
    {
      "cell_type": "code",
      "source": [
        "import matplotlib.pyplot as plt"
      ],
      "metadata": {
        "id": "zcynlx0PdIqs"
      },
      "execution_count": 10,
      "outputs": []
    },
    {
      "cell_type": "code",
      "source": [
        "probs.shape"
      ],
      "metadata": {
        "colab": {
          "base_uri": "https://localhost:8080/"
        },
        "id": "FKN7PGGkdZDK",
        "outputId": "ad76acb7-9196-4550-ff2d-f7dfdf71d66b"
      },
      "execution_count": 11,
      "outputs": [
        {
          "output_type": "execute_result",
          "data": {
            "text/plain": [
              "(300, 16384)"
            ]
          },
          "metadata": {},
          "execution_count": 11
        }
      ]
    },
    {
      "cell_type": "code",
      "source": [
        "probs[0].shape"
      ],
      "metadata": {
        "colab": {
          "base_uri": "https://localhost:8080/"
        },
        "id": "oBizMA1hcgJu",
        "outputId": "956a83f6-e302-469e-a853-17a277128dbc"
      },
      "execution_count": 13,
      "outputs": [
        {
          "output_type": "execute_result",
          "data": {
            "text/plain": [
              "(16384,)"
            ]
          },
          "metadata": {},
          "execution_count": 13
        }
      ]
    },
    {
      "cell_type": "code",
      "source": [
        "plt.hist(probs)\n",
        "plt.xlabel('Prediction')\n",
        "plt.ylabel('Frequency')"
      ],
      "metadata": {
        "colab": {
          "base_uri": "https://localhost:8080/",
          "height": 297
        },
        "id": "rWbLiBOGaKXY",
        "outputId": "4c4d14f6-e540-4774-f424-51fdbbbcf90a"
      },
      "execution_count": 12,
      "outputs": [
        {
          "output_type": "execute_result",
          "data": {
            "text/plain": [
              "Text(0, 0.5, 'Frequency')"
            ]
          },
          "metadata": {},
          "execution_count": 12
        },
        {
          "output_type": "display_data",
          "data": {
            "text/plain": [
              "<Figure size 432x288 with 1 Axes>"
            ],
            "image/png": "[encoded data removed]"
          },
          "metadata": {
            "needs_background": "light"
          }
        }
      ]
    },
    {
      "cell_type": "code",
      "source": [
        "xs = np.array([[i for i in range(probs.shape[1])] for i in range(probs.shape[0])])"
      ],
      "metadata": {
        "id": "njDJ7gR1daH_"
      },
      "execution_count": null,
      "outputs": []
    },
    {
      "cell_type": "code",
      "source": [
        "for x,y in zip(xs, probs):\n",
        "    plt.plot(x, y)\n",
        "plt.xlabel('pixel #')\n",
        "plt.ylabel('probability pixel is lesion')\n",
        "plt.show()"
      ],
      "metadata": {
        "colab": {
          "base_uri": "https://localhost:8080/",
          "height": 279
        },
        "id": "8Y-wIQU2eHLD",
        "outputId": "2a3afeaf-23d5-4dd2-d000-e3f5e4e1f739"
      },
      "execution_count": null,
      "outputs": [
        {
          "output_type": "display_data",
          "data": {
            "text/plain": [
              "<Figure size 432x288 with 1 Axes>"
            ],
            "image/png": "[encoded data removed]"
          },
          "metadata": {
            "needs_background": "light"
          }
        }
      ]
    },
    {
      "cell_type": "code",
      "execution_count": null,
      "metadata": {
        "id": "27-9VXw2MnwG",
        "colab": {
          "base_uri": "https://localhost:8080/"
        },
        "outputId": "1cbd6964-ad76-4adc-c09d-c7397d0c5b80"
      },
      "outputs": [
        {
          "output_type": "stream",
          "name": "stdout",
          "text": [
            "[[0 0 0 ... 0 0 0]\n",
            " [0 0 0 ... 0 0 0]\n",
            " [0 0 0 ... 0 0 0]\n",
            " ...\n",
            " [0 0 0 ... 0 0 0]\n",
            " [0 0 0 ... 0 0 0]\n",
            " [0 0 0 ... 0 0 0]]\n"
          ]
        }
      ],
      "source": [
        "#print(classes[np.argmax(predict_proba(testx), axis=3)])\n",
        "print((probs> 0.5).astype(int))"
      ]
    }
  ],
  "metadata": {
    "colab": {
      "collapsed_sections": [],
      "name": "MLKNN Voter Test.ipynb",
      "provenance": []
    },
    "kernelspec": {
      "display_name": "Python 3",
      "name": "python3"
    },
    "language_info": {
      "name": "python"
    }
  },
  "nbformat": 4,
  "nbformat_minor": 0
}