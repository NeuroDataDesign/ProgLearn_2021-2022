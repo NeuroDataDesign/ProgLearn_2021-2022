{
  "nbformat": 4,
  "nbformat_minor": 0,
  "metadata": {
    "colab": {
      "name": "MLKNN Voter Test.ipynb",
      "provenance": [],
      "collapsed_sections": []
    },
    "kernelspec": {
      "name": "python3",
      "display_name": "Python 3"
    },
    "language_info": {
      "name": "python"
    }
  },
  "cells": [
    {
      "cell_type": "code",
      "execution_count": 1,
      "metadata": {
        "id": "NVjk6TzdE_c-"
      },
      "outputs": [],
      "source": [
        "%%capture\n",
        "!wget https://isic-challenge-data.s3.amazonaws.com/2018/ISIC2018_Task1-2_Training_Input.zip\n",
        "!unzip /content/ISIC2018_Task1-2_Training_Input.zip\n",
        "!wget https://isic-challenge-data.s3.amazonaws.com/2018/ISIC2018_Task1_Training_GroundTruth.zip\n",
        "!unzip /content/ISIC2018_Task1_Training_GroundTruth.zip\n",
        "!pip install scikit-learn==0.24.1\n",
        "!pip install scikit-multilearn"
      ]
    },
    {
      "cell_type": "code",
      "source": [
        "#!pip uninstall scikit-learn -y\n"
      ],
      "metadata": {
        "colab": {
          "base_uri": "https://localhost:8080/"
        },
        "id": "zql6c5Mj7Pcx",
        "outputId": "69a0ce8a-fe37-409c-83f5-ffd7475d46bc"
      },
      "execution_count": 1,
      "outputs": [
        {
          "output_type": "stream",
          "name": "stdout",
          "text": [
            "Requirement already satisfied: scikit-learn==0.24.1 in /usr/local/lib/python3.7/dist-packages (0.24.1)\n",
            "Requirement already satisfied: threadpoolctl>=2.0.0 in /usr/local/lib/python3.7/dist-packages (from scikit-learn==0.24.1) (3.1.0)\n",
            "Requirement already satisfied: scipy>=0.19.1 in /usr/local/lib/python3.7/dist-packages (from scikit-learn==0.24.1) (1.4.1)\n",
            "Requirement already satisfied: numpy>=1.13.3 in /usr/local/lib/python3.7/dist-packages (from scikit-learn==0.24.1) (1.21.5)\n",
            "Requirement already satisfied: joblib>=0.11 in /usr/local/lib/python3.7/dist-packages (from scikit-learn==0.24.1) (1.1.0)\n"
          ]
        }
      ]
    },
    {
      "cell_type": "code",
      "source": [
        "from skmultilearn.adapt import MLkNN\n",
        "import numpy as np\n",
        "import os\n",
        "import cv2"
      ],
      "metadata": {
        "id": "DQB_RBFBITlx"
      },
      "execution_count": 2,
      "outputs": []
    },
    {
      "cell_type": "markdown",
      "source": [
        "# Load Data"
      ],
      "metadata": {
        "id": "RV9-NrZonzdw"
      }
    },
    {
      "cell_type": "code",
      "source": [
        "image_size = 128\n",
        "path = \"./\"\n",
        "train_path = \"./ISIC2018_Task1-2_Training_Input\"\n",
        "epochs = 1\n",
        "batch_size = 19\n",
        "\n",
        "## Training Ids\n",
        "train_ids = []\n",
        "for files in os.walk(train_path):\n",
        "   for name in files:\n",
        "      train_ids.append(name)\n",
        "\n",
        "train_ids = train_ids[2]\n",
        "train_ids = [i.split('.', 1)[0] for i in train_ids]\n",
        "val_data_size = 171\n",
        "\n",
        "valid_ids = train_ids[:val_data_size]\n",
        "train_ids = train_ids[val_data_size:]\n",
        "\n",
        "smalltrain = train_ids[:10]\n",
        "smalltest = train_ids[10:15]\n",
        "\n",
        "trainx = []\n",
        "trainy = []\n",
        "testx = []\n",
        "testy = []\n",
        "for id in smalltrain:\n",
        "    im = cv2.imread('./ISIC2018_Task1-2_Training_Input/' + id + '.jpg', 0)\n",
        "    mask = cv2.imread('./ISIC2018_Task1_Training_GroundTruth/' + id + '_segmentation.png', 0)\n",
        "    im = cv2.resize(im, (128, 128))\n",
        "    mask = cv2.resize(mask, (128, 128))\n",
        "    mask[mask > 0] = 1\n",
        "    mask[mask <= 0] = 0\n",
        "    trainx.append(im.flatten())\n",
        "    trainy.append(mask.flatten())\n",
        "for id in smalltest:\n",
        "    im = cv2.imread('./ISIC2018_Task1-2_Training_Input/' + id + '.jpg', 0)\n",
        "    mask = cv2.imread('./ISIC2018_Task1_Training_GroundTruth/' + id + '_segmentation.png', 0)\n",
        "    im = cv2.resize(im, (128, 128))\n",
        "    mask = cv2.resize(im, (128, 128))\n",
        "    mask[mask > 0] = 1\n",
        "    mask[mask <= 0] = 0\n",
        "    testx.append(im.flatten())\n",
        "    testy.append(mask.flatten())\n",
        "\n",
        "trainx = np.array(trainx)\n",
        "trainy = np.array(trainy)\n",
        "testx = np.array(testx)\n",
        "testy = np.array(testy)"
      ],
      "metadata": {
        "id": "7VXUMS9kIp-H"
      },
      "execution_count": 16,
      "outputs": []
    },
    {
      "cell_type": "markdown",
      "source": [
        "# Use MLkNN for Images/Segmentations - SEE ERROR"
      ],
      "metadata": {
        "id": "4ljHhiLQn5qw"
      }
    },
    {
      "cell_type": "code",
      "source": [
        "from scipy.sparse import csr_matrix"
      ],
      "metadata": {
        "id": "1Nq8Pd3C60IO"
      },
      "execution_count": 16,
      "outputs": []
    },
    {
      "cell_type": "code",
      "source": [
        "# ERROR\n",
        "\n",
        "#trainx = np.array([[255, 34, 2, 89], [233, 40, 94, 12]])\n",
        "#trainy =  np.array([[1,0,1,0], [1,1,0,1]])\n",
        "k = int(np.log2(len(trainx)))\n",
        "#trainx = csr_matrix(trainx)\n",
        "#trainy = csr_matrix(trainy)\n",
        "#trainx, trainy.shape\n",
        "trainx, trainy"
      ],
      "metadata": {
        "colab": {
          "base_uri": "https://localhost:8080/"
        },
        "id": "twtQZKrtLnze",
        "outputId": "b45b29b0-b1f9-47a6-bf27-e9429bbaa46b"
      },
      "execution_count": 17,
      "outputs": [
        {
          "output_type": "execute_result",
          "data": {
            "text/plain": [
              "(array([[ 36,  43,  65, ...,  47,  37,  42],\n",
              "        [ 55,  48,  70, ...,  89, 106,  95],\n",
              "        [119, 119, 137, ..., 123, 114, 105],\n",
              "        ...,\n",
              "        [134, 124, 134, ..., 134, 135, 136],\n",
              "        [ 71,  73,  74, ..., 159, 152, 130],\n",
              "        [ 15,  17,  21, ...,  14,  14,  16]], dtype=uint8),\n",
              " array([[0, 0, 0, ..., 0, 0, 0],\n",
              "        [0, 0, 0, ..., 0, 0, 0],\n",
              "        [0, 0, 0, ..., 0, 0, 0],\n",
              "        ...,\n",
              "        [0, 0, 0, ..., 0, 0, 0],\n",
              "        [0, 0, 0, ..., 0, 0, 0],\n",
              "        [0, 0, 0, ..., 0, 0, 0]], dtype=uint8))"
            ]
          },
          "metadata": {},
          "execution_count": 17
        }
      ]
    },
    {
      "cell_type": "code",
      "source": [
        "print('# of samples for trainx = ', trainx.shape)\n",
        "print('# of samples for trainy = ', trainy.shape)\n",
        "print('image dimension = ', trainx[0].shape)\n",
        "print('label dimension = ', trainy[0].shape)\n",
        "mlknn = MLkNN(k)\n",
        "mlknn.fit(trainx, trainy)"
      ],
      "metadata": {
        "colab": {
          "base_uri": "https://localhost:8080/"
        },
        "id": "V0j1bbyz3GfC",
        "outputId": "00f0afaf-a3a4-4cf4-b442-a6aa05528a60"
      },
      "execution_count": 18,
      "outputs": [
        {
          "output_type": "stream",
          "name": "stdout",
          "text": [
            "# of samples for trainx =  (10, 16384)\n",
            "# of samples for trainy =  (10, 16384)\n",
            "image dimension =  (16384,)\n",
            "label dimension =  (16384,)\n"
          ]
        },
        {
          "output_type": "stream",
          "name": "stderr",
          "text": [
            "/usr/local/lib/python3.7/dist-packages/sklearn/utils/validation.py:72: FutureWarning: Pass n_neighbors=3 as keyword args. From version 1.0 (renaming of 0.25) passing these as positional arguments will result in an error\n",
            "  \"will result in an error\", FutureWarning)\n"
          ]
        },
        {
          "output_type": "execute_result",
          "data": {
            "text/plain": [
              "MLkNN(k=3)"
            ]
          },
          "metadata": {},
          "execution_count": 18
        }
      ]
    },
    {
      "cell_type": "code",
      "source": [
        "num_classes = len(np.unique(trainy))\n",
        "missing_label_indices = []\n",
        "classes = np.array([0,1])\n",
        "if classes.size != 0 and num_classes < len(classes):\n",
        "    for idx, label in enumerate(classes):\n",
        "        if label not in np.unique(trainy):\n",
        "            missing_label_indices.append(idx)"
      ],
      "metadata": {
        "id": "ZPnnoWK-L8zC"
      },
      "execution_count": null,
      "outputs": []
    },
    {
      "cell_type": "code",
      "source": [
        "def predict_proba(testx):\n",
        "    votes_per_example = mlknn.predict_proba(testx)\n",
        "    if len(missing_label_indices) > 0:\n",
        "        for i in missing_label_indices:\n",
        "            new_col = np.zeros(votes_per_example.shape[0])\n",
        "            votes_per_example = np.insert(votes_per_example, i, new_col, axis=1)\n",
        "    return votes_per_example"
      ],
      "metadata": {
        "id": "ryrOdy08Ma1p"
      },
      "execution_count": null,
      "outputs": []
    },
    {
      "cell_type": "code",
      "source": [
        "print(classes[np.argmax(predict_proba(testx), axis=3)])"
      ],
      "metadata": {
        "id": "27-9VXw2MnwG"
      },
      "execution_count": null,
      "outputs": []
    }
  ]
}