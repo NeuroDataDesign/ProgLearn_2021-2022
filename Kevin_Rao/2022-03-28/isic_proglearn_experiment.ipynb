{
  "nbformat": 4,
  "nbformat_minor": 0,
  "metadata": {
    "colab": {
      "name": "Copy of ISIC-segmentation with proglearn.ipynb",
      "provenance": [],
      "collapsed_sections": []
    },
    "kernelspec": {
      "name": "python3",
      "display_name": "Python 3"
    },
    "language_info": {
      "name": "python"
    }
  },
  "cells": [
    {
      "cell_type": "code",
      "source": [
        "#!pip install proglearn\n",
        "!wget https://isic-challenge-data.s3.amazonaws.com/2018/ISIC2018_Task1-2_Training_Input.zip\n",
        "!unzip /content/ISIC2018_Task1-2_Training_Input.zip\n",
        "!wget https://isic-challenge-data.s3.amazonaws.com/2018/ISIC2018_Task1_Training_GroundTruth.zip\n",
        "!unzip /content/ISIC2018_Task1_Training_GroundTruth.zip"
      ],
      "metadata": {
        "id": "4Uu2Ogc4aOSc"
      },
      "execution_count": null,
      "outputs": []
    },
    {
      "cell_type": "code",
      "source": [
        "!pip install proglearn\n",
        "!pip install scikit-multilearn"
      ],
      "metadata": {
        "id": "b_g8I1P3Xax1"
      },
      "execution_count": null,
      "outputs": []
    },
    {
      "cell_type": "code",
      "execution_count": null,
      "metadata": {
        "id": "gleDocGe8_XC"
      },
      "outputs": [],
      "source": [
        "import os\n",
        "import sys\n",
        "import random\n",
        "\n",
        "import numpy as np\n",
        "import cv2\n",
        "import matplotlib.pyplot as plt\n",
        "\n",
        "import tensorflow as tf\n",
        "from tensorflow import keras\n",
        "\n",
        "from sklearn.model_selection import KFold\n",
        "from tensorflow.keras.backend import clear_session\n",
        "from transformers import NeuralClassificationTransformer\n",
        "from proglearn.progressive_learner import ProgressiveLearner\n",
        "import voters\n",
        "from tensorflow.keras.optimizers import Adam\n",
        "from proglearn.deciders import SimpleArgmaxAverage\n",
        "from tensorflow.keras.callbacks import EarlyStopping\n"
      ]
    },
    {
      "cell_type": "code",
      "source": [
        "seed = 1\n",
        "random.seed = seed\n",
        "np.random.seed = seed\n",
        "tf.seed = seed"
      ],
      "metadata": {
        "id": "GFnAMW6SHFHz"
      },
      "execution_count": null,
      "outputs": []
    },
    {
      "cell_type": "code",
      "source": [
        "class DataGen(keras.utils.Sequence):\n",
        "    def __init__(self, ids, path, batch_size=8, image_size=128):\n",
        "        self.ids = ids\n",
        "        self.path = path\n",
        "        self.batch_size = batch_size\n",
        "        self.image_size = image_size\n",
        "        self.img_path_correct = ''\n",
        "        self.mask_path_correct = ''\n",
        "        self.on_epoch_end()\n",
        "        \n",
        "    def __load__(self, id_name):\n",
        "        ## Path\n",
        "        image_path = os.path.join(self.path, \"ISIC2018_Task1-2_Training_Input\", id_name) + \".jpg\"\n",
        "        mask_path = os.path.join(self.path, \"ISIC2018_Task1_Training_GroundTruth\", id_name) + \"_segmentation.png\"\n",
        "        \n",
        "        ## Reading Image\n",
        "        try:\n",
        "            image = cv2.imread(image_path,1)\n",
        "            image = cv2.resize(image, (self.image_size, self.image_size))\n",
        "            mask = np.zeros((self.image_size, self.image_size, 1))\n",
        "            _mask = cv2.imread(mask_path, -1)\n",
        "            _mask = cv2.resize(_mask, (self.image_size, self.image_size))\n",
        "            _mask = np.expand_dims(_mask, axis=-1)\n",
        "            mask = np.maximum(mask, _mask)\n",
        "            \n",
        "            \n",
        "            ## Normalizaing \n",
        "            image = image/255.0\n",
        "            mask = mask/255.0\n",
        "            self.img_path_correct = image_path\n",
        "            self.mask_path_correct = mask_path\n",
        "            return image, mask\n",
        "        except:\n",
        "            if self.img_path_correct != '':\n",
        "                image = cv2.imread(self.img_path_correct,1)\n",
        "                \n",
        "                image = cv2.resize(image, (self.image_size, self.image_size))\n",
        "                image = cv2.rotate(image, cv2.cv2.ROTATE_90_CLOCKWISE)\n",
        "                mask = np.zeros((self.image_size, self.image_size, 1))\n",
        "                \n",
        "                _mask = cv2.imread(self.mask_path_correct, -1)\n",
        "                _mask = cv2.resize(_mask, (self.image_size, self.image_size))\n",
        "                _mask = np.expand_dims(_mask, axis=-1)\n",
        "                mask = np.maximum(mask, _mask)\n",
        "                mask = cv2.rotate(mask, cv2.cv2.ROTATE_90_CLOCKWISE)\n",
        "                \n",
        "                \n",
        "                ## Normalizaing \n",
        "                image = image/255.0\n",
        "                mask = mask/255.0\n",
        "                return image, mask\n",
        "            else:\n",
        "                image = np.ones((self.image_size, self.image_size))\n",
        "                mask = np.ones((self.image_size, self.image_size))\n",
        "                ## Normalizaing \n",
        "                image = image/255.0\n",
        "                mask = mask/255.0\n",
        "                \n",
        "                return image, mask\n",
        "\n",
        "    \n",
        "    def __getitem__(self, index):\n",
        "        if(index+1)*self.batch_size > len(self.ids):\n",
        "            self.batch_size = len(self.ids) - index*self.batch_size\n",
        "        \n",
        "        files_batch = self.ids[index*self.batch_size : (index+1)*self.batch_size]\n",
        "        \n",
        "        image = []\n",
        "        mask  = []\n",
        "        \n",
        "        for id_name in files_batch:\n",
        "            _img, _mask = self.__load__(id_name)\n",
        "            image.append(_img)\n",
        "            mask.append(_mask)\n",
        "            \n",
        "        image = tf.convert_to_tensor(image)\n",
        "        mask  = tf.convert_to_tensor(mask)\n",
        "        \n",
        "        return image, mask\n",
        "    \n",
        "    def on_epoch_end(self):\n",
        "        pass\n",
        "    \n",
        "    def __len__(self):\n",
        "        return int(np.ceil(len(self.ids)/float(self.batch_size)))"
      ],
      "metadata": {
        "id": "G1Vqb_1EHHbF"
      },
      "execution_count": null,
      "outputs": []
    },
    {
      "cell_type": "code",
      "source": [
        "image_size = 128\n",
        "path = \"./\"\n",
        "train_path = \"./ISIC2018_Task1-2_Training_Input\"\n",
        "\n",
        "## Training Ids\n",
        "train_ids = []\n",
        "for files in os.walk(train_path):\n",
        "   for name in files:\n",
        "      train_ids.append(name)\n",
        "\n",
        "train_ids = train_ids[2]\n",
        "ids = [i.split('.', 1)[0] for i in train_ids]\n",
        "\n",
        "def get_images(data_path, ids, image_size):\n",
        "    images = np.zeros((len(ids), image_size, image_size, 3))\n",
        "    masks = np.zeros((len(ids), image_size, image_size, 1))\n",
        "\n",
        "    for i, id_name in enumerate(ids):\n",
        "        image_path = os.path.join(data_path, \"ISIC2018_Task1-2_Training_Input\", id_name) + \".jpg\"\n",
        "        mask_path = os.path.join(data_path, \"ISIC2018_Task1_Training_GroundTruth\", id_name) + \"_segmentation.png\"\n",
        "        image = cv2.imread(image_path,1)\n",
        "        image = cv2.resize(image, (image_size, image_size))\n",
        "        mask = np.zeros((image_size, image_size, 1))\n",
        "        _mask = cv2.imread(mask_path, -1)\n",
        "        _mask = cv2.resize(_mask, (image_size, image_size))\n",
        "        _mask = np.expand_dims(_mask, axis=-1)\n",
        "        mask = np.maximum(mask, _mask)\n",
        "        \n",
        "        \n",
        "        ## Normalizaing \n",
        "        images[i,:,:,:] = image/255.0\n",
        "        masks[i,:,:,:] = np.rint(mask/255.0)\n",
        "    return images, masks"
      ],
      "metadata": {
        "id": "YELt0yNqHPuh"
      },
      "execution_count": null,
      "outputs": []
    },
    {
      "cell_type": "code",
      "source": [
        "x, y = get_images(path, ids[:20], image_size)"
      ],
      "metadata": {
        "id": "2fSx1MIOLmS6"
      },
      "execution_count": null,
      "outputs": []
    },
    {
      "cell_type": "code",
      "source": [
        "r = random.randint(0, len(x)-1)\n",
        "\n",
        "fig = plt.figure()\n",
        "fig.subplots_adjust(hspace=0.4, wspace=0.4)\n",
        "ax = fig.add_subplot(1, 2, 1)\n",
        "ax.imshow(x[r])\n",
        "ax = fig.add_subplot(1, 2, 2)\n",
        "ax.imshow(np.reshape(np.rint(y[r]), (image_size, image_size)), cmap=\"gray\")"
      ],
      "metadata": {
        "colab": {
          "base_uri": "https://localhost:8080/",
          "height": 209
        },
        "id": "WaopbxB7HUk0",
        "outputId": "320687d0-8f62-4cba-b7d0-c5c5784f1b68"
      },
      "execution_count": null,
      "outputs": [
        {
          "output_type": "execute_result",
          "data": {
            "text/plain": [
              "<matplotlib.image.AxesImage at 0x7fb044ae3b10>"
            ]
          },
          "metadata": {},
          "execution_count": 5
        },
        {
          "output_type": "display_data",
          "data": {
            "text/plain": [
              "<Figure size 432x288 with 2 Axes>"
            ],
            "image/png": "[encoded data removed]"
          },
          "metadata": {
            "needs_background": "light"
          }
        }
      ]
    },
    {
      "cell_type": "code",
      "source": [
        "def down_block(x, filters, kernel_size=(3, 3), padding=\"same\", strides=1):\n",
        "    c = keras.layers.Conv2D(filters, kernel_size, padding=padding, strides=strides, activation=\"relu\")(x)\n",
        "    c = keras.layers.Conv2D(filters, kernel_size, padding=padding, strides=strides, activation=\"relu\")(c)\n",
        "    p = keras.layers.MaxPool2D((2, 2), (2, 2))(c)\n",
        "    return c, p\n",
        "\n",
        "def up_block(x, skip, filters, kernel_size=(3, 3), padding=\"same\", strides=1):\n",
        "    us = keras.layers.UpSampling2D((2, 2))(x)\n",
        "    concat = keras.layers.Concatenate()([us, skip])\n",
        "    c = keras.layers.Conv2D(filters, kernel_size, padding=padding, strides=strides, activation=\"relu\")(concat)\n",
        "    c = keras.layers.Conv2D(filters, kernel_size, padding=padding, strides=strides, activation=\"relu\")(c)\n",
        "    return c\n",
        "\n",
        "def bottleneck(x, filters, kernel_size=(3, 3), padding=\"same\", strides=1):\n",
        "    c = keras.layers.Conv2D(filters, kernel_size, padding=padding, strides=strides, activation=\"relu\")(x)\n",
        "    c = keras.layers.Conv2D(filters, kernel_size, padding=padding, strides=strides, activation=\"relu\")(c)\n",
        "    return c"
      ],
      "metadata": {
        "id": "8LaCDFbgHXBq"
      },
      "execution_count": null,
      "outputs": []
    },
    {
      "cell_type": "code",
      "source": [
        "def UNet():\n",
        "    f = [16, 32, 64, 128, 256]\n",
        "    inputs = keras.layers.Input((image_size, image_size, 3))\n",
        "    \n",
        "    p0 = inputs\n",
        "    c1, p1 = down_block(p0, f[0]) \n",
        "    c2, p2 = down_block(p1, f[1]) \n",
        "    c3, p3 = down_block(p2, f[2])\n",
        "    c4, p4 = down_block(p3, f[3]) \n",
        "    \n",
        "    bn = bottleneck(p4, f[4])\n",
        "    \n",
        "    u1 = up_block(bn, c4, f[3]) #8 -> 16\n",
        "    u2 = up_block(u1, c3, f[2]) #16 -> 32\n",
        "    u3 = up_block(u2, c2, f[1]) #32 -> 64\n",
        "    u4 = up_block(u3, c1, f[0]) #64 -> 128\n",
        "    \n",
        "    outputs = keras.layers.Conv2D(1, (1, 1), padding=\"same\", activation=\"sigmoid\")(u4)\n",
        "    model = keras.models.Model(inputs, outputs)\n",
        "    return model"
      ],
      "metadata": {
        "id": "TJhb1QNkHZV_"
      },
      "execution_count": null,
      "outputs": []
    },
    {
      "cell_type": "code",
      "source": [
        "def dice(seg, gt):\n",
        "    intersection = tf.reduce_sum(tf.cast(tf.equal(seg, gt), tf.float32))\n",
        "    return intersection * 2.0 / tf.cast(tf.size(seg) + tf.size(gt), tf.float32)\n"
      ],
      "metadata": {
        "id": "yfSKmB1eHbpL"
      },
      "execution_count": null,
      "outputs": []
    },
    {
      "cell_type": "code",
      "source": [
        "# hyperparameters\n",
        "\n",
        "num_tasks = 10\n",
        "batch_size = 50\n",
        "network_batch_size = 10\n",
        "test_batch_size = batch_size // num_tasks"
      ],
      "metadata": {
        "id": "LGwdpgkaH6Y5"
      },
      "execution_count": null,
      "outputs": []
    },
    {
      "cell_type": "code",
      "source": [
        "accuracies = np.full((num_tasks + 1, num_tasks, num_tasks), np.nan)\n",
        "\n",
        "random.shuffle(ids)\n",
        "\n",
        "data_ids = ids[:(num_tasks+1) * batch_size]\n",
        "kf = KFold(n_splits=num_tasks+1)\n",
        "for i, (train_index, test_index) in enumerate(kf.split(data_ids)):\n",
        "    train_ids = [data_ids[i] for i in train_index]\n",
        "    test_ids = [data_ids[i] for i in test_index]\n",
        "\n",
        "    for task in range(0, num_tasks):\n",
        "        clear_session()\n",
        "\n",
        "        network = UNet()\n",
        "        transformer = NeuralClassificationTransformer\n",
        "\n",
        "        kwargs = {\n",
        "                \"network\": network,\n",
        "                \"euclidean_layer_idx\": -2,\n",
        "                \"loss\": \"categorical_crossentropy\",\n",
        "                \"optimizer\": Adam(1e-3),\n",
        "                \"fit_kwargs\": {\n",
        "                    \"epochs\": 100,\n",
        "                    \"callbacks\": [EarlyStopping(patience=5, monitor=\"val_loss\")],\n",
        "                    \"verbose\": False,\n",
        "                    \"validation_split\": 0.33,\n",
        "                    \"batch_size\": network_batch_size,\n",
        "                },\n",
        "            }\n",
        "        voter = voters.MLKNNClassificationVoter\n",
        "\n",
        "        learner = ProgressiveLearner(\n",
        "                default_transformer_class=transformer,\n",
        "                default_transformer_kwargs=kwargs,\n",
        "                default_voter_class=voter\n",
        "            )\n",
        "\n",
        "\n",
        "        X_train, Y_train = get_images(path, train_ids[task * batch_size:(task + 1)*batch_size], image_size)\n",
        "        print(np.unique(Y_train))\n",
        "        learner.add_task(\n",
        "                    X=X_train,\n",
        "                    y=Y_train,\n",
        "                    task_id=task,\n",
        "                    num_transformers=1,\n",
        "                    transformer_voter_decider_split=[0.67, 0.33, 0],\n",
        "                    decider_kwargs={\n",
        "                        \"classes\": np.unique(Y_train)\n",
        "                    },\n",
        "                )\n",
        "        \n",
        "        for t in range(task):\n",
        "            X_test, Y_test = get_images(path, test_ids[t*test_batch_size:(t+1)*test_batch_size])\n",
        "            prediction = learner.predict(\n",
        "                X_test,\n",
        "                task_id=t\n",
        "            )\n",
        "            accuracies[i][task][t] = np.mean(Y_test == prediction)\n",
        "\n",
        "            X_train, Y_train = get_images(path, train_ids[t * batch_size:(t + 1)*batch_size], image_size)\n",
        "\n",
        "            learner.add_task(\n",
        "                    X=X_train,\n",
        "                    y=Y_train,\n",
        "                    task_id=t,\n",
        "                    num_transformers=1,\n",
        "                    transformer_voter_decider_split=[0.67, 0.33, 0],\n",
        "                    decider_kwargs={\n",
        "                        \"classes\": np.unique(Y_train)\n",
        "                    },\n",
        "                )\n",
        "        \n",
        "        X_test, Y_test = get_images(path, test_ids[task*test_batch_size:(task+1)*test_batch_size])\n",
        "        prediction = learner.predict(\n",
        "            X_test,\n",
        "            task_id=task\n",
        "        )\n",
        "\n",
        "        accuracies[i][task][task] = np.mean(Y_test == prediction)\n",
        "\n",
        "        for t in range(task+1, num_tasks):\n",
        "            X_test, Y_test = get_images(path, test_ids[t*test_batch_size:(t+1)*test_batch_size])\n",
        "            prediction = learner.predict(\n",
        "                X_test,\n",
        "                task_id=t\n",
        "            )\n",
        "            accuracies[i][task][t] = np.mean(Y_test == prediction)\n",
        "\n",
        "            X_train, Y_train = get_images(path, train_ids[t * batch_size:(t + 1)*batch_size], image_size)\n",
        "\n",
        "            learner.add_task(\n",
        "                    X=X_train,\n",
        "                    y=Y_train,\n",
        "                    task_id=t,\n",
        "                    num_transformers=1,\n",
        "                    transformer_voter_decider_split=[0.67, 0.33, 0],\n",
        "                    decider_kwargs={\n",
        "                        \"classes\": np.unique(Y_train)\n",
        "                    },\n",
        "                )"
      ],
      "metadata": {
        "colab": {
          "base_uri": "https://localhost:8080/",
          "height": 432
        },
        "id": "msY8WDIqHdmN",
        "outputId": "ea6e102b-188e-41b6-decc-ffd97f83153c"
      },
      "execution_count": null,
      "outputs": [
        {
          "output_type": "stream",
          "name": "stdout",
          "text": [
            "[0. 1.]\n"
          ]
        },
        {
          "output_type": "error",
          "ename": "ValueError",
          "evalue": "ignored",
          "traceback": [
            "\u001b[0;31m---------------------------------------------------------------------------\u001b[0m",
            "\u001b[0;31mValueError\u001b[0m                                Traceback (most recent call last)",
            "\u001b[0;32m<ipython-input-9-c86ff192a1cf>\u001b[0m in \u001b[0;36m<module>\u001b[0;34m()\u001b[0m\n\u001b[1;32m     46\u001b[0m                     \u001b[0mtransformer_voter_decider_split\u001b[0m\u001b[0;34m=\u001b[0m\u001b[0;34m[\u001b[0m\u001b[0;36m0.67\u001b[0m\u001b[0;34m,\u001b[0m \u001b[0;36m0.33\u001b[0m\u001b[0;34m,\u001b[0m \u001b[0;36m0\u001b[0m\u001b[0;34m]\u001b[0m\u001b[0;34m,\u001b[0m\u001b[0;34m\u001b[0m\u001b[0;34m\u001b[0m\u001b[0m\n\u001b[1;32m     47\u001b[0m                     decider_kwargs={\n\u001b[0;32m---> 48\u001b[0;31m                         \u001b[0;34m\"classes\"\u001b[0m\u001b[0;34m:\u001b[0m \u001b[0mnp\u001b[0m\u001b[0;34m.\u001b[0m\u001b[0munique\u001b[0m\u001b[0;34m(\u001b[0m\u001b[0mY_train\u001b[0m\u001b[0;34m)\u001b[0m\u001b[0;34m\u001b[0m\u001b[0;34m\u001b[0m\u001b[0m\n\u001b[0m\u001b[1;32m     49\u001b[0m                     },\n\u001b[1;32m     50\u001b[0m                 )\n",
            "\u001b[0;32m/usr/local/lib/python3.7/dist-packages/proglearn/progressive_learner.py\u001b[0m in \u001b[0;36madd_task\u001b[0;34m(self, X, y, task_id, transformer_voter_decider_split, num_transformers, transformer_class, transformer_kwargs, voter_class, voter_kwargs, decider_class, decider_kwargs, backward_task_ids, forward_transformer_ids)\u001b[0m\n\u001b[1;32m    667\u001b[0m                 \u001b[0mtransformer_class\u001b[0m\u001b[0;34m=\u001b[0m\u001b[0mtransformer_class\u001b[0m\u001b[0;34m,\u001b[0m\u001b[0;34m\u001b[0m\u001b[0;34m\u001b[0m\u001b[0m\n\u001b[1;32m    668\u001b[0m                 \u001b[0mtransformer_kwargs\u001b[0m\u001b[0;34m=\u001b[0m\u001b[0mtransformer_kwargs\u001b[0m\u001b[0;34m,\u001b[0m\u001b[0;34m\u001b[0m\u001b[0;34m\u001b[0m\u001b[0m\n\u001b[0;32m--> 669\u001b[0;31m                 \u001b[0mbackward_task_ids\u001b[0m\u001b[0;34m=\u001b[0m\u001b[0mbackward_task_ids\u001b[0m\u001b[0;34m,\u001b[0m\u001b[0;34m\u001b[0m\u001b[0;34m\u001b[0m\u001b[0m\n\u001b[0m\u001b[1;32m    670\u001b[0m             )\n\u001b[1;32m    671\u001b[0m \u001b[0;34m\u001b[0m\u001b[0m\n",
            "\u001b[0;32m/usr/local/lib/python3.7/dist-packages/proglearn/progressive_learner.py\u001b[0m in \u001b[0;36m_add_transformer\u001b[0;34m(self, X, y, transformer_data_proportion, transformer_voter_data_idx, transformer_id, num_transformers, transformer_class, transformer_kwargs, backward_task_ids)\u001b[0m\n\u001b[1;32m    268\u001b[0m                 \u001b[0mtransformer_data_idx\u001b[0m\u001b[0;34m=\u001b[0m\u001b[0mtransformer_data_idx\u001b[0m\u001b[0;34m,\u001b[0m\u001b[0;34m\u001b[0m\u001b[0;34m\u001b[0m\u001b[0m\n\u001b[1;32m    269\u001b[0m                 \u001b[0mtransformer_class\u001b[0m\u001b[0;34m=\u001b[0m\u001b[0mtransformer_class\u001b[0m\u001b[0;34m,\u001b[0m\u001b[0;34m\u001b[0m\u001b[0;34m\u001b[0m\u001b[0m\n\u001b[0;32m--> 270\u001b[0;31m                 \u001b[0mtransformer_kwargs\u001b[0m\u001b[0;34m=\u001b[0m\u001b[0mtransformer_kwargs\u001b[0m\u001b[0;34m,\u001b[0m\u001b[0;34m\u001b[0m\u001b[0;34m\u001b[0m\u001b[0m\n\u001b[0m\u001b[1;32m    271\u001b[0m             )\n\u001b[1;32m    272\u001b[0m             \u001b[0mvoter_data_idx\u001b[0m \u001b[0;34m=\u001b[0m \u001b[0mnp\u001b[0m\u001b[0;34m.\u001b[0m\u001b[0mdelete\u001b[0m\u001b[0;34m(\u001b[0m\u001b[0mtransformer_voter_data_idx\u001b[0m\u001b[0;34m,\u001b[0m \u001b[0mtransformer_data_idx\u001b[0m\u001b[0;34m)\u001b[0m\u001b[0;34m\u001b[0m\u001b[0;34m\u001b[0m\u001b[0m\n",
            "\u001b[0;32m/usr/local/lib/python3.7/dist-packages/proglearn/progressive_learner.py\u001b[0m in \u001b[0;36mset_transformer\u001b[0;34m(self, transformer_id, transformer, transformer_data_idx, transformer_class, transformer_kwargs)\u001b[0m\n\u001b[1;32m    351\u001b[0m             \u001b[0;31m# Type check y\u001b[0m\u001b[0;34m\u001b[0m\u001b[0;34m\u001b[0m\u001b[0;34m\u001b[0m\u001b[0m\n\u001b[1;32m    352\u001b[0m             self._append_transformer(\n\u001b[0;32m--> 353\u001b[0;31m                 \u001b[0mtransformer_id\u001b[0m\u001b[0;34m,\u001b[0m \u001b[0mtransformer_class\u001b[0m\u001b[0;34m(\u001b[0m\u001b[0;34m**\u001b[0m\u001b[0mtransformer_kwargs\u001b[0m\u001b[0;34m)\u001b[0m\u001b[0;34m.\u001b[0m\u001b[0mfit\u001b[0m\u001b[0;34m(\u001b[0m\u001b[0mX\u001b[0m\u001b[0;34m,\u001b[0m \u001b[0my\u001b[0m\u001b[0;34m)\u001b[0m\u001b[0;34m\u001b[0m\u001b[0;34m\u001b[0m\u001b[0m\n\u001b[0m\u001b[1;32m    354\u001b[0m             )\n\u001b[1;32m    355\u001b[0m \u001b[0;34m\u001b[0m\u001b[0m\n",
            "\u001b[0;32m/content/transformers.py\u001b[0m in \u001b[0;36mfit\u001b[0;34m(self, X, y)\u001b[0m\n\u001b[1;32m     95\u001b[0m             \u001b[0mThe\u001b[0m \u001b[0mobject\u001b[0m \u001b[0mitself\u001b[0m\u001b[0;34m.\u001b[0m\u001b[0;34m\u001b[0m\u001b[0;34m\u001b[0m\u001b[0m\n\u001b[1;32m     96\u001b[0m         \"\"\"\n\u001b[0;32m---> 97\u001b[0;31m         \u001b[0mcheck_X_y\u001b[0m\u001b[0;34m(\u001b[0m\u001b[0mX\u001b[0m\u001b[0;34m,\u001b[0m \u001b[0my\u001b[0m\u001b[0;34m,\u001b[0m \u001b[0mensure_2d\u001b[0m\u001b[0;34m=\u001b[0m\u001b[0;32mFalse\u001b[0m\u001b[0;34m,\u001b[0m \u001b[0mallow_nd\u001b[0m\u001b[0;34m=\u001b[0m\u001b[0;32mTrue\u001b[0m\u001b[0;34m,\u001b[0m \u001b[0mmulti_output\u001b[0m \u001b[0;34m=\u001b[0m \u001b[0;32mTrue\u001b[0m\u001b[0;34m)\u001b[0m\u001b[0;34m\u001b[0m\u001b[0;34m\u001b[0m\u001b[0m\n\u001b[0m\u001b[1;32m     98\u001b[0m         \u001b[0m_\u001b[0m\u001b[0;34m,\u001b[0m \u001b[0my\u001b[0m \u001b[0;34m=\u001b[0m \u001b[0mnp\u001b[0m\u001b[0;34m.\u001b[0m\u001b[0munique\u001b[0m\u001b[0;34m(\u001b[0m\u001b[0my\u001b[0m\u001b[0;34m,\u001b[0m \u001b[0mreturn_inverse\u001b[0m\u001b[0;34m=\u001b[0m\u001b[0;32mTrue\u001b[0m\u001b[0;34m)\u001b[0m\u001b[0;34m\u001b[0m\u001b[0;34m\u001b[0m\u001b[0m\n\u001b[1;32m     99\u001b[0m \u001b[0;34m\u001b[0m\u001b[0m\n",
            "\u001b[0;32m/usr/local/lib/python3.7/dist-packages/sklearn/utils/validation.py\u001b[0m in \u001b[0;36mcheck_X_y\u001b[0;34m(X, y, accept_sparse, accept_large_sparse, dtype, order, copy, force_all_finite, ensure_2d, allow_nd, multi_output, ensure_min_samples, ensure_min_features, y_numeric, estimator)\u001b[0m\n\u001b[1;32m    977\u001b[0m     )\n\u001b[1;32m    978\u001b[0m \u001b[0;34m\u001b[0m\u001b[0m\n\u001b[0;32m--> 979\u001b[0;31m     \u001b[0my\u001b[0m \u001b[0;34m=\u001b[0m \u001b[0m_check_y\u001b[0m\u001b[0;34m(\u001b[0m\u001b[0my\u001b[0m\u001b[0;34m,\u001b[0m \u001b[0mmulti_output\u001b[0m\u001b[0;34m=\u001b[0m\u001b[0mmulti_output\u001b[0m\u001b[0;34m,\u001b[0m \u001b[0my_numeric\u001b[0m\u001b[0;34m=\u001b[0m\u001b[0my_numeric\u001b[0m\u001b[0;34m)\u001b[0m\u001b[0;34m\u001b[0m\u001b[0;34m\u001b[0m\u001b[0m\n\u001b[0m\u001b[1;32m    980\u001b[0m \u001b[0;34m\u001b[0m\u001b[0m\n\u001b[1;32m    981\u001b[0m     \u001b[0mcheck_consistent_length\u001b[0m\u001b[0;34m(\u001b[0m\u001b[0mX\u001b[0m\u001b[0;34m,\u001b[0m \u001b[0my\u001b[0m\u001b[0;34m)\u001b[0m\u001b[0;34m\u001b[0m\u001b[0;34m\u001b[0m\u001b[0m\n",
            "\u001b[0;32m/usr/local/lib/python3.7/dist-packages/sklearn/utils/validation.py\u001b[0m in \u001b[0;36m_check_y\u001b[0;34m(y, multi_output, y_numeric)\u001b[0m\n\u001b[1;32m    988\u001b[0m     \u001b[0;32mif\u001b[0m \u001b[0mmulti_output\u001b[0m\u001b[0;34m:\u001b[0m\u001b[0;34m\u001b[0m\u001b[0;34m\u001b[0m\u001b[0m\n\u001b[1;32m    989\u001b[0m         y = check_array(\n\u001b[0;32m--> 990\u001b[0;31m             \u001b[0my\u001b[0m\u001b[0;34m,\u001b[0m \u001b[0maccept_sparse\u001b[0m\u001b[0;34m=\u001b[0m\u001b[0;34m\"csr\"\u001b[0m\u001b[0;34m,\u001b[0m \u001b[0mforce_all_finite\u001b[0m\u001b[0;34m=\u001b[0m\u001b[0;32mTrue\u001b[0m\u001b[0;34m,\u001b[0m \u001b[0mensure_2d\u001b[0m\u001b[0;34m=\u001b[0m\u001b[0;32mFalse\u001b[0m\u001b[0;34m,\u001b[0m \u001b[0mdtype\u001b[0m\u001b[0;34m=\u001b[0m\u001b[0;32mNone\u001b[0m\u001b[0;34m\u001b[0m\u001b[0;34m\u001b[0m\u001b[0m\n\u001b[0m\u001b[1;32m    991\u001b[0m         )\n\u001b[1;32m    992\u001b[0m     \u001b[0;32melse\u001b[0m\u001b[0;34m:\u001b[0m\u001b[0;34m\u001b[0m\u001b[0;34m\u001b[0m\u001b[0m\n",
            "\u001b[0;32m/usr/local/lib/python3.7/dist-packages/sklearn/utils/validation.py\u001b[0m in \u001b[0;36mcheck_array\u001b[0;34m(array, accept_sparse, accept_large_sparse, dtype, order, copy, force_all_finite, ensure_2d, allow_nd, ensure_min_samples, ensure_min_features, estimator)\u001b[0m\n\u001b[1;32m    794\u001b[0m             raise ValueError(\n\u001b[1;32m    795\u001b[0m                 \u001b[0;34m\"Found array with dim %d. %s expected <= 2.\"\u001b[0m\u001b[0;34m\u001b[0m\u001b[0;34m\u001b[0m\u001b[0m\n\u001b[0;32m--> 796\u001b[0;31m                 \u001b[0;34m%\u001b[0m \u001b[0;34m(\u001b[0m\u001b[0marray\u001b[0m\u001b[0;34m.\u001b[0m\u001b[0mndim\u001b[0m\u001b[0;34m,\u001b[0m \u001b[0mestimator_name\u001b[0m\u001b[0;34m)\u001b[0m\u001b[0;34m\u001b[0m\u001b[0;34m\u001b[0m\u001b[0m\n\u001b[0m\u001b[1;32m    797\u001b[0m             )\n\u001b[1;32m    798\u001b[0m \u001b[0;34m\u001b[0m\u001b[0m\n",
            "\u001b[0;31mValueError\u001b[0m: Found array with dim 4. Estimator expected <= 2."
          ]
        }
      ]
    },
    {
      "cell_type": "code",
      "source": [
        "accuracies = np.mean(accuracies, axis=0)\n",
        "\n",
        "fte = [(1 - accuracies[t][0])/(1 - accuracies[t][t]) for t in range(num_tasks)]\n",
        "bte = [[(1 - accuracies[t][t])/(1 - accuracies[t][k]) for k in range(t, num_tasks)] for t in range(num_tasks)]\n",
        "te = [[fte[t] / bte[t][k] for k in range(len(bte[t]))] for t in range(num_tasks)]"
      ],
      "metadata": {
        "id": "OmbLrJrdJ7op"
      },
      "execution_count": null,
      "outputs": []
    },
    {
      "cell_type": "code",
      "source": [
        "plt.figure()\n",
        "ax, fig = plt.subplots(2, 2, figsize=(16, 11.5))\n",
        "\n",
        "# fte\n",
        "ax[0][0].plot(np.arange(1, num_tasks + 1), fte)\n",
        "ax[0][0].set_xlabel(\"Number of tasks seen\")\n",
        "ax[0][0].set_ylabel(\"FTE\")\n",
        "\n",
        "# bte\n",
        "for t in range(num_tasks):\n",
        "    ax[0][1].plot(np.arange(t+1, num_tasks+1), np.array(bte[t]))\n",
        "ax[0][1].set_xlabel(\"Number of tasks seen\")\n",
        "ax[0][1].set_ylabel(\"BTE\")\n",
        "\n",
        "# te\n",
        "for t in range(num_tasks):\n",
        "    ax[0][1].plot(np.arange(t+1, num_tasks+1), np.array(te[t]))\n",
        "ax[1][0].set_xlabel(\"Number of tasks seen\")\n",
        "ax[1][0].set_ylabel(\"TE\")\n",
        "\n",
        "# accuracy\n",
        "for t in range(num_tasks):\n",
        "    ax[0][1].plot(np.arange(t+1, num_tasks+1), np.array(accuracies[t][t:]))\n",
        "ax[1][0].set_xlabel(\"Number of tasks seen\")\n",
        "ax[1][0].set_ylabel(\"Accuracy\")"
      ],
      "metadata": {
        "id": "XNhfmuumE0ZH"
      },
      "execution_count": null,
      "outputs": []
    }
  ]
}