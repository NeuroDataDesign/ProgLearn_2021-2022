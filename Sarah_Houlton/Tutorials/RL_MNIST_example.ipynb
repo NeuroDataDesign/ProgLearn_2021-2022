{
 "cells": [
  {
   "cell_type": "code",
   "execution_count": 1,
   "metadata": {},
   "outputs": [],
   "source": [
    "import numpy as np\n",
    "import pandas as pd\n",
    "import matplotlib.pyplot as plt\n",
    "import gym\n",
    "import gym_classification"
   ]
  },
  {
   "cell_type": "code",
   "execution_count": 2,
   "metadata": {},
   "outputs": [
    {
     "name": "stderr",
     "output_type": "stream",
     "text": [
      "Using TensorFlow backend.\n"
     ]
    }
   ],
   "source": [
    "import keras\n",
    "from keras.datasets import mnist\n",
    "from keras.models import Sequential\n",
    "from keras.layers import Dense, Dropout, Flatten\n",
    "from keras.layers import Conv2D, MaxPooling2D\n",
    "from keras import backend as K"
   ]
  },
  {
   "cell_type": "markdown",
   "metadata": {},
   "source": [
    "## Import data and scale to input "
   ]
  },
  {
   "cell_type": "code",
   "execution_count": 3,
   "metadata": {},
   "outputs": [],
   "source": [
    "from keras.datasets import mnist\n",
    "\n",
    "(x_train, y_train), (x_test, y_test) = mnist.load_data()\n",
    "x_train = x_train.astype(np.float32)/255"
   ]
  },
  {
   "cell_type": "code",
   "execution_count": 4,
   "metadata": {},
   "outputs": [
    {
     "name": "stdout",
     "output_type": "stream",
     "text": [
      "_________________________________________________________________\n",
      "Layer (type)                 Output Shape              Param #   \n",
      "=================================================================\n",
      "conv2d_1 (Conv2D)            (None, 26, 26, 32)        320       \n",
      "_________________________________________________________________\n",
      "conv2d_2 (Conv2D)            (None, 24, 24, 64)        18496     \n",
      "_________________________________________________________________\n",
      "max_pooling2d_1 (MaxPooling2 (None, 12, 12, 64)        0         \n",
      "_________________________________________________________________\n",
      "dropout_1 (Dropout)          (None, 12, 12, 64)        0         \n",
      "_________________________________________________________________\n",
      "flatten_1 (Flatten)          (None, 9216)              0         \n",
      "_________________________________________________________________\n",
      "dense_1 (Dense)              (None, 128)               1179776   \n",
      "_________________________________________________________________\n",
      "dropout_2 (Dropout)          (None, 128)               0         \n",
      "_________________________________________________________________\n",
      "dense_2 (Dense)              (None, 10)                1290      \n",
      "=================================================================\n",
      "Total params: 1,199,882\n",
      "Trainable params: 1,199,882\n",
      "Non-trainable params: 0\n",
      "_________________________________________________________________\n",
      "None\n",
      "Epoch 000/005 | Loss 1119.0601 | Tot reward x episode 31504 \n",
      "Epoch 001/005 | Loss 625.9454 | Tot reward x episode 39599 \n",
      "Epoch 002/005 | Loss 377.4859 | Tot reward x episode 50177 \n",
      "Epoch 003/005 | Loss 255.1230 | Tot reward x episode 52658 \n",
      "Epoch 004/005 | Loss 166.0167 | Tot reward x episode 58520 \n"
     ]
    }
   ],
   "source": [
    "X = x_train\n",
    "y = y_train\n",
    "\n",
    "batch_size = 100\n",
    "\n",
    "input_shape = (X.shape[1],X.shape[2],1)\n",
    "\n",
    " # Initialization of the enviroment\n",
    "env = gym.make('gym_classification:RLClassification-v0')\n",
    "\n",
    "# Fill values\n",
    "env.init_dataset(X,y,batch_size=batch_size,output_shape=input_shape)\n",
    "\n",
    "\n",
    "# RL parameters\n",
    "valid_actions = env.action_space\n",
    "num_actions = valid_actions.n\n",
    "epsilon = .1  # exploration\n",
    "num_episodes = 5\n",
    "iterations_episode = 100\n",
    "\n",
    "decay_rate = 0.99\n",
    "gamma = 0.001\n",
    "\n",
    "\n",
    "# Network arquitecture\n",
    "model = Sequential()\n",
    "model.add(Conv2D(32, kernel_size=(3, 3),\n",
    "                activation='relu',\n",
    "                input_shape=input_shape))\n",
    "model.add(Conv2D(64, (3, 3), activation='relu'))\n",
    "model.add(MaxPooling2D(pool_size=(2, 2)))\n",
    "model.add(Dropout(0.25))\n",
    "model.add(Flatten())\n",
    "model.add(Dense(128, activation='relu'))\n",
    "model.add(Dropout(0.5))\n",
    "model.add(Dense(num_actions, activation='softmax'))\n",
    "\n",
    "model.compile(loss=keras.losses.categorical_crossentropy,\n",
    "              optimizer=keras.optimizers.Adadelta(),\n",
    "              metrics=['accuracy'])\n",
    "\n",
    "\n",
    "print(model.summary())\n",
    "\n",
    "\n",
    "# history saving\n",
    "reward_chain = []\n",
    "loss_chain = []\n",
    "\n",
    "\n",
    "\n",
    "# Main loop\n",
    "for epoch in range(num_episodes):\n",
    "    loss = 0.\n",
    "    total_reward_by_episode = 0\n",
    "    # Reset enviromet, actualize the data batch\n",
    "    states = env.reset()\n",
    "\n",
    "    done = False\n",
    "\n",
    "    # Define exploration to improve performance\n",
    "    exploration = 1\n",
    "    # Iteration in one episode\n",
    "    q = np.zeros([batch_size,num_actions])\n",
    "    #for i_iteration in range(iterations_episode):\n",
    "\n",
    "    i_iteration = 0\n",
    "    while not done:\n",
    "        i_iteration += 1\n",
    "\n",
    "        # get next action\n",
    "        if exploration > 0.001:\n",
    "            exploration = epsilon*decay_rate**(epoch*i_iteration)            \n",
    "\n",
    "        if np.random.rand() <= exploration:\n",
    "            actions = np.random.randint(0, num_actions,batch_size)\n",
    "        else:\n",
    "            q = model.predict(states)\n",
    "            actions = np.argmax(q,axis=1)\n",
    "\n",
    "        # apply actions, get rewards and new state\n",
    "        next_states, reward, done, _ = env.step(actions)\n",
    "\n",
    "        next_states = next_states\n",
    "        \n",
    "        q_prime = model.predict(next_states)\n",
    "\n",
    "        indx = np.argmax(q_prime,axis=1)\n",
    "        sx = np.arange(len(indx))\n",
    "        # Update q values\n",
    "        targets = reward + gamma * q[sx,indx]   \n",
    "        q[sx,actions] = targets\n",
    "\n",
    "        # Train network, update loss\n",
    "        loss += model.train_on_batch(states, q)[0]\n",
    "\n",
    "        # Update the state\n",
    "        states = next_states\n",
    "\n",
    "        total_reward_by_episode += int(sum(reward))\n",
    "\n",
    "    if next_states.shape[0] != batch_size:\n",
    "            break # finished df\n",
    "    reward_chain.append(total_reward_by_episode)    \n",
    "    loss_chain.append(loss)\n",
    "\n",
    "    print(\"\\rEpoch {:03d}/{:03d} | Loss {:4.4f} | Tot reward x episode {:03d} \".format(epoch,\n",
    "          num_episodes ,loss, total_reward_by_episode))\n"
   ]
  },
  {
   "cell_type": "code",
   "execution_count": 5,
   "metadata": {},
   "outputs": [],
   "source": [
    "# Evaluate model\n",
    "from sklearn.metrics import classification_report\n",
    "x_test = x_test.astype(np.float32)/255\n",
    "q_prime = model.predict(x_test.reshape(-1,x_test.shape[1],x_test.shape[2],1))\n",
    "predictions = np.argmax(q_prime,axis=1)"
   ]
  },
  {
   "cell_type": "code",
   "execution_count": 6,
   "metadata": {},
   "outputs": [
    {
     "name": "stdout",
     "output_type": "stream",
     "text": [
      "              precision    recall  f1-score   support\n",
      "\n",
      "           0       0.98      0.99      0.99       980\n",
      "           1       0.99      0.99      0.99      1135\n",
      "           2       0.97      0.97      0.97      1032\n",
      "           3       0.99      0.96      0.98      1010\n",
      "           4       0.99      0.98      0.99       982\n",
      "           5       0.98      0.99      0.98       892\n",
      "           6       0.99      0.98      0.98       958\n",
      "           7       0.97      0.98      0.98      1028\n",
      "           8       0.96      0.98      0.97       974\n",
      "           9       0.99      0.97      0.98      1009\n",
      "\n",
      "   micro avg       0.98      0.98      0.98     10000\n",
      "   macro avg       0.98      0.98      0.98     10000\n",
      "weighted avg       0.98      0.98      0.98     10000\n",
      "\n"
     ]
    }
   ],
   "source": [
    "# Print classification report\n",
    "print(classification_report(y_test,predictions))"
   ]
  },
  {
   "cell_type": "code",
   "execution_count": 19,
   "metadata": {},
   "outputs": [
    {
     "data": {
      "image/png": "[encoded data removed]",
      "text/plain": [
       "<Figure size 1800x288 with 20 Axes>"
      ]
     },
     "metadata": {},
     "output_type": "display_data"
    }
   ],
   "source": [
    "fig = plt.figure(figsize=(25, 4))\n",
    "ran = np.random.randint(0,len(x_test),1)\n",
    "\n",
    "for idx in np.arange(20):\n",
    "    image = x_test[idx+ran,:,:].reshape(28,28)\n",
    "    label = y_test[idx+ran]\n",
    "    predicted = np.argmax(model.predict(x_test[idx+ran,:,:].reshape(1,28,28,1)))\n",
    "    ax = fig.add_subplot(2, 10, idx+1, xticks=[], yticks=[])\n",
    "    plt.imshow(image,cmap='gray')\n",
    "    if predicted==label:\n",
    "        color = 'green'\n",
    "    else:\n",
    "        color = 'red'\n",
    "    ax.set_title(f\"Pred:{predicted}    Label:{label}\",color=color)"
   ]
  },
  {
   "cell_type": "code",
   "execution_count": null,
   "metadata": {},
   "outputs": [],
   "source": []
  }
 ],
 "metadata": {
  "kernelspec": {
   "display_name": "Python 3",
   "language": "python",
   "name": "python3"
  },
  "language_info": {
   "codemirror_mode": {
    "name": "ipython",
    "version": 3
   },
   "file_extension": ".py",
   "mimetype": "text/x-python",
   "name": "python",
   "nbconvert_exporter": "python",
   "pygments_lexer": "ipython3",
   "version": "3.6.7"
  }
 },
 "nbformat": 4,
 "nbformat_minor": 2
}
